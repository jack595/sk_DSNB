{
 "cells": [
  {
   "cell_type": "code",
   "execution_count": 1,
   "metadata": {
    "collapsed": true,
    "pycharm": {
     "name": "#%%\n"
    }
   },
   "outputs": [],
   "source": [
    "import matplotlib.pylab as plt\n",
    "import numpy as np\n",
    "import pandas as pd\n",
    "import seaborn as sns\n",
    "from IPython.display import display\n",
    "plt.style.use([\"science\",\"no-latex\", \"/afs/ihep.ac.cn/users/l/luoxj/Style/Paper.mplstyle\"])\n",
    "%config InlineBackend.figure_format = 'svg'\n",
    "#plt.rcParams['figure.dpi'] = 300\n",
    "#plt.rcParams['savefig.dpi'] = 300\n",
    "import sys\n",
    "sys.path.append(\"/afs/ihep.ac.cn/users/l/luoxj/root_tool/python_script/\")"
   ]
  },
  {
   "cell_type": "code",
   "execution_count": 29,
   "outputs": [
    {
     "name": "stdout",
     "output_type": "stream",
     "text": [
      "tau1CONSTANT\n",
      "Energy:\t 0.6747912*MeV/mm,29.574236*MeV/mm,122.773224*MeV/mm\n",
      "Values:\t 4.93,4.93,4.93\n",
      "tau2CONSTANT\n",
      "Energy:\t 0.6747912*MeV/mm,29.574236*MeV/mm,122.773224*MeV/mm\n",
      "Values:\t 20.6,34,35\n",
      "tau3CONSTANT\n",
      "Energy:\t 0.6747912*MeV/mm,29.574236*MeV/mm,122.773224*MeV/mm\n",
      "Values:\t 190,220,220\n"
     ]
    }
   ],
   "source": [
    "import glob\n",
    "v_files = glob.glob(\"/afs/ihep.ac.cn/users/l/luoxj/scratchfs_juno_500G/J21v1r0-Pre2_dE_dx_dependent/data/Simulation/DetSim/Material/LS/tau*CONSTANT\")\n",
    "for file in v_files:\n",
    "    print(file.split(\"/\")[-1])\n",
    "    v_str = np.loadtxt(file,dtype=str)\n",
    "    print(\"Energy:\\t\",\",\".join([time+unit for time,unit in zip(v_str[:,0], v_str[:,1])]))\n",
    "    print(\"Values:\\t\",\",\".join(v_str[:,2]))\n"
   ],
   "metadata": {
    "collapsed": false,
    "pycharm": {
     "name": "#%%\n"
    }
   }
  }
 ],
 "metadata": {
  "kernelspec": {
   "display_name": "Python 3",
   "language": "python",
   "name": "python3"
  },
  "language_info": {
   "codemirror_mode": {
    "name": "ipython",
    "version": 2
   },
   "file_extension": ".py",
   "mimetype": "text/x-python",
   "name": "python",
   "nbconvert_exporter": "python",
   "pygments_lexer": "ipython2",
   "version": "2.7.6"
  }
 },
 "nbformat": 4,
 "nbformat_minor": 0
}