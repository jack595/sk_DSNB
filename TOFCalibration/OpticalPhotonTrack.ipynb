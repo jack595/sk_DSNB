{
 "cells": [
  {
   "cell_type": "code",
   "execution_count": null,
   "metadata": {
    "collapsed": true,
    "pycharm": {
     "is_executing": true
    }
   },
   "outputs": [],
   "source": [
    "import matplotlib.pylab as plt\n",
    "import numpy as np\n",
    "plt.style.use(\"/afs/ihep.ac.cn/users/l/luoxj/Style/Paper.mplstyle\")\n",
    "%config InlineBackend.figure_format = 'svg'\n",
    "import sys\n",
    "sys.path.append(\"/afs/ihep.ac.cn/users/l/luoxj/root_tool/python_script/\")\n",
    "\n",
    "from importlib import reload\n",
    "import PlotTrackOfProcess\n",
    "reload(PlotTrackOfProcess)\n",
    "import uproot4 as up\n",
    "from PlotTrackOfProcess import PlotTrackOfProcess\n",
    "from PlotDetectorGeometry import PlotBaseSphere\n",
    "\n",
    "import os\n",
    "path_savefig = \"/afs/ihep.ac.cn/users/l/luoxj/TOFCalibration/figure/\"\n",
    "if not os.path.exists(path_savefig):\n",
    "    os.makedirs(path_savefig)\n",
    "\n",
    "track_tool = PlotTrackOfProcess()\n",
    "track_tool.SetPMTMap(\"/afs/ihep.ac.cn/users/l/luoxj/scratchfs_juno_500G/J21v2r0-trunk/data/Detector/Geometry/PMTPos_CD_LPMT.csv\")"
   ]
  },
  {
   "cell_type": "code",
   "execution_count": null,
   "outputs": [],
   "source": [
    "%matplotlib qt\n",
    "# list_z_plot = [\"16526.6\",\"0\",\"-16526.6\"]\n",
    "# list_z_plot = [\"0\",\"-16526.6\"]\n",
    "list_z_plot = [\"0\"]\n",
    "for i,z in enumerate(list_z_plot):\n",
    "    track_tool.SetDataset(f\"root://junoeos01.ihep.ac.cn//eos/juno/user/luoxj/TOFCalibration/detsim/user-detsim-{z}.root\")\n",
    "    fig = plt.figure(i)\n",
    "    ax = fig.add_subplot(111, projection='3d')\n",
    "    PlotBaseSphere(ax,R=17.5e3)\n",
    "\n",
    "    for i in range(1):\n",
    "    # for i in [0]:\n",
    "        track_tool.PlotOpticalTrack_HitCertainPMT(evtID=i,ax=ax,fig=fig)\n",
    "\n",
    "    # fig.savefig(path_savefig+f\"track_of_optical_photon_{z}.png\")\n",
    "plt.show()"
   ],
   "metadata": {
    "collapsed": false,
    "pycharm": {
     "name": "#%%\n",
     "is_executing": true
    }
   }
  },
  {
   "cell_type": "code",
   "execution_count": null,
   "outputs": [],
   "source": [],
   "metadata": {
    "collapsed": false,
    "pycharm": {
     "name": "#%%\n",
     "is_executing": true
    }
   }
  },
  {
   "cell_type": "code",
   "execution_count": null,
   "outputs": [],
   "source": [],
   "metadata": {
    "collapsed": false,
    "pycharm": {
     "name": "#%%\n",
     "is_executing": true
    }
   }
  }
 ],
 "metadata": {
  "kernelspec": {
   "display_name": "Python 3",
   "language": "python",
   "name": "python3"
  },
  "language_info": {
   "codemirror_mode": {
    "name": "ipython",
    "version": 2
   },
   "file_extension": ".py",
   "mimetype": "text/x-python",
   "name": "python",
   "nbconvert_exporter": "python",
   "pygments_lexer": "ipython2",
   "version": "2.7.6"
  }
 },
 "nbformat": 4,
 "nbformat_minor": 0
}