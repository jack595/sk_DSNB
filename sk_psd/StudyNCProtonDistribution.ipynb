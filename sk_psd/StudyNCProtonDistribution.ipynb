{
 "cells": [
  {
   "cell_type": "code",
   "execution_count": null,
   "metadata": {
    "collapsed": true
   },
   "outputs": [],
   "source": [
    "import matplotlib.pylab as plt\n",
    "import numpy as np\n",
    "plt.style.use(\"/afs/ihep.ac.cn/users/l/luoxj/Style/Paper.mplstyle\")\n",
    "%config InlineBackend.figure_format = 'svg'\n",
    "import sys\n",
    "sys.path.append(\"/afs/ihep.ac.cn/users/l/luoxj/root_tool/python_script/\")\n",
    "\n",
    "import uproot4 as up\n",
    "up.lazy(\"root://junoeos01.ihep.ac.cn//eos/juno/user/chengjie/PSDdata-J20/AtmNC/Model-G/Ana/atmfit_*.root\")\n",
    "\n"
   ]
  }
 ],
 "metadata": {
  "kernelspec": {
   "display_name": "Python 3",
   "language": "python",
   "name": "python3"
  },
  "language_info": {
   "codemirror_mode": {
    "name": "ipython",
    "version": 2
   },
   "file_extension": ".py",
   "mimetype": "text/x-python",
   "name": "python",
   "nbconvert_exporter": "python",
   "pygments_lexer": "ipython2",
   "version": "2.7.6"
  }
 },
 "nbformat": 4,
 "nbformat_minor": 0
}