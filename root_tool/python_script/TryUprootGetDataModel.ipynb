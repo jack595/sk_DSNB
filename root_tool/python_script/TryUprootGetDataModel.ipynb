{
 "cells": [
  {
   "cell_type": "code",
   "execution_count": 16,
   "metadata": {
    "collapsed": true
   },
   "outputs": [],
   "source": [
    "import uproot4 as up\n",
    "import numpy as np\n",
    "f = up.open(\"root://junoeos01.ihep.ac.cn//eos/juno/user/luoxj/Sim_DSNB/Gamma/detsim/root/detsim-8.root\")[\"/Event/Sim/SimEvent/\"]\n",
    "\n",
    "dir_data = f.arrays([\"m_nhits\", \"m_cd_hits\"],library=\"np\", entry_start=0,entry_stop=2)"
   ]
  },
  {
   "cell_type": "code",
   "execution_count": 44,
   "outputs": [
    {
     "name": "stdout",
     "output_type": "stream",
     "text": [
      "<JM::SimPMTHit (version 6) at 0x7fa75c891bb0>\n"
     ]
    }
   ],
   "source": [
    "print(np.array(dir_data[\"m_cd_hits\"][0][0]))\n"
   ],
   "metadata": {
    "collapsed": false,
    "pycharm": {
     "name": "#%%\n"
    }
   }
  },
  {
   "cell_type": "code",
   "execution_count": 36,
   "outputs": [
    {
     "data": {
      "text/plain": "-1"
     },
     "execution_count": 36,
     "metadata": {},
     "output_type": "execute_result"
    },
    {
     "name": "stderr",
     "output_type": "stream",
     "text": [
      "/cvmfs/juno.ihep.ac.cn/centos7_amd64_gcc830/Pre-Release/J20v2r0-Pre2//setup.sh: line 3: source: bashrc.sh: file not found\n",
      "Error in <TUnixSystem::FindDynamicLibrary>: libSimEvent[.so | .dll | .dylib | .sl | .dl | .a] does not exist in /afs/ihep.ac.cn/users/l/luoxj/gpu_500G/anaconda3/envs/tf/x86_64-conda-linux-gnu/lib/:.:/junofs/users/luoxj/miniconda3/envs/tf/lib:/lib64/tls/x86_64:/lib64/tls:/lib64/x86_64:/lib64:/usr/lib64/tls/x86_64:/usr/lib64/tls:/usr/lib64/x86_64:/usr/lib64:/afs/ihep.ac.cn/users/l/luoxj/junofs_500G/miniconda3/envs/tf/lib:/afs/ihep.ac.cn/users/l/luoxj/junofs_500G/miniconda3/envs/tf/lib\n",
      "Error in <TUnixSystem::FindDynamicLibrary>: libEDMUtil[.so | .dll | .dylib | .sl | .dl | .a] does not exist in /afs/ihep.ac.cn/users/l/luoxj/gpu_500G/anaconda3/envs/tf/x86_64-conda-linux-gnu/lib/:.:/junofs/users/luoxj/miniconda3/envs/tf/lib:/lib64/tls/x86_64:/lib64/tls:/lib64/x86_64:/lib64:/usr/lib64/tls/x86_64:/usr/lib64/tls:/usr/lib64/x86_64:/usr/lib64:/afs/ihep.ac.cn/users/l/luoxj/junofs_500G/miniconda3/envs/tf/lib:/afs/ihep.ac.cn/users/l/luoxj/junofs_500G/miniconda3/envs/tf/lib\n"
     ]
    }
   ],
   "source": [
    "import ROOT\n",
    "import os \n",
    "os.system(\"source /afs/ihep.ac.cn/users/l/luoxj/junofs_500G/J20v2r0-Pre2/bashrc\")\n",
    "ROOT.gSystem.Load(\"libSimEvent\")\n",
    "ROOT.gSystem.Load(\"libEDMUtil\")"
   ],
   "metadata": {
    "collapsed": false,
    "pycharm": {
     "name": "#%%\n"
    }
   }
  },
  {
   "cell_type": "code",
   "execution_count": 34,
   "outputs": [
    {
     "ename": "AttributeError",
     "evalue": "'NoneType' object has no attribute 'getCDHitsVec'",
     "output_type": "error",
     "traceback": [
      "\u001B[0;31m---------------------------------------------------------------------------\u001B[0m",
      "\u001B[0;31mAttributeError\u001B[0m                            Traceback (most recent call last)",
      "\u001B[0;32m<ipython-input-34-5be7e22bb489>\u001B[0m in \u001B[0;36m<module>\u001B[0;34m\u001B[0m\n\u001B[1;32m      3\u001B[0m \u001B[0mtree\u001B[0m\u001B[0;34m.\u001B[0m\u001B[0mGetEntries\u001B[0m\u001B[0;34m(\u001B[0m\u001B[0;34m)\u001B[0m\u001B[0;34m\u001B[0m\u001B[0;34m\u001B[0m\u001B[0m\n\u001B[1;32m      4\u001B[0m \u001B[0ma\u001B[0m \u001B[0;34m=\u001B[0m \u001B[0mgetattr\u001B[0m\u001B[0;34m(\u001B[0m\u001B[0mtree\u001B[0m\u001B[0;34m,\u001B[0m \u001B[0;34m\"SimEvent\"\u001B[0m\u001B[0;34m,\u001B[0m \u001B[0;32mNone\u001B[0m\u001B[0;34m)\u001B[0m\u001B[0;34m\u001B[0m\u001B[0;34m\u001B[0m\u001B[0m\n\u001B[0;32m----> 5\u001B[0;31m \u001B[0ma\u001B[0m\u001B[0;34m.\u001B[0m\u001B[0mgetCDHitsVec\u001B[0m\u001B[0;34m(\u001B[0m\u001B[0;34m)\u001B[0m\u001B[0;34m\u001B[0m\u001B[0;34m\u001B[0m\u001B[0m\n\u001B[0m",
      "\u001B[0;31mAttributeError\u001B[0m: 'NoneType' object has no attribute 'getCDHitsVec'"
     ]
    }
   ],
   "source": [
    "file = ROOT.TFile.Open(\"root://junoeos01.ihep.ac.cn//eos/juno/user/luoxj/Sim_DSNB/Gamma/detsim/root/detsim-8.root\")\n",
    "tree = file.Get(\"/Event/Sim/SimEvent\")\n",
    "tree.GetEntries()\n",
    "a = getattr(tree, \"SimEvent\", None)\n",
    "a.getCDHitsVec()"
   ],
   "metadata": {
    "collapsed": false,
    "pycharm": {
     "name": "#%%\n"
    }
   }
  }
 ],
 "metadata": {
  "kernelspec": {
   "display_name": "Python 3",
   "language": "python",
   "name": "python3"
  },
  "language_info": {
   "codemirror_mode": {
    "name": "ipython",
    "version": 2
   },
   "file_extension": ".py",
   "mimetype": "text/x-python",
   "name": "python",
   "nbconvert_exporter": "python",
   "pygments_lexer": "ipython2",
   "version": "2.7.6"
  }
 },
 "nbformat": 4,
 "nbformat_minor": 0
}