{
 "cells": [
  {
   "cell_type": "code",
   "execution_count": 1,
   "metadata": {
    "collapsed": true
   },
   "outputs": [],
   "source": [
    "import matplotlib.pylab as plt\n",
    "import numpy as np\n",
    "import pandas as pd\n",
    "import seaborn as sns\n",
    "from IPython.display import display\n",
    "plt.style.use([\"science\",\"no-latex\", \"/afs/ihep.ac.cn/users/l/luoxj/Style/Paper.mplstyle\"])\n",
    "%config InlineBackend.figure_format = 'svg'\n",
    "#plt.rcParams['figure.dpi'] = 300\n",
    "#plt.rcParams['savefig.dpi'] = 300\n",
    "import sys\n",
    "sys.path.append(\"/afs/ihep.ac.cn/users/l/luoxj/root_tool/python_script/\")"
   ]
  },
  {
   "cell_type": "code",
   "execution_count": 2,
   "outputs": [
    {
     "name": "stderr",
     "output_type": "stream",
     "text": [
      "ERROR:root:Internal Python error in the inspect module.\n",
      "Below is the traceback from this internal error.\n",
      "\n",
      "\n",
      "KeyboardInterrupt\n",
      "\n"
     ]
    }
   ],
   "source": [
    "from importlib import reload\n",
    "import DataReader\n",
    "reload(DataReader)\n",
    "from DataReader import WaveDumpReader,Workflow_WaveformRec,SubtractBaseline, WaveformRec\n",
    "from copy import copy\n",
    "\n",
    "# dir_path = {\"w/ source(R add Oil 2)\":\"/afs/ihep.ac.cn/users/l/luoxj/Data_PMT_test_dEdxExp/Add_source_Am241_trigger_3_LPMT_addSiOil_2/wave0.dat\",\n",
    "#             \"w/ source(R add Oil)\":\"/afs/ihep.ac.cn/users/l/luoxj/Data_PMT_test_dEdxExp/Add_source_Am241_trigger_3_LPMT_addSiOil/wave0.dat\",\n",
    "#             \"w/o source(R add Oil)\":\"/afs/ihep.ac.cn/users/l/luoxj/Data_PMT_test_dEdxExp/Without_source_Am241_trigger_3_LPMT_addSiOil/wave0.dat\"\n",
    "#             }\n",
    "# dir_path = {\"w/ source(vertical)\":\"/afs/ihep.ac.cn/users/l/luoxj/Data_PMT_test_dEdxExp/Add_source_Am241_trigger_2_LPMT_R_vertical_5/wave0.dat\",\n",
    "#                 \"w/o source(vertical)\":\"/afs/ihep.ac.cn/users/l/luoxj/Data_PMT_test_dEdxExp/Without_source_Am241_vertical/wave0.dat\",\n",
    "#             \"w/o source(vertical)\":\"/afs/ihep.ac.cn/users/l/luoxj/Data_PMT_test_dEdxExp/Without_source_Am241_vertical/wave0.dat\"}\n",
    "dir_path = {\n",
    "            \"w/ Bi207 Source(R sample2)\":\"/afs/ihep.ac.cn/users/l/luoxj/Data_PMT_test_dEdxExp/Add_source_Bi207_trigger_10_LPMT_R2_vertical_5/wave0.dat\",\n",
    "            \"w/ Bi207 Source(0.5%Te sample2)\":\"/afs/ihep.ac.cn/users/l/luoxj/Data_PMT_test_dEdxExp/Add_source_Bi207_trigger_10_LPMT_0_5%Te2_vertical_5/wave0.dat\",\n",
    "            \"w/ Bi207 Source(1%Te sample2)\":\"/afs/ihep.ac.cn/users/l/luoxj/Data_PMT_test_dEdxExp/Add_source_Bi207_trigger_10_LPMT_1%Te2_vertical_5/wave0.dat\",\n",
    "            \"w/ Bi207 Source(R sample1)\":\"/afs/ihep.ac.cn/users/l/luoxj/Data_PMT_test_dEdxExp/Add_source_Bi207_trigger_10_LPMT_R1_vertical_5/wave0.dat\",\n",
    "            \"w/ Bi207 Source(0.5%Te sample1)\":\"/afs/ihep.ac.cn/users/l/luoxj/Data_PMT_test_dEdxExp/Add_source_Bi207_trigger_10_LPMT_0_5%Te1_vertical_5/wave0.dat\",\n",
    "            \"w/ Bi207 Source(1%Te sample1)\":\"/afs/ihep.ac.cn/users/l/luoxj/Data_PMT_test_dEdxExp/Add_source_Bi207_trigger_10_LPMT_1%Te1_vertical_5/wave0.dat\",\n",
    "            # \"w/ Bi207 Source(R sample2) with hat\":\"/afs/ihep.ac.cn/users/l/luoxj/Data_PMT_test_dEdxExp/Add_source_Bi207_trigger_10_LPMT_R2_vertical_5_with_hat/wave0.dat\",\n",
    "            # \"w/ Bi207 Source(R sample2) 2\":\"/afs/ihep.ac.cn/users/l/luoxj/Data_PMT_test_dEdxExp/Add_source_Bi207_trigger_10_LPMT_R2_vertical_5_1/wave0.dat\",\n",
    "            # \"w/o Bi207 Source\":\"/afs/ihep.ac.cn/users/l/luoxj/Data_PMT_test_dEdxExp/Without_source_Bi207_trigger_10_LPMT/wave0.dat\"\n",
    "            }\n",
    "# \"w/ source(vertical R2_3)\":\"/afs/ihep.ac.cn/users/l/luoxj/Data_PMT_test_dEdxExp/Add_source_Am241_trigger_2_LPMT_R2_vertical_5_3/wave0.dat\",\n",
    "# \"w/ source(vertical R2_2)\":\"/afs/ihep.ac.cn/users/l/luoxj/Data_PMT_test_dEdxExp/Add_source_Am241_trigger_2_LPMT_R2_vertical_5_2/wave0.dat\",\n",
    "# \"w/ source(vertical R2_1)\":\"/afs/ihep.ac.cn/users/l/luoxj/Data_PMT_test_dEdxExp/Add_source_Am241_trigger_2_LPMT_R2_vertical_5/wave0.dat\",\n",
    "# \"w/ source(vertical 1%Te2)\":\"/afs/ihep.ac.cn/users/l/luoxj/Data_PMT_test_dEdxExp/Add_source_Am241_trigger_2_LPMT_1%Te2_vertical_5/wave0.dat\",\n",
    "# \"w/ source(vertical 0.5%Te1)\":\"/afs/ihep.ac.cn/users/l/luoxj/Data_PMT_test_dEdxExp/Add_source_Am241_trigger_2_LPMT_0_5%Te1_vertical_5/wave0.dat\",\n",
    "# \"w/ source(vertical 0.5%Te2)\":\"/afs/ihep.ac.cn/users/l/luoxj/Data_PMT_test_dEdxExp/Add_source_Am241_trigger_2_LPMT_0_5%Te2_vertical_5_2/wave0.dat\"\n",
    "dir_df_data = {}\n",
    "for key,path in dir_path.items():\n",
    "    df_data = WaveDumpReader(path,nEvts=-1)\n",
    "    df_data = df_data[1000:].reset_index()\n",
    "    df_data_signal = Workflow_WaveformRec(df_data,plot_check=False, threshold_times_std=5,width_threshold=4)\n",
    "    del df_data\n",
    "    dir_df_data[key] = copy(df_data_signal)"
   ],
   "metadata": {
    "collapsed": false,
    "pycharm": {
     "name": "#%%\n"
    }
   }
  },
  {
   "cell_type": "code",
   "execution_count": null,
   "outputs": [],
   "source": [
    "# key = \"w/ Bi207 source(vertical R2_1)\"\n",
    "# from DataReader import WaveformRec\n",
    "# for wave in dir_df_data[key][\"waveform_sub_base\"][dir_df_data[key][\"charge_max\"]<200][:10]:\n",
    "#     plt.figure()\n",
    "#     WaveformRec(wave, plot_check=True, threshold_times_std=5)\n",
    "#     plt.xlim(380,500)\n"
   ],
   "metadata": {
    "collapsed": false,
    "pycharm": {
     "name": "#%%\n"
    }
   }
  },
  {
   "cell_type": "code",
   "execution_count": null,
   "outputs": [],
   "source": [
    "from DataReader import  GetTQArrays\n",
    "dir_TQ_diff_source = {}\n",
    "for key,df_data_signal in dir_df_data.items():\n",
    "    dir_TQ = GetTQArrays(df_data_signal[(df_data_signal[\"triggerTime\"]>0e9) & (df_data_signal[\"triggerTime\"]<4e9)])\n",
    "    dir_TQ_diff_source[key] = dir_TQ\n"
   ],
   "metadata": {
    "collapsed": false,
    "pycharm": {
     "name": "#%%\n"
    }
   }
  },
  {
   "cell_type": "code",
   "execution_count": null,
   "outputs": [],
   "source": [
    "for key,dir_TQ in dir_TQ_diff_source.items():\n",
    "    plt.hist(dir_TQ[\"T\"], bins=range(200, 1000,2),histtype=\"step\",density=True,\n",
    "             label=key)\n",
    "plt.xlabel(\"Time in DAQ Window [ ns ]\")\n",
    "plt.ylabel(\"Normalized Count\")\n",
    "plt.legend()"
   ],
   "metadata": {
    "collapsed": false,
    "pycharm": {
     "name": "#%%\n"
    }
   }
  },
  {
   "cell_type": "code",
   "execution_count": null,
   "outputs": [],
   "source": [
    "dir_h = {}\n",
    "from PlotTools import AutoGetColorWithALotOfLine\n",
    "for i, (key,dir_TQ) in enumerate(dir_TQ_diff_source.items()):\n",
    "    if \"w/o\" in key or \") 2\" in key or \"with hat\" in key:\n",
    "        continue\n",
    "    color = AutoGetColorWithALotOfLine(i)\n",
    "    h = plt.hist(dir_TQ[\"Q\"][(dir_TQ[\"valley\"]>-2)], bins=np.arange(-10,8000,15), histtype=\"step\",density=False,\n",
    "             label=key,color=color,ls=(\"--\" if \"sample2\" in key else \"-\") )\n",
    "    dir_h[key] = h[0]\n",
    "# plt.semilogy()\n",
    "# plt.xlim(0,)\n",
    "plt.legend()\n",
    "plt.xlabel(\"Integral [ ADC$\\cdot$ns ]\")\n",
    "plt.ylabel(\"Count of Hits\")\n",
    "plt.title(\"Spectrum\")"
   ],
   "metadata": {
    "collapsed": false,
    "pycharm": {
     "name": "#%%\n"
    }
   }
  },
  {
   "cell_type": "markdown",
   "source": [
    "# Save TQ information"
   ],
   "metadata": {
    "collapsed": false
   }
  },
  {
   "cell_type": "code",
   "execution_count": null,
   "outputs": [],
   "source": [
    "np.savez(\"Spectrum.npz\", dir_TQ_diff_source=dir_TQ_diff_source)\n"
   ],
   "metadata": {
    "collapsed": false,
    "pycharm": {
     "name": "#%%\n"
    }
   }
  },
  {
   "cell_type": "code",
   "execution_count": null,
   "outputs": [],
   "source": [
    "# for key, h in dir_h.items():\n",
    "#     plt.plot(h)\n",
    "# plt.plot( dir_h[\"w/ source(vertical)\"]-dir_h[\"w/o source(vertical R)\"] )"
   ],
   "metadata": {
    "collapsed": false,
    "pycharm": {
     "name": "#%%\n"
    }
   }
  },
  {
   "cell_type": "code",
   "execution_count": null,
   "outputs": [],
   "source": [
    "for i, (key,df_data_signal) in enumerate( dir_df_data.items() ):\n",
    "    if \"w/o\" in key or \") 2\" in key or \"with hat\" in key:\n",
    "        continue\n",
    "    plt.hist(df_data_signal[\"triggerTime\"],bins=np.linspace(0,0.2e9,50), histtype=\"step\", label=key,\n",
    "             ls=(\"--\" if \"sample2\" in key else \"-\"))\n",
    "plt.legend(loc=\"lower right\")\n",
    "# plt.ylim(1500, 2500)\n",
    "plt.xlabel(\"Trigger Time Stamp [ us ]\")\n",
    "plt.ylabel(\"Count\")\n",
    "plt.title(\"Event Rate Monitor\")"
   ],
   "metadata": {
    "collapsed": false,
    "pycharm": {
     "name": "#%%\n"
    }
   }
  },
  {
   "cell_type": "code",
   "execution_count": null,
   "outputs": [],
   "source": [
    "for i, (key,df_data_signal) in enumerate( dir_df_data.items() ):\n",
    "    if \"w/o\" not in key and \"w/ Bi207 Source(R sample2)\" not in key :\n",
    "        continue\n",
    "    plt.hist(df_data_signal[\"triggerTime\"],bins=np.linspace(0,0.2e9,50), histtype=\"step\", label=key)\n",
    "plt.legend(loc=\"lower right\")\n",
    "# plt.ylim(1500, 2500)\n",
    "# plt.semilogy()\n",
    "plt.xlabel(\"Trigger Time Stamp [ us ]\")\n",
    "plt.ylabel(\"Count\")\n",
    "plt.title(\"Event Rate Monitor\")"
   ],
   "metadata": {
    "collapsed": false,
    "pycharm": {
     "name": "#%%\n"
    }
   }
  },
  {
   "cell_type": "code",
   "execution_count": null,
   "outputs": [],
   "source": [
    "for key,dir_TQ in dir_TQ_diff_source.items():\n",
    "    plt.hist(dir_TQ[\"amplitude\"][(dir_TQ[\"valley\"]>-2)], bins=np.arange(-10,60), histtype=\"step\",density=True,\n",
    "             label=key)\n",
    "    # plt.hist(dir_TQ[\"Q\"], bins=np.arange(-10,50), histtype=\"step\",density=True,\n",
    "    #          label=key)\n",
    "    # plt.figure()\n",
    "    # plt.hist2d(dir_TQ[\"Q\"],dir_TQ[\"valley\"], bins=(100,100),cmap=\"Blues\")\n",
    "plt.legend()\n",
    "plt.xlabel(\"Amplitude [ ADC ]\")\n",
    "plt.ylabel(\"Count of Hits\")"
   ],
   "metadata": {
    "collapsed": false,
    "pycharm": {
     "name": "#%%\n"
    }
   }
  },
  {
   "cell_type": "code",
   "execution_count": null,
   "outputs": [],
   "source": [],
   "metadata": {
    "collapsed": false,
    "pycharm": {
     "name": "#%%\n"
    }
   }
  }
 ],
 "metadata": {
  "kernelspec": {
   "display_name": "Python 3",
   "language": "python",
   "name": "python3"
  },
  "language_info": {
   "codemirror_mode": {
    "name": "ipython",
    "version": 2
   },
   "file_extension": ".py",
   "mimetype": "text/x-python",
   "name": "python",
   "nbconvert_exporter": "python",
   "pygments_lexer": "ipython2",
   "version": "2.7.6"
  }
 },
 "nbformat": 4,
 "nbformat_minor": 0
}