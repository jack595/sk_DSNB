{
 "cells": [
  {
   "cell_type": "code",
   "execution_count": 1,
   "metadata": {
    "collapsed": true
   },
   "outputs": [],
   "source": [
    "import matplotlib.pylab as plt\n",
    "import numpy as np\n",
    "import pandas as pd\n",
    "import seaborn as sns\n",
    "from IPython.display import display\n",
    "plt.style.use([\"science\",\"no-latex\", \"/afs/ihep.ac.cn/users/l/luoxj/Style/Paper.mplstyle\"])\n",
    "%config InlineBackend.figure_format = 'svg'\n",
    "#plt.rcParams['figure.dpi'] = 300\n",
    "#plt.rcParams['savefig.dpi'] = 300\n",
    "import sys\n",
    "sys.path.append(\"/afs/ihep.ac.cn/users/l/luoxj/root_tool/python_script/\")"
   ]
  },
  {
   "cell_type": "code",
   "execution_count": null,
   "outputs": [
    {
     "name": "stderr",
     "output_type": "stream",
     "text": [
      "ERROR:root:Internal Python error in the inspect module.\n",
      "Below is the traceback from this internal error.\n",
      "\n",
      "ERROR:root:Internal Python error in the inspect module.\n",
      "Below is the traceback from this internal error.\n",
      "\n",
      "ERROR:root:Internal Python error in the inspect module.\n",
      "Below is the traceback from this internal error.\n",
      "\n"
     ]
    },
    {
     "name": "stdout",
     "output_type": "stream",
     "text": [
      "Traceback (most recent call last):\n",
      "  File \"/afs/ihep.ac.cn/users/l/luoxj/.local/lib/python3.8/site-packages/IPython/core/interactiveshell.py\", line 3444, in run_code\n",
      "    exec(code_obj, self.user_global_ns, self.user_ns)\n",
      "  File \"/tmp/ipykernel_30536/3088035418.py\", line 35, in <module>\n",
      "    df_data_signal = Workflow_WaveformRec(df_data,plot_check=False, threshold_times_std=5,width_threshold=4)\n",
      "  File \"/afs/ihep.ac.cn/users/l/luoxj/root_tool/python_script/DataReader.py\", line 110, in Workflow_WaveformRec\n",
      "    dir_TQ_pairs_aWaveform = WaveformRec(wave, n_baseline=n_baseline,plot_check=plot_check,\n",
      "  File \"/afs/ihep.ac.cn/users/l/luoxj/root_tool/python_script/DataReader.py\", line 227, in WaveformRec\n",
      "    num_index_peak_extended = ExtendPeak(wave, num_index_peak, std_baseline)\n",
      "  File \"/afs/ihep.ac.cn/users/l/luoxj/root_tool/python_script/DataReader.py\", line 176, in ExtendPeak\n",
      "    if np.abs(wave[i_start-i])<=baseline and np.abs(wave[i_start-i-1])<=baseline:\n",
      "KeyboardInterrupt\n",
      "\n",
      "During handling of the above exception, another exception occurred:\n",
      "\n",
      "Traceback (most recent call last):\n",
      "  File \"/afs/ihep.ac.cn/users/l/luoxj/.local/lib/python3.8/site-packages/IPython/core/interactiveshell.py\", line 2064, in showtraceback\n",
      "    stb = value._render_traceback_()\n",
      "AttributeError: 'KeyboardInterrupt' object has no attribute '_render_traceback_'\n",
      "\n",
      "During handling of the above exception, another exception occurred:\n",
      "\n",
      "Traceback (most recent call last):\n",
      "  File \"/afs/ihep.ac.cn/users/l/luoxj/.local/lib/python3.8/site-packages/IPython/core/ultratb.py\", line 1101, in get_records\n",
      "    return _fixed_getinnerframes(etb, number_of_lines_of_context, tb_offset)\n",
      "  File \"/afs/ihep.ac.cn/users/l/luoxj/.local/lib/python3.8/site-packages/IPython/core/ultratb.py\", line 248, in wrapped\n",
      "    return f(*args, **kwargs)\n",
      "  File \"/afs/ihep.ac.cn/users/l/luoxj/.local/lib/python3.8/site-packages/IPython/core/ultratb.py\", line 281, in _fixed_getinnerframes\n",
      "    records = fix_frame_records_filenames(inspect.getinnerframes(etb, context))\n",
      "  File \"/cvmfs/juno.ihep.ac.cn/sw/anaconda/Anaconda3-2020.11-Linux-x86_64/envs/root624/lib/python3.8/inspect.py\", line 1515, in getinnerframes\n",
      "    frameinfo = (tb.tb_frame,) + getframeinfo(tb, context)\n",
      "  File \"/cvmfs/juno.ihep.ac.cn/sw/anaconda/Anaconda3-2020.11-Linux-x86_64/envs/root624/lib/python3.8/inspect.py\", line 1473, in getframeinfo\n",
      "    filename = getsourcefile(frame) or getfile(frame)\n",
      "  File \"/cvmfs/juno.ihep.ac.cn/sw/anaconda/Anaconda3-2020.11-Linux-x86_64/envs/root624/lib/python3.8/inspect.py\", line 708, in getsourcefile\n",
      "    if getattr(getmodule(object, filename), '__loader__', None) is not None:\n",
      "  File \"/cvmfs/juno.ihep.ac.cn/sw/anaconda/Anaconda3-2020.11-Linux-x86_64/envs/root624/lib/python3.8/inspect.py\", line 751, in getmodule\n",
      "    f = getabsfile(module)\n",
      "  File \"/cvmfs/juno.ihep.ac.cn/sw/anaconda/Anaconda3-2020.11-Linux-x86_64/envs/root624/lib/python3.8/inspect.py\", line 720, in getabsfile\n",
      "    _filename = getsourcefile(object) or getfile(object)\n",
      "  File \"/cvmfs/juno.ihep.ac.cn/sw/anaconda/Anaconda3-2020.11-Linux-x86_64/envs/root624/lib/python3.8/inspect.py\", line 705, in getsourcefile\n",
      "    if os.path.exists(filename):\n",
      "  File \"/cvmfs/juno.ihep.ac.cn/sw/anaconda/Anaconda3-2020.11-Linux-x86_64/envs/root624/lib/python3.8/genericpath.py\", line 19, in exists\n",
      "    os.stat(path)\n",
      "KeyboardInterrupt\n",
      "Traceback (most recent call last):\n",
      "  File \"/afs/ihep.ac.cn/users/l/luoxj/.local/lib/python3.8/site-packages/IPython/core/interactiveshell.py\", line 3444, in run_code\n",
      "    exec(code_obj, self.user_global_ns, self.user_ns)\n",
      "  File \"/tmp/ipykernel_30536/3088035418.py\", line 35, in <module>\n",
      "    df_data_signal = Workflow_WaveformRec(df_data,plot_check=False, threshold_times_std=5,width_threshold=4)\n",
      "  File \"/afs/ihep.ac.cn/users/l/luoxj/root_tool/python_script/DataReader.py\", line 110, in Workflow_WaveformRec\n",
      "    dir_TQ_pairs_aWaveform = WaveformRec(wave, n_baseline=n_baseline,plot_check=plot_check,\n",
      "  File \"/afs/ihep.ac.cn/users/l/luoxj/root_tool/python_script/DataReader.py\", line 227, in WaveformRec\n",
      "    num_index_peak_extended = ExtendPeak(wave, num_index_peak, std_baseline)\n",
      "  File \"/afs/ihep.ac.cn/users/l/luoxj/root_tool/python_script/DataReader.py\", line 176, in ExtendPeak\n",
      "    if np.abs(wave[i_start-i])<=baseline and np.abs(wave[i_start-i-1])<=baseline:\n",
      "KeyboardInterrupt\n",
      "\n",
      "During handling of the above exception, another exception occurred:\n",
      "\n",
      "Traceback (most recent call last):\n",
      "  File \"/afs/ihep.ac.cn/users/l/luoxj/.local/lib/python3.8/site-packages/IPython/core/interactiveshell.py\", line 2064, in showtraceback\n",
      "    stb = value._render_traceback_()\n",
      "AttributeError: 'KeyboardInterrupt' object has no attribute '_render_traceback_'\n",
      "\n",
      "During handling of the above exception, another exception occurred:\n",
      "\n",
      "Traceback (most recent call last):\n",
      "  File \"/afs/ihep.ac.cn/users/l/luoxj/.local/lib/python3.8/site-packages/IPython/core/interactiveshell.py\", line 3364, in run_ast_nodes\n",
      "    if (await self.run_code(code, result,  async_=asy)):\n",
      "  File \"/afs/ihep.ac.cn/users/l/luoxj/.local/lib/python3.8/site-packages/IPython/core/interactiveshell.py\", line 3461, in run_code\n",
      "    self.showtraceback(running_compiled_code=True)\n",
      "  File \"/afs/ihep.ac.cn/users/l/luoxj/.local/lib/python3.8/site-packages/IPython/core/interactiveshell.py\", line 2066, in showtraceback\n",
      "    stb = self.InteractiveTB.structured_traceback(etype,\n",
      "  File \"/afs/ihep.ac.cn/users/l/luoxj/.local/lib/python3.8/site-packages/IPython/core/ultratb.py\", line 1367, in structured_traceback\n",
      "    return FormattedTB.structured_traceback(\n",
      "  File \"/afs/ihep.ac.cn/users/l/luoxj/.local/lib/python3.8/site-packages/IPython/core/ultratb.py\", line 1267, in structured_traceback\n",
      "    return VerboseTB.structured_traceback(\n",
      "  File \"/afs/ihep.ac.cn/users/l/luoxj/.local/lib/python3.8/site-packages/IPython/core/ultratb.py\", line 1124, in structured_traceback\n",
      "    formatted_exception = self.format_exception_as_a_whole(etype, evalue, etb, number_of_lines_of_context,\n",
      "  File \"/afs/ihep.ac.cn/users/l/luoxj/.local/lib/python3.8/site-packages/IPython/core/ultratb.py\", line 1082, in format_exception_as_a_whole\n",
      "    last_unique, recursion_repeat = find_recursion(orig_etype, evalue, records)\n",
      "  File \"/afs/ihep.ac.cn/users/l/luoxj/.local/lib/python3.8/site-packages/IPython/core/ultratb.py\", line 382, in find_recursion\n",
      "    return len(records), 0\n",
      "TypeError: object of type 'NoneType' has no len()\n",
      "\n",
      "During handling of the above exception, another exception occurred:\n",
      "\n",
      "Traceback (most recent call last):\n",
      "  File \"/afs/ihep.ac.cn/users/l/luoxj/.local/lib/python3.8/site-packages/IPython/core/interactiveshell.py\", line 2064, in showtraceback\n",
      "    stb = value._render_traceback_()\n",
      "AttributeError: 'TypeError' object has no attribute '_render_traceback_'\n",
      "\n",
      "During handling of the above exception, another exception occurred:\n",
      "\n",
      "Traceback (most recent call last):\n",
      "  File \"/afs/ihep.ac.cn/users/l/luoxj/.local/lib/python3.8/site-packages/IPython/core/ultratb.py\", line 1101, in get_records\n",
      "    return _fixed_getinnerframes(etb, number_of_lines_of_context, tb_offset)\n",
      "  File \"/afs/ihep.ac.cn/users/l/luoxj/.local/lib/python3.8/site-packages/IPython/core/ultratb.py\", line 248, in wrapped\n",
      "    return f(*args, **kwargs)\n",
      "  File \"/afs/ihep.ac.cn/users/l/luoxj/.local/lib/python3.8/site-packages/IPython/core/ultratb.py\", line 281, in _fixed_getinnerframes\n",
      "    records = fix_frame_records_filenames(inspect.getinnerframes(etb, context))\n",
      "  File \"/cvmfs/juno.ihep.ac.cn/sw/anaconda/Anaconda3-2020.11-Linux-x86_64/envs/root624/lib/python3.8/inspect.py\", line 1515, in getinnerframes\n",
      "    frameinfo = (tb.tb_frame,) + getframeinfo(tb, context)\n",
      "  File \"/cvmfs/juno.ihep.ac.cn/sw/anaconda/Anaconda3-2020.11-Linux-x86_64/envs/root624/lib/python3.8/inspect.py\", line 1473, in getframeinfo\n",
      "    filename = getsourcefile(frame) or getfile(frame)\n",
      "  File \"/cvmfs/juno.ihep.ac.cn/sw/anaconda/Anaconda3-2020.11-Linux-x86_64/envs/root624/lib/python3.8/inspect.py\", line 708, in getsourcefile\n",
      "    if getattr(getmodule(object, filename), '__loader__', None) is not None:\n",
      "  File \"/cvmfs/juno.ihep.ac.cn/sw/anaconda/Anaconda3-2020.11-Linux-x86_64/envs/root624/lib/python3.8/inspect.py\", line 751, in getmodule\n",
      "    f = getabsfile(module)\n",
      "  File \"/cvmfs/juno.ihep.ac.cn/sw/anaconda/Anaconda3-2020.11-Linux-x86_64/envs/root624/lib/python3.8/inspect.py\", line 720, in getabsfile\n",
      "    _filename = getsourcefile(object) or getfile(object)\n",
      "  File \"/cvmfs/juno.ihep.ac.cn/sw/anaconda/Anaconda3-2020.11-Linux-x86_64/envs/root624/lib/python3.8/inspect.py\", line 705, in getsourcefile\n",
      "    if os.path.exists(filename):\n",
      "  File \"/cvmfs/juno.ihep.ac.cn/sw/anaconda/Anaconda3-2020.11-Linux-x86_64/envs/root624/lib/python3.8/genericpath.py\", line 19, in exists\n",
      "    os.stat(path)\n",
      "KeyboardInterrupt\n",
      "Traceback (most recent call last):\n",
      "  File \"/afs/ihep.ac.cn/users/l/luoxj/.local/lib/python3.8/site-packages/IPython/core/interactiveshell.py\", line 3444, in run_code\n",
      "    exec(code_obj, self.user_global_ns, self.user_ns)\n",
      "  File \"/tmp/ipykernel_30536/3088035418.py\", line 35, in <module>\n",
      "    df_data_signal = Workflow_WaveformRec(df_data,plot_check=False, threshold_times_std=5,width_threshold=4)\n",
      "  File \"/afs/ihep.ac.cn/users/l/luoxj/root_tool/python_script/DataReader.py\", line 110, in Workflow_WaveformRec\n",
      "    dir_TQ_pairs_aWaveform = WaveformRec(wave, n_baseline=n_baseline,plot_check=plot_check,\n",
      "  File \"/afs/ihep.ac.cn/users/l/luoxj/root_tool/python_script/DataReader.py\", line 227, in WaveformRec\n",
      "    num_index_peak_extended = ExtendPeak(wave, num_index_peak, std_baseline)\n",
      "  File \"/afs/ihep.ac.cn/users/l/luoxj/root_tool/python_script/DataReader.py\", line 176, in ExtendPeak\n",
      "    if np.abs(wave[i_start-i])<=baseline and np.abs(wave[i_start-i-1])<=baseline:\n",
      "KeyboardInterrupt\n",
      "\n",
      "During handling of the above exception, another exception occurred:\n",
      "\n",
      "Traceback (most recent call last):\n",
      "  File \"/afs/ihep.ac.cn/users/l/luoxj/.local/lib/python3.8/site-packages/IPython/core/interactiveshell.py\", line 2064, in showtraceback\n",
      "    stb = value._render_traceback_()\n",
      "AttributeError: 'KeyboardInterrupt' object has no attribute '_render_traceback_'\n",
      "\n",
      "During handling of the above exception, another exception occurred:\n",
      "\n",
      "Traceback (most recent call last):\n",
      "  File \"/afs/ihep.ac.cn/users/l/luoxj/.local/lib/python3.8/site-packages/IPython/core/interactiveshell.py\", line 3364, in run_ast_nodes\n",
      "    if (await self.run_code(code, result,  async_=asy)):\n",
      "  File \"/afs/ihep.ac.cn/users/l/luoxj/.local/lib/python3.8/site-packages/IPython/core/interactiveshell.py\", line 3461, in run_code\n",
      "    self.showtraceback(running_compiled_code=True)\n",
      "  File \"/afs/ihep.ac.cn/users/l/luoxj/.local/lib/python3.8/site-packages/IPython/core/interactiveshell.py\", line 2066, in showtraceback\n",
      "    stb = self.InteractiveTB.structured_traceback(etype,\n",
      "  File \"/afs/ihep.ac.cn/users/l/luoxj/.local/lib/python3.8/site-packages/IPython/core/ultratb.py\", line 1367, in structured_traceback\n",
      "    return FormattedTB.structured_traceback(\n",
      "  File \"/afs/ihep.ac.cn/users/l/luoxj/.local/lib/python3.8/site-packages/IPython/core/ultratb.py\", line 1267, in structured_traceback\n",
      "    return VerboseTB.structured_traceback(\n",
      "  File \"/afs/ihep.ac.cn/users/l/luoxj/.local/lib/python3.8/site-packages/IPython/core/ultratb.py\", line 1124, in structured_traceback\n",
      "    formatted_exception = self.format_exception_as_a_whole(etype, evalue, etb, number_of_lines_of_context,\n",
      "  File \"/afs/ihep.ac.cn/users/l/luoxj/.local/lib/python3.8/site-packages/IPython/core/ultratb.py\", line 1082, in format_exception_as_a_whole\n",
      "    last_unique, recursion_repeat = find_recursion(orig_etype, evalue, records)\n",
      "  File \"/afs/ihep.ac.cn/users/l/luoxj/.local/lib/python3.8/site-packages/IPython/core/ultratb.py\", line 382, in find_recursion\n",
      "    return len(records), 0\n",
      "TypeError: object of type 'NoneType' has no len()\n",
      "\n",
      "During handling of the above exception, another exception occurred:\n",
      "\n",
      "Traceback (most recent call last):\n",
      "  File \"/afs/ihep.ac.cn/users/l/luoxj/.local/lib/python3.8/site-packages/IPython/core/interactiveshell.py\", line 2064, in showtraceback\n",
      "    stb = value._render_traceback_()\n",
      "AttributeError: 'TypeError' object has no attribute '_render_traceback_'\n",
      "\n",
      "During handling of the above exception, another exception occurred:\n",
      "\n",
      "Traceback (most recent call last):\n",
      "  File \"/afs/ihep.ac.cn/users/l/luoxj/.local/lib/python3.8/site-packages/IPython/core/interactiveshell.py\", line 2947, in _run_cell\n",
      "    return runner(coro)\n",
      "  File \"/afs/ihep.ac.cn/users/l/luoxj/.local/lib/python3.8/site-packages/IPython/core/async_helpers.py\", line 68, in _pseudo_sync_runner\n",
      "    coro.send(None)\n",
      "  File \"/afs/ihep.ac.cn/users/l/luoxj/.local/lib/python3.8/site-packages/IPython/core/interactiveshell.py\", line 3172, in run_cell_async\n",
      "    has_raised = await self.run_ast_nodes(code_ast.body, cell_name,\n",
      "  File \"/afs/ihep.ac.cn/users/l/luoxj/.local/lib/python3.8/site-packages/IPython/core/interactiveshell.py\", line 3383, in run_ast_nodes\n",
      "    self.showtraceback()\n",
      "  File \"/afs/ihep.ac.cn/users/l/luoxj/.local/lib/python3.8/site-packages/IPython/core/interactiveshell.py\", line 2066, in showtraceback\n",
      "    stb = self.InteractiveTB.structured_traceback(etype,\n",
      "  File \"/afs/ihep.ac.cn/users/l/luoxj/.local/lib/python3.8/site-packages/IPython/core/ultratb.py\", line 1367, in structured_traceback\n",
      "    return FormattedTB.structured_traceback(\n",
      "  File \"/afs/ihep.ac.cn/users/l/luoxj/.local/lib/python3.8/site-packages/IPython/core/ultratb.py\", line 1267, in structured_traceback\n",
      "    return VerboseTB.structured_traceback(\n",
      "  File \"/afs/ihep.ac.cn/users/l/luoxj/.local/lib/python3.8/site-packages/IPython/core/ultratb.py\", line 1142, in structured_traceback\n",
      "    formatted_exceptions += self.format_exception_as_a_whole(etype, evalue, etb, lines_of_context,\n",
      "  File \"/afs/ihep.ac.cn/users/l/luoxj/.local/lib/python3.8/site-packages/IPython/core/ultratb.py\", line 1082, in format_exception_as_a_whole\n",
      "    last_unique, recursion_repeat = find_recursion(orig_etype, evalue, records)\n",
      "  File \"/afs/ihep.ac.cn/users/l/luoxj/.local/lib/python3.8/site-packages/IPython/core/ultratb.py\", line 382, in find_recursion\n",
      "    return len(records), 0\n",
      "TypeError: object of type 'NoneType' has no len()\n",
      "\n",
      "During handling of the above exception, another exception occurred:\n",
      "\n",
      "Traceback (most recent call last):\n",
      "  File \"/afs/ihep.ac.cn/users/l/luoxj/.local/lib/python3.8/site-packages/IPython/core/interactiveshell.py\", line 2064, in showtraceback\n",
      "    stb = value._render_traceback_()\n",
      "AttributeError: 'TypeError' object has no attribute '_render_traceback_'\n",
      "\n",
      "During handling of the above exception, another exception occurred:\n",
      "\n",
      "Traceback (most recent call last):\n",
      "  File \"/afs/ihep.ac.cn/users/l/luoxj/.local/lib/python3.8/site-packages/IPython/core/ultratb.py\", line 1101, in get_records\n",
      "    return _fixed_getinnerframes(etb, number_of_lines_of_context, tb_offset)\n",
      "  File \"/afs/ihep.ac.cn/users/l/luoxj/.local/lib/python3.8/site-packages/IPython/core/ultratb.py\", line 248, in wrapped\n",
      "    return f(*args, **kwargs)\n",
      "  File \"/afs/ihep.ac.cn/users/l/luoxj/.local/lib/python3.8/site-packages/IPython/core/ultratb.py\", line 281, in _fixed_getinnerframes\n",
      "    records = fix_frame_records_filenames(inspect.getinnerframes(etb, context))\n",
      "  File \"/cvmfs/juno.ihep.ac.cn/sw/anaconda/Anaconda3-2020.11-Linux-x86_64/envs/root624/lib/python3.8/inspect.py\", line 1515, in getinnerframes\n",
      "    frameinfo = (tb.tb_frame,) + getframeinfo(tb, context)\n",
      "  File \"/cvmfs/juno.ihep.ac.cn/sw/anaconda/Anaconda3-2020.11-Linux-x86_64/envs/root624/lib/python3.8/inspect.py\", line 1477, in getframeinfo\n",
      "    lines, lnum = findsource(frame)\n",
      "  File \"/afs/ihep.ac.cn/users/l/luoxj/.local/lib/python3.8/site-packages/IPython/core/ultratb.py\", line 182, in findsource\n",
      "    lines = linecache.getlines(file, globals_dict)\n",
      "  File \"/cvmfs/juno.ihep.ac.cn/sw/anaconda/Anaconda3-2020.11-Linux-x86_64/envs/root624/lib/python3.8/linecache.py\", line 47, in getlines\n",
      "    return updatecache(filename, module_globals)\n",
      "  File \"/cvmfs/juno.ihep.ac.cn/sw/anaconda/Anaconda3-2020.11-Linux-x86_64/envs/root624/lib/python3.8/linecache.py\", line 136, in updatecache\n",
      "    with tokenize.open(fullname) as fp:\n",
      "  File \"/cvmfs/juno.ihep.ac.cn/sw/anaconda/Anaconda3-2020.11-Linux-x86_64/envs/root624/lib/python3.8/tokenize.py\", line 394, in open\n",
      "    encoding, lines = detect_encoding(buffer.readline)\n",
      "  File \"/cvmfs/juno.ihep.ac.cn/sw/anaconda/Anaconda3-2020.11-Linux-x86_64/envs/root624/lib/python3.8/tokenize.py\", line 363, in detect_encoding\n",
      "    first = read_or_stop()\n",
      "  File \"/cvmfs/juno.ihep.ac.cn/sw/anaconda/Anaconda3-2020.11-Linux-x86_64/envs/root624/lib/python3.8/tokenize.py\", line 321, in read_or_stop\n",
      "    return readline()\n",
      "KeyboardInterrupt\n"
     ]
    }
   ],
   "source": [
    "from importlib import reload\n",
    "import DataReader\n",
    "reload(DataReader)\n",
    "from DataReader import WaveDumpReader,Workflow_WaveformRec,SubtractBaseline, WaveformRec\n",
    "from copy import copy\n",
    "\n",
    "# dir_path = {\"w/ source(R add Oil 2)\":\"/afs/ihep.ac.cn/users/l/luoxj/Data_PMT_test_dEdxExp/Add_source_Am241_trigger_3_LPMT_addSiOil_2/wave0.dat\",\n",
    "#             \"w/ source(R add Oil)\":\"/afs/ihep.ac.cn/users/l/luoxj/Data_PMT_test_dEdxExp/Add_source_Am241_trigger_3_LPMT_addSiOil/wave0.dat\",\n",
    "#             \"w/o source(R add Oil)\":\"/afs/ihep.ac.cn/users/l/luoxj/Data_PMT_test_dEdxExp/Without_source_Am241_trigger_3_LPMT_addSiOil/wave0.dat\"\n",
    "#             }\n",
    "# dir_path = {\"w/ source(vertical)\":\"/afs/ihep.ac.cn/users/l/luoxj/Data_PMT_test_dEdxExp/Add_source_Am241_trigger_2_LPMT_R_vertical_5/wave0.dat\",\n",
    "#                 \"w/o source(vertical)\":\"/afs/ihep.ac.cn/users/l/luoxj/Data_PMT_test_dEdxExp/Without_source_Am241_vertical/wave0.dat\",\n",
    "#             \"w/o source(vertical)\":\"/afs/ihep.ac.cn/users/l/luoxj/Data_PMT_test_dEdxExp/Without_source_Am241_vertical/wave0.dat\"}\n",
    "dir_path = {\n",
    "            \"w/ Bi207 Source(R sample2)\":\"/afs/ihep.ac.cn/users/l/luoxj/Data_PMT_test_dEdxExp/Add_source_Bi207_trigger_10_LPMT_R2_vertical_5/wave0.dat\",\n",
    "            \"w/ Bi207 Source(0.5%Te sample2)\":\"/afs/ihep.ac.cn/users/l/luoxj/Data_PMT_test_dEdxExp/Add_source_Bi207_trigger_10_LPMT_0_5%Te2_vertical_5/wave0.dat\",\n",
    "            \"w/ Bi207 Source(1%Te sample2)\":\"/afs/ihep.ac.cn/users/l/luoxj/Data_PMT_test_dEdxExp/Add_source_Bi207_trigger_10_LPMT_1%Te2_vertical_5/wave0.dat\",\n",
    "            \"w/ Bi207 Source(R sample1)\":\"/afs/ihep.ac.cn/users/l/luoxj/Data_PMT_test_dEdxExp/Add_source_Bi207_trigger_10_LPMT_R1_vertical_5/wave0.dat\",\n",
    "            \"w/ Bi207 Source(0.5%Te sample1)\":\"/afs/ihep.ac.cn/users/l/luoxj/Data_PMT_test_dEdxExp/Add_source_Bi207_trigger_10_LPMT_0_5%Te1_vertical_5/wave0.dat\",\n",
    "            \"w/ Bi207 Source(1%Te sample1)\":\"/afs/ihep.ac.cn/users/l/luoxj/Data_PMT_test_dEdxExp/Add_source_Bi207_trigger_10_LPMT_1%Te1_vertical_5/wave0.dat\",\n",
    "            # \"w/ Bi207 Source(R sample2) with hat\":\"/afs/ihep.ac.cn/users/l/luoxj/Data_PMT_test_dEdxExp/Add_source_Bi207_trigger_10_LPMT_R2_vertical_5_with_hat/wave0.dat\",\n",
    "            # \"w/ Bi207 Source(R sample2) 2\":\"/afs/ihep.ac.cn/users/l/luoxj/Data_PMT_test_dEdxExp/Add_source_Bi207_trigger_10_LPMT_R2_vertical_5_1/wave0.dat\",\n",
    "            # \"w/o Bi207 Source\":\"/afs/ihep.ac.cn/users/l/luoxj/Data_PMT_test_dEdxExp/Without_source_Bi207_trigger_10_LPMT/wave0.dat\"\n",
    "            }\n",
    "# \"w/ source(vertical R2_3)\":\"/afs/ihep.ac.cn/users/l/luoxj/Data_PMT_test_dEdxExp/Add_source_Am241_trigger_2_LPMT_R2_vertical_5_3/wave0.dat\",\n",
    "# \"w/ source(vertical R2_2)\":\"/afs/ihep.ac.cn/users/l/luoxj/Data_PMT_test_dEdxExp/Add_source_Am241_trigger_2_LPMT_R2_vertical_5_2/wave0.dat\",\n",
    "# \"w/ source(vertical R2_1)\":\"/afs/ihep.ac.cn/users/l/luoxj/Data_PMT_test_dEdxExp/Add_source_Am241_trigger_2_LPMT_R2_vertical_5/wave0.dat\",\n",
    "# \"w/ source(vertical 1%Te2)\":\"/afs/ihep.ac.cn/users/l/luoxj/Data_PMT_test_dEdxExp/Add_source_Am241_trigger_2_LPMT_1%Te2_vertical_5/wave0.dat\",\n",
    "# \"w/ source(vertical 0.5%Te1)\":\"/afs/ihep.ac.cn/users/l/luoxj/Data_PMT_test_dEdxExp/Add_source_Am241_trigger_2_LPMT_0_5%Te1_vertical_5/wave0.dat\",\n",
    "# \"w/ source(vertical 0.5%Te2)\":\"/afs/ihep.ac.cn/users/l/luoxj/Data_PMT_test_dEdxExp/Add_source_Am241_trigger_2_LPMT_0_5%Te2_vertical_5_2/wave0.dat\"\n",
    "dir_df_data = {}\n",
    "for key,path in dir_path.items():\n",
    "    df_data = WaveDumpReader(path,nEvts=-1)\n",
    "    df_data = df_data[1000:].reset_index()\n",
    "    df_data_signal = Workflow_WaveformRec(df_data,plot_check=False, threshold_times_std=5,width_threshold=4)\n",
    "    del df_data\n",
    "    dir_df_data[key] = copy(df_data_signal)"
   ],
   "metadata": {
    "collapsed": false,
    "pycharm": {
     "name": "#%%\n",
     "is_executing": true
    }
   }
  },
  {
   "cell_type": "code",
   "execution_count": 2,
   "outputs": [],
   "source": [
    "# key = \"w/ Bi207 source(vertical R2_1)\"\n",
    "# from DataReader import WaveformRec\n",
    "# for wave in dir_df_data[key][\"waveform_sub_base\"][dir_df_data[key][\"charge_max\"]<200][:10]:\n",
    "#     plt.figure()\n",
    "#     WaveformRec(wave, plot_check=True, threshold_times_std=5)\n",
    "#     plt.xlim(380,500)\n"
   ],
   "metadata": {
    "collapsed": false,
    "pycharm": {
     "name": "#%%\n"
    }
   }
  },
  {
   "cell_type": "code",
   "execution_count": 2,
   "outputs": [
    {
     "ename": "KeyboardInterrupt",
     "evalue": "",
     "output_type": "error",
     "traceback": [
      "\u001B[0;31m---------------------------------------------------------------------------\u001B[0m",
      "\u001B[0;31mKeyboardInterrupt\u001B[0m                         Traceback (most recent call last)",
      "\u001B[0;32m~/.local/lib/python3.8/site-packages/IPython/core/async_helpers.py\u001B[0m in \u001B[0;36m_pseudo_sync_runner\u001B[0;34m(coro)\u001B[0m\n\u001B[1;32m     66\u001B[0m     \"\"\"\n\u001B[1;32m     67\u001B[0m     \u001B[0;32mtry\u001B[0m\u001B[0;34m:\u001B[0m\u001B[0;34m\u001B[0m\u001B[0;34m\u001B[0m\u001B[0m\n\u001B[0;32m---> 68\u001B[0;31m         \u001B[0mcoro\u001B[0m\u001B[0;34m.\u001B[0m\u001B[0msend\u001B[0m\u001B[0;34m(\u001B[0m\u001B[0;32mNone\u001B[0m\u001B[0;34m)\u001B[0m\u001B[0;34m\u001B[0m\u001B[0;34m\u001B[0m\u001B[0m\n\u001B[0m\u001B[1;32m     69\u001B[0m     \u001B[0;32mexcept\u001B[0m \u001B[0mStopIteration\u001B[0m \u001B[0;32mas\u001B[0m \u001B[0mexc\u001B[0m\u001B[0;34m:\u001B[0m\u001B[0;34m\u001B[0m\u001B[0;34m\u001B[0m\u001B[0m\n\u001B[1;32m     70\u001B[0m         \u001B[0;32mreturn\u001B[0m \u001B[0mexc\u001B[0m\u001B[0;34m.\u001B[0m\u001B[0mvalue\u001B[0m\u001B[0;34m\u001B[0m\u001B[0;34m\u001B[0m\u001B[0m\n",
      "\u001B[0;32m~/.local/lib/python3.8/site-packages/IPython/core/interactiveshell.py\u001B[0m in \u001B[0;36mrun_cell_async\u001B[0;34m(self, raw_cell, store_history, silent, shell_futures, transformed_cell, preprocessing_exc_tuple)\u001B[0m\n\u001B[1;32m   3093\u001B[0m         \u001B[0;31m# Store raw and processed history\u001B[0m\u001B[0;34m\u001B[0m\u001B[0;34m\u001B[0m\u001B[0;34m\u001B[0m\u001B[0m\n\u001B[1;32m   3094\u001B[0m         \u001B[0;32mif\u001B[0m \u001B[0mstore_history\u001B[0m\u001B[0;34m:\u001B[0m\u001B[0;34m\u001B[0m\u001B[0;34m\u001B[0m\u001B[0m\n\u001B[0;32m-> 3095\u001B[0;31m             self.history_manager.store_inputs(self.execution_count,\n\u001B[0m\u001B[1;32m   3096\u001B[0m                                               cell, raw_cell)\n\u001B[1;32m   3097\u001B[0m         \u001B[0;32mif\u001B[0m \u001B[0;32mnot\u001B[0m \u001B[0msilent\u001B[0m\u001B[0;34m:\u001B[0m\u001B[0;34m\u001B[0m\u001B[0;34m\u001B[0m\u001B[0m\n",
      "\u001B[0;32m~/.local/lib/python3.8/site-packages/IPython/core/history.py\u001B[0m in \u001B[0;36mstore_inputs\u001B[0;34m(self, line_num, source, source_raw)\u001B[0m\n\u001B[1;32m    717\u001B[0m         \u001B[0mself\u001B[0m\u001B[0;34m.\u001B[0m\u001B[0minput_hist_raw\u001B[0m\u001B[0;34m.\u001B[0m\u001B[0mappend\u001B[0m\u001B[0;34m(\u001B[0m\u001B[0msource_raw\u001B[0m\u001B[0;34m)\u001B[0m\u001B[0;34m\u001B[0m\u001B[0;34m\u001B[0m\u001B[0m\n\u001B[1;32m    718\u001B[0m \u001B[0;34m\u001B[0m\u001B[0m\n\u001B[0;32m--> 719\u001B[0;31m         \u001B[0;32mwith\u001B[0m \u001B[0mself\u001B[0m\u001B[0;34m.\u001B[0m\u001B[0mdb_input_cache_lock\u001B[0m\u001B[0;34m:\u001B[0m\u001B[0;34m\u001B[0m\u001B[0;34m\u001B[0m\u001B[0m\n\u001B[0m\u001B[1;32m    720\u001B[0m             \u001B[0mself\u001B[0m\u001B[0;34m.\u001B[0m\u001B[0mdb_input_cache\u001B[0m\u001B[0;34m.\u001B[0m\u001B[0mappend\u001B[0m\u001B[0;34m(\u001B[0m\u001B[0;34m(\u001B[0m\u001B[0mline_num\u001B[0m\u001B[0;34m,\u001B[0m \u001B[0msource\u001B[0m\u001B[0;34m,\u001B[0m \u001B[0msource_raw\u001B[0m\u001B[0;34m)\u001B[0m\u001B[0;34m)\u001B[0m\u001B[0;34m\u001B[0m\u001B[0;34m\u001B[0m\u001B[0m\n\u001B[1;32m    721\u001B[0m             \u001B[0;31m# Trigger to flush cache and write to DB.\u001B[0m\u001B[0;34m\u001B[0m\u001B[0;34m\u001B[0m\u001B[0;34m\u001B[0m\u001B[0m\n",
      "\u001B[0;31mKeyboardInterrupt\u001B[0m: "
     ]
    }
   ],
   "source": [
    "from DataReader import  GetTQArrays\n",
    "dir_TQ_diff_source = {}\n",
    "for key,df_data_signal in dir_df_data.items():\n",
    "    dir_TQ = GetTQArrays(df_data_signal[(df_data_signal[\"triggerTime\"]>0e9) & (df_data_signal[\"triggerTime\"]<4e9)])\n",
    "    dir_TQ_diff_source[key] = dir_TQ\n"
   ],
   "metadata": {
    "collapsed": false,
    "pycharm": {
     "name": "#%%\n"
    }
   }
  },
  {
   "cell_type": "code",
   "execution_count": null,
   "outputs": [],
   "source": [
    "for key,dir_TQ in dir_TQ_diff_source.items():\n",
    "    plt.hist(dir_TQ[\"T\"], bins=range(200, 1000,2),histtype=\"step\",density=True,\n",
    "             label=key)\n",
    "plt.xlabel(\"Time in DAQ Window [ ns ]\")\n",
    "plt.ylabel(\"Normalized Count\")\n",
    "plt.legend()"
   ],
   "metadata": {
    "collapsed": false,
    "pycharm": {
     "name": "#%%\n"
    }
   }
  },
  {
   "cell_type": "code",
   "execution_count": null,
   "outputs": [],
   "source": [
    "dir_h = {}\n",
    "from PlotTools import AutoGetColorWithALotOfLine\n",
    "for i, (key,dir_TQ) in enumerate(dir_TQ_diff_source.items()):\n",
    "    if \"w/o\" in key or \") 2\" in key or \"with hat\" in key:\n",
    "        continue\n",
    "    color = AutoGetColorWithALotOfLine(i)\n",
    "    h = plt.hist(dir_TQ[\"Q\"][(dir_TQ[\"valley\"]>-2)], bins=np.arange(-10,8000,15), histtype=\"step\",density=False,\n",
    "             label=key,color=color,ls=(\"--\" if \"sample2\" in key else \"-\") )\n",
    "    dir_h[key] = h[0]\n",
    "# plt.semilogy()\n",
    "# plt.xlim(0,)\n",
    "plt.legend()\n",
    "plt.xlabel(\"Integral [ ADC$\\cdot$ns ]\")\n",
    "plt.ylabel(\"Count of Hits\")\n",
    "plt.title(\"Spectrum\")"
   ],
   "metadata": {
    "collapsed": false,
    "pycharm": {
     "name": "#%%\n"
    }
   }
  },
  {
   "cell_type": "markdown",
   "source": [
    "# Save TQ information"
   ],
   "metadata": {
    "collapsed": false
   }
  },
  {
   "cell_type": "code",
   "execution_count": null,
   "outputs": [],
   "source": [
    "np.savez(\"Spectrum.npz\", dir_TQ_diff_source=dir_TQ_diff_source)\n"
   ],
   "metadata": {
    "collapsed": false,
    "pycharm": {
     "name": "#%%\n"
    }
   }
  },
  {
   "cell_type": "code",
   "execution_count": null,
   "outputs": [],
   "source": [
    "# for key, h in dir_h.items():\n",
    "#     plt.plot(h)\n",
    "# plt.plot( dir_h[\"w/ source(vertical)\"]-dir_h[\"w/o source(vertical R)\"] )"
   ],
   "metadata": {
    "collapsed": false,
    "pycharm": {
     "name": "#%%\n"
    }
   }
  },
  {
   "cell_type": "code",
   "execution_count": null,
   "outputs": [],
   "source": [
    "for i, (key,df_data_signal) in enumerate( dir_df_data.items() ):\n",
    "    if \"w/o\" in key or \") 2\" in key or \"with hat\" in key:\n",
    "        continue\n",
    "    plt.hist(df_data_signal[\"triggerTime\"],bins=np.linspace(0,0.2e9,50), histtype=\"step\", label=key,\n",
    "             ls=(\"--\" if \"sample2\" in key else \"-\"))\n",
    "plt.legend(loc=\"lower right\")\n",
    "# plt.ylim(1500, 2500)\n",
    "plt.xlabel(\"Trigger Time Stamp [ us ]\")\n",
    "plt.ylabel(\"Count\")\n",
    "plt.title(\"Event Rate Monitor\")"
   ],
   "metadata": {
    "collapsed": false,
    "pycharm": {
     "name": "#%%\n"
    }
   }
  },
  {
   "cell_type": "code",
   "execution_count": null,
   "outputs": [],
   "source": [
    "for i, (key,df_data_signal) in enumerate( dir_df_data.items() ):\n",
    "    if \"w/o\" not in key and \"w/ Bi207 Source(R sample2)\" not in key :\n",
    "        continue\n",
    "    plt.hist(df_data_signal[\"triggerTime\"],bins=np.linspace(0,0.2e9,50), histtype=\"step\", label=key)\n",
    "plt.legend(loc=\"lower right\")\n",
    "# plt.ylim(1500, 2500)\n",
    "# plt.semilogy()\n",
    "plt.xlabel(\"Trigger Time Stamp [ us ]\")\n",
    "plt.ylabel(\"Count\")\n",
    "plt.title(\"Event Rate Monitor\")"
   ],
   "metadata": {
    "collapsed": false,
    "pycharm": {
     "name": "#%%\n"
    }
   }
  },
  {
   "cell_type": "code",
   "execution_count": null,
   "outputs": [],
   "source": [
    "for key,dir_TQ in dir_TQ_diff_source.items():\n",
    "    plt.hist(dir_TQ[\"amplitude\"][(dir_TQ[\"valley\"]>-2)], bins=np.arange(-10,60), histtype=\"step\",density=True,\n",
    "             label=key)\n",
    "    # plt.hist(dir_TQ[\"Q\"], bins=np.arange(-10,50), histtype=\"step\",density=True,\n",
    "    #          label=key)\n",
    "    # plt.figure()\n",
    "    # plt.hist2d(dir_TQ[\"Q\"],dir_TQ[\"valley\"], bins=(100,100),cmap=\"Blues\")\n",
    "plt.legend()\n",
    "plt.xlabel(\"Amplitude [ ADC ]\")\n",
    "plt.ylabel(\"Count of Hits\")"
   ],
   "metadata": {
    "collapsed": false,
    "pycharm": {
     "name": "#%%\n"
    }
   }
  },
  {
   "cell_type": "code",
   "execution_count": null,
   "outputs": [],
   "source": [],
   "metadata": {
    "collapsed": false,
    "pycharm": {
     "name": "#%%\n"
    }
   }
  }
 ],
 "metadata": {
  "kernelspec": {
   "display_name": "Python 3",
   "language": "python",
   "name": "python3"
  },
  "language_info": {
   "codemirror_mode": {
    "name": "ipython",
    "version": 2
   },
   "file_extension": ".py",
   "mimetype": "text/x-python",
   "name": "python",
   "nbconvert_exporter": "python",
   "pygments_lexer": "ipython2",
   "version": "2.7.6"
  }
 },
 "nbformat": 4,
 "nbformat_minor": 0
}