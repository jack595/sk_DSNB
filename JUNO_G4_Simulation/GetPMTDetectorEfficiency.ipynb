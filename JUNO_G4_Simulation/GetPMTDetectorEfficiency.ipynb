{
 "cells": [
  {
   "cell_type": "code",
   "execution_count": 1,
   "metadata": {
    "collapsed": true
   },
   "outputs": [],
   "source": [
    "import matplotlib.pylab as plt\n",
    "import numpy as np\n",
    "plt.style.use(\"/afs/ihep.ac.cn/users/l/luoxj/Style/Paper.mplstyle\")\n",
    "%config InlineBackend.figure_format = 'svg'\n",
    "import sys\n",
    "sys.path.append(\"/afs/ihep.ac.cn/users/l/luoxj/root_tool/python_script/\")\n",
    "from LoadMultiFiles import LoadOneFileUproot"
   ]
  },
  {
   "cell_type": "code",
   "execution_count": 2,
   "outputs": [
    {
     "ename": "KeyInFileError",
     "evalue": "not found: 'PMT_log_far' (with any cycle number)\n\n    Available keys: (none!)\n\nin file /afs/ihep.ac.cn/users/l/luoxj/JUNO_G4_Simulation/proton_PMT_100MeV.root",
     "output_type": "error",
     "traceback": [
      "\u001B[0;31m---------------------------------------------------------------------------\u001B[0m",
      "\u001B[0;31mKeyInFileError\u001B[0m                            Traceback (most recent call last)",
      "\u001B[0;32m/tmp/ipykernel_19542/2774703209.py\u001B[0m in \u001B[0;36m<module>\u001B[0;34m\u001B[0m\n\u001B[1;32m      1\u001B[0m \u001B[0mpath_file\u001B[0m \u001B[0;34m=\u001B[0m \u001B[0;34m\"/afs/ihep.ac.cn/users/l/luoxj/JUNO_G4_Simulation/proton_PMT_100MeV.root\"\u001B[0m\u001B[0;34m\u001B[0m\u001B[0;34m\u001B[0m\u001B[0m\n\u001B[0;32m----> 2\u001B[0;31m \u001B[0mdir_PMT\u001B[0m \u001B[0;34m=\u001B[0m \u001B[0mLoadOneFileUproot\u001B[0m\u001B[0;34m(\u001B[0m\u001B[0mpath_file\u001B[0m\u001B[0;34m,\u001B[0m \u001B[0mname_branch\u001B[0m\u001B[0;34m=\u001B[0m\u001B[0;34m\"PMT_log_far\"\u001B[0m\u001B[0;34m)\u001B[0m\u001B[0;34m\u001B[0m\u001B[0;34m\u001B[0m\u001B[0m\n\u001B[0m\u001B[1;32m      3\u001B[0m \u001B[0mprint\u001B[0m\u001B[0;34m(\u001B[0m\u001B[0mdir_PMT\u001B[0m\u001B[0;34m.\u001B[0m\u001B[0mkeys\u001B[0m\u001B[0;34m(\u001B[0m\u001B[0;34m)\u001B[0m\u001B[0;34m)\u001B[0m\u001B[0;34m\u001B[0m\u001B[0;34m\u001B[0m\u001B[0m\n\u001B[1;32m      4\u001B[0m \u001B[0mdir_geninfo\u001B[0m \u001B[0;34m=\u001B[0m \u001B[0mLoadOneFileUproot\u001B[0m\u001B[0;34m(\u001B[0m\u001B[0mpath_file\u001B[0m\u001B[0;34m,\u001B[0m \u001B[0mname_branch\u001B[0m\u001B[0;34m=\u001B[0m\u001B[0;34m\"genInfo\"\u001B[0m\u001B[0;34m)\u001B[0m\u001B[0;34m\u001B[0m\u001B[0;34m\u001B[0m\u001B[0m\n\u001B[1;32m      5\u001B[0m \u001B[0mdir_events\u001B[0m \u001B[0;34m=\u001B[0m \u001B[0mLoadOneFileUproot\u001B[0m\u001B[0;34m(\u001B[0m\u001B[0mpath_file\u001B[0m\u001B[0;34m,\u001B[0m \u001B[0mname_branch\u001B[0m\u001B[0;34m=\u001B[0m\u001B[0;34m\"GdLS_log\"\u001B[0m\u001B[0;34m)\u001B[0m\u001B[0;34m\u001B[0m\u001B[0;34m\u001B[0m\u001B[0m\n",
      "\u001B[0;32m~/root_tool/python_script/LoadMultiFiles.py\u001B[0m in \u001B[0;36mLoadOneFileUproot\u001B[0;34m(name_file, name_branch, list_branch_filter, return_list)\u001B[0m\n\u001B[1;32m    142\u001B[0m     \u001B[0mdir_event\u001B[0m \u001B[0;34m=\u001B[0m \u001B[0;34m{\u001B[0m\u001B[0;34m}\u001B[0m\u001B[0;34m\u001B[0m\u001B[0;34m\u001B[0m\u001B[0m\n\u001B[1;32m    143\u001B[0m     \u001B[0;32mwith\u001B[0m \u001B[0mup\u001B[0m\u001B[0;34m.\u001B[0m\u001B[0mopen\u001B[0m\u001B[0;34m(\u001B[0m\u001B[0mname_file\u001B[0m\u001B[0;34m)\u001B[0m \u001B[0;32mas\u001B[0m \u001B[0mf\u001B[0m\u001B[0;34m:\u001B[0m\u001B[0;34m\u001B[0m\u001B[0;34m\u001B[0m\u001B[0m\n\u001B[0;32m--> 144\u001B[0;31m         \u001B[0mtree\u001B[0m \u001B[0;34m=\u001B[0m \u001B[0mf\u001B[0m\u001B[0;34m[\u001B[0m\u001B[0mname_branch\u001B[0m\u001B[0;34m]\u001B[0m\u001B[0;34m\u001B[0m\u001B[0;34m\u001B[0m\u001B[0m\n\u001B[0m\u001B[1;32m    145\u001B[0m         \u001B[0;32mfor\u001B[0m \u001B[0mkey\u001B[0m \u001B[0;32min\u001B[0m \u001B[0mtree\u001B[0m\u001B[0;34m.\u001B[0m\u001B[0mkeys\u001B[0m\u001B[0;34m(\u001B[0m\u001B[0;34m)\u001B[0m\u001B[0;34m:\u001B[0m\u001B[0;34m\u001B[0m\u001B[0;34m\u001B[0m\u001B[0m\n\u001B[1;32m    146\u001B[0m             \u001B[0;32mif\u001B[0m \u001B[0;34m(\u001B[0m\u001B[0;32mnot\u001B[0m \u001B[0mlist_branch_filter\u001B[0m \u001B[0;32mis\u001B[0m \u001B[0;32mNone\u001B[0m\u001B[0;34m)\u001B[0m \u001B[0;32mand\u001B[0m \u001B[0;34m(\u001B[0m\u001B[0mkey\u001B[0m \u001B[0;32min\u001B[0m \u001B[0mlist_branch_filter\u001B[0m\u001B[0;34m)\u001B[0m\u001B[0;34m:\u001B[0m\u001B[0;34m\u001B[0m\u001B[0;34m\u001B[0m\u001B[0m\n",
      "\u001B[0;32m~/junofs_500G/miniconda3/envs/tf/lib/python3.8/site-packages/uproot/reading.py\u001B[0m in \u001B[0;36m__getitem__\u001B[0;34m(self, where)\u001B[0m\n\u001B[1;32m   1977\u001B[0m \u001B[0;34m\u001B[0m\u001B[0m\n\u001B[1;32m   1978\u001B[0m         \u001B[0;32melse\u001B[0m\u001B[0;34m:\u001B[0m\u001B[0;34m\u001B[0m\u001B[0;34m\u001B[0m\u001B[0m\n\u001B[0;32m-> 1979\u001B[0;31m             \u001B[0;32mreturn\u001B[0m \u001B[0mself\u001B[0m\u001B[0;34m.\u001B[0m\u001B[0mkey\u001B[0m\u001B[0;34m(\u001B[0m\u001B[0mwhere\u001B[0m\u001B[0;34m)\u001B[0m\u001B[0;34m.\u001B[0m\u001B[0mget\u001B[0m\u001B[0;34m(\u001B[0m\u001B[0;34m)\u001B[0m\u001B[0;34m\u001B[0m\u001B[0;34m\u001B[0m\u001B[0m\n\u001B[0m\u001B[1;32m   1980\u001B[0m \u001B[0;34m\u001B[0m\u001B[0m\n\u001B[1;32m   1981\u001B[0m     \u001B[0;34m@\u001B[0m\u001B[0mproperty\u001B[0m\u001B[0;34m\u001B[0m\u001B[0;34m\u001B[0m\u001B[0m\n",
      "\u001B[0;32m~/junofs_500G/miniconda3/envs/tf/lib/python3.8/site-packages/uproot/reading.py\u001B[0m in \u001B[0;36mkey\u001B[0;34m(self, where)\u001B[0m\n\u001B[1;32m   1927\u001B[0m             \u001B[0;32mreturn\u001B[0m \u001B[0mlast\u001B[0m\u001B[0;34m\u001B[0m\u001B[0;34m\u001B[0m\u001B[0m\n\u001B[1;32m   1928\u001B[0m         \u001B[0;32melif\u001B[0m \u001B[0mcycle\u001B[0m \u001B[0;32mis\u001B[0m \u001B[0;32mNone\u001B[0m\u001B[0;34m:\u001B[0m\u001B[0;34m\u001B[0m\u001B[0;34m\u001B[0m\u001B[0m\n\u001B[0;32m-> 1929\u001B[0;31m             raise uproot.KeyInFileError(\n\u001B[0m\u001B[1;32m   1930\u001B[0m                 \u001B[0mitem\u001B[0m\u001B[0;34m,\u001B[0m \u001B[0mcycle\u001B[0m\u001B[0;34m=\u001B[0m\u001B[0;34m\"any\"\u001B[0m\u001B[0;34m,\u001B[0m \u001B[0mkeys\u001B[0m\u001B[0;34m=\u001B[0m\u001B[0mself\u001B[0m\u001B[0;34m.\u001B[0m\u001B[0mkeys\u001B[0m\u001B[0;34m(\u001B[0m\u001B[0;34m)\u001B[0m\u001B[0;34m,\u001B[0m \u001B[0mfile_path\u001B[0m\u001B[0;34m=\u001B[0m\u001B[0mself\u001B[0m\u001B[0;34m.\u001B[0m\u001B[0m_file\u001B[0m\u001B[0;34m.\u001B[0m\u001B[0mfile_path\u001B[0m\u001B[0;34m\u001B[0m\u001B[0;34m\u001B[0m\u001B[0m\n\u001B[1;32m   1931\u001B[0m             )\n",
      "\u001B[0;31mKeyInFileError\u001B[0m: not found: 'PMT_log_far' (with any cycle number)\n\n    Available keys: (none!)\n\nin file /afs/ihep.ac.cn/users/l/luoxj/JUNO_G4_Simulation/proton_PMT_100MeV.root"
     ]
    }
   ],
   "source": [
    "path_file = \"/afs/ihep.ac.cn/users/l/luoxj/JUNO_G4_Simulation/proton_PMT_100MeV.root\"\n",
    "dir_PMT_far = LoadOneFileUproot(path_file, name_branch=\"PMT_log_far\")\n",
    "print(dir_PMT_far.keys())\n",
    "dir_PMT_near = LoadOneFileUproot(path_file, name_branch=\"PMT_log_near\")\n",
    "print(dir_PMT_near.keys())\n",
    "dir_geninfo = LoadOneFileUproot(path_file, name_branch=\"genInfo\")\n",
    "dir_events = LoadOneFileUproot(path_file, name_branch=\"GdLS_log\")\n",
    "print(dir_events.keys())\n",
    "print(dir_geninfo.keys())"
   ],
   "metadata": {
    "collapsed": false,
    "pycharm": {
     "name": "#%%\n"
    }
   }
  },
  {
   "cell_type": "code",
   "execution_count": null,
   "outputs": [],
   "source": [
    "from matplotlib.colors import LogNorm\n",
    "# pdgID_certain = 1000020040\n",
    "pdgID_certain = 2212\n",
    "\n",
    "v_dE_dx_average = []\n",
    "v_Equench = []\n",
    "v_Edep = []\n",
    "v_Einit = []\n",
    "v_nHits = []\n",
    "v_E_geninfo = []\n",
    "for i in range(len(dir_events[\"evtID\"])):\n",
    "    index_e = dir_events[\"step_pdgID\"][i]==pdgID_certain\n",
    "    dEquench = dir_events[\"step_Equench\"][i][index_e]\n",
    "    if sum(dEquench)==0:\n",
    "        continue\n",
    "    try:\n",
    "        v_nHits.append(len(dir_PMT[\"step_pdgID\"][dir_events[\"evtID\"][i]]))\n",
    "    except:\n",
    "        continue\n",
    "    dE_dx_average = sum(dEquench*dir_events[\"step_Edep\"][i][index_e]/dir_events[\"step_dx\"][i][index_e])/sum(dEquench)\n",
    "    v_dE_dx_average.append(dE_dx_average)\n",
    "    v_Equench.append(sum(dEquench))\n",
    "    v_Edep.append(dir_events[\"Edep_event\"][i])\n",
    "    v_Einit.append(dir_geninfo[\"E_init\"][dir_events[\"evtID\"][i]])\n"
   ],
   "metadata": {
    "collapsed": false,
    "pycharm": {
     "name": "#%%\n"
    }
   }
  },
  {
   "cell_type": "code",
   "execution_count": null,
   "outputs": [],
   "source": [
    "v_nHits_bk = []\n",
    "for i in range(len(dir_PMT[\"step_pdgID\"])):\n",
    "    v_nHits_bk.append(len(dir_PMT[\"step_pdgID\"][i]))\n",
    "print(np.sum(v_nHits_bk)/len(dir_geninfo[\"E_init\"]))\n",
    "print(len(dir_geninfo[\"E_init\"]))"
   ],
   "metadata": {
    "collapsed": false,
    "pycharm": {
     "name": "#%%\n"
    }
   }
  },
  {
   "cell_type": "code",
   "execution_count": null,
   "outputs": [],
   "source": [
    "plt.hist2d(v_E_geninfo, v_nHits, bins=(100,100),cmap=\"Blues\")\n",
    "plt.xlabel(\"Energy [ MeV ]\")\n",
    "plt.ylabel(\"N of Hits\")"
   ],
   "metadata": {
    "collapsed": false,
    "pycharm": {
     "name": "#%%\n"
    }
   }
  },
  {
   "cell_type": "code",
   "execution_count": null,
   "outputs": [],
   "source": [
    "plt.hist2d(v_Equench, v_nHits, cmap=\"Blues\")\n",
    "plt.ylabel(\"N of PMT Hits\")\n",
    "plt.xlabel(\"Equench [ MeV ]\")\n",
    "plt.colorbar()"
   ],
   "metadata": {
    "collapsed": false,
    "pycharm": {
     "name": "#%%\n"
    }
   }
  },
  {
   "cell_type": "code",
   "execution_count": null,
   "outputs": [],
   "source": [
    "plt.hist(v_nHits)"
   ],
   "metadata": {
    "collapsed": false,
    "pycharm": {
     "name": "#%%\n"
    }
   }
  },
  {
   "cell_type": "code",
   "execution_count": null,
   "outputs": [],
   "source": [],
   "metadata": {
    "collapsed": false,
    "pycharm": {
     "name": "#%%\n"
    }
   }
  }
 ],
 "metadata": {
  "kernelspec": {
   "display_name": "Python 3",
   "language": "python",
   "name": "python3"
  },
  "language_info": {
   "codemirror_mode": {
    "name": "ipython",
    "version": 2
   },
   "file_extension": ".py",
   "mimetype": "text/x-python",
   "name": "python",
   "nbconvert_exporter": "python",
   "pygments_lexer": "ipython2",
   "version": "2.7.6"
  }
 },
 "nbformat": 4,
 "nbformat_minor": 0
}