{
 "cells": [
  {
   "cell_type": "code",
   "execution_count": 2,
   "metadata": {
    "collapsed": true,
    "pycharm": {
     "name": "#%%\n"
    }
   },
   "outputs": [],
   "source": [
    "import matplotlib.pylab as plt\n",
    "import numpy as np\n",
    "import pandas as pd\n",
    "import seaborn as sns\n",
    "from IPython.display import display\n",
    "plt.style.use([\"/afs/ihep.ac.cn/users/l/luoxj/Style/Paper.mplstyle\"])\n",
    "%config InlineBackend.figure_format = 'svg'\n",
    "#plt.rcParams['figure.dpi'] = 300\n",
    "#plt.rcParams['savefig.dpi'] = 300\n",
    "import sys\n",
    "sys.path.append(\"/afs/ihep.ac.cn/users/l/luoxj/root_tool/python_script/\")\n",
    "sys.path.append(\"/afs/ihep.ac.cn/users/l/luoxj/JUNO_G4_Simulation/\")"
   ]
  },
  {
   "cell_type": "code",
   "execution_count": 3,
   "outputs": [],
   "source": [
    "from LoadMultiFiles import LoadOneFileUproot, LoadMultiROOTFiles\n",
    "from FunctionFor_dE_dx import GetNPE\n",
    "from copy import copy\n",
    "filter_leaves = ['xyz_center', 'step_x', 'step_y', 'step_z',  'step_Edep', 'step_Equench', 'step_KineticE']\n",
    "\n",
    "# template_root_path = \"/afs/ihep.ac.cn/users/l/luoxj/JUNO_G4_Simulation/optical_run/GetNPEForConfigure/root/1000MeV_1_*.root\"\n",
    "template_root_path = \"/afs/ihep.ac.cn/users/l/luoxj/JUNO_G4_Simulation/optical_run/GetNPEForConfigure/root/Na_22_1_*.root\""
   ],
   "metadata": {
    "collapsed": false,
    "pycharm": {
     "name": "#%%\n"
    }
   }
  },
  {
   "cell_type": "markdown",
   "source": [
    "# R7600U PE"
   ],
   "metadata": {
    "collapsed": false
   }
  },
  {
   "cell_type": "code",
   "execution_count": 4,
   "outputs": [
    {
     "name": "stderr",
     "output_type": "stream",
     "text": [
      "/afs/ihep.ac.cn/users/l/luoxj/root_tool/python_script/LoadMultiFiles.py:237: VisibleDeprecationWarning: Creating an ndarray from ragged nested sequences (which is a list-or-tuple of lists-or-tuples-or ndarrays with different lengths or shapes) is deprecated. If you meant to do this, you must specify 'dtype=object' when creating the ndarray.\n",
      "  dir_events[key] = np.array(dir_events[key])\n"
     ]
    }
   ],
   "source": [
    "dir_PMT_far = LoadMultiROOTFiles(template_root_path, name_branch=\"PMT_log_R7600\",  list_branch_filter=filter_leaves)\n",
    "dir_geninfo = LoadMultiROOTFiles(template_root_path, name_branch=\"genInfo\")\n"
   ],
   "metadata": {
    "collapsed": false,
    "pycharm": {
     "name": "#%%\n"
    }
   }
  },
  {
   "cell_type": "code",
   "execution_count": 5,
   "outputs": [
    {
     "name": "stdout",
     "output_type": "stream",
     "text": [
      "dict_keys(['Edep_event', 'evtID', 'step_pdgID', 'step_trackID', 'step_t', 'step_dx', 'step_chamberID', 'step_isCherenkov'])\n",
      "1.386\n"
     ]
    }
   ],
   "source": [
    "print(dir_PMT_far.keys())\n",
    "v_trackID_unique = np.concatenate([list(set(v_trackID)) for v_trackID in dir_PMT_far[\"step_trackID\"]])\n",
    "print(len(v_trackID_unique)/len(dir_geninfo[\"E_init\"]))\n",
    "# p = len(np.concatenate(dir_PMT_far[\"step_trackID\"]))/len(dir_geninfo[\"E_init\"])\n",
    "# n = len(dir_geninfo[\"E_init\"])\n",
    "# print(\"sigma:\\t\", np.sqrt(p*(1-p)/n))\n",
    "# print(dir_PMT_far[\"step_trackID\"])"
   ],
   "metadata": {
    "collapsed": false,
    "pycharm": {
     "name": "#%%\n"
    }
   }
  },
  {
   "cell_type": "markdown",
   "source": [
    "# PMT Near"
   ],
   "metadata": {
    "collapsed": false
   }
  },
  {
   "cell_type": "code",
   "execution_count": null,
   "outputs": [],
   "source": [
    "dir_PMT_near = LoadMultiROOTFiles(template_root_path, name_branch=\"PMT_log\",  list_branch_filter=filter_leaves)"
   ],
   "metadata": {
    "collapsed": false,
    "pycharm": {
     "name": "#%%\n"
    }
   }
  },
  {
   "cell_type": "code",
   "execution_count": null,
   "outputs": [],
   "source": [
    "plt.hist(GetNPE(dir_PMT=dir_PMT_near,chamberID=0, mean=False),bins=200)\n",
    "plt.xlim(0,1500)\n",
    "print(GetNPE(dir_PMT=dir_PMT_near,chamberID=0))\n"
   ],
   "metadata": {
    "collapsed": false,
    "pycharm": {
     "name": "#%%\n"
    }
   }
  }
 ],
 "metadata": {
  "kernelspec": {
   "display_name": "Python 3",
   "language": "python",
   "name": "python3"
  },
  "language_info": {
   "codemirror_mode": {
    "name": "ipython",
    "version": 2
   },
   "file_extension": ".py",
   "mimetype": "text/x-python",
   "name": "python",
   "nbconvert_exporter": "python",
   "pygments_lexer": "ipython2",
   "version": "2.7.6"
  }
 },
 "nbformat": 4,
 "nbformat_minor": 0
}