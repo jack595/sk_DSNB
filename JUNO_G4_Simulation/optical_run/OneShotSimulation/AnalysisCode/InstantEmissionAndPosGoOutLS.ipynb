{
 "cells": [
  {
   "cell_type": "code",
   "execution_count": 1,
   "metadata": {
    "collapsed": true
   },
   "outputs": [],
   "source": [
    "import matplotlib.pylab as plt\n",
    "import numpy as np\n",
    "import pandas as pd\n",
    "import seaborn as sns\n",
    "from IPython.display import display\n",
    "plt.style.use([\"science\",\"no-latex\", \"/afs/ihep.ac.cn/users/l/luoxj/Style/Paper.mplstyle\"])\n",
    "%config InlineBackend.figure_format = 'svg'\n",
    "#plt.rcParams['figure.dpi'] = 300\n",
    "#plt.rcParams['savefig.dpi'] = 300\n",
    "import sys\n",
    "sys.path.append(\"/afs/ihep.ac.cn/users/l/luoxj/root_tool/python_script/\")\n",
    "sys.path.append(\"/afs/ihep.ac.cn/users/l/luoxj/JUNO_G4_Simulation/optical_run/OneShotSimulation/AnalysisCode/\")"
   ]
  },
  {
   "cell_type": "code",
   "execution_count": 3,
   "outputs": [
    {
     "name": "stderr",
     "output_type": "stream",
     "text": [
      "100%|█████████████████████████████████████████████████████████████████████████████████████| 5/5 [00:07<00:00,  1.50s/it]\n"
     ]
    },
    {
     "data": {
      "text/plain": "          index  ion      time  chamberID      BeamX      BeamZ        Ek  \\\n0             0  H_2  3.308342          5 -23.335522   2.612594  0.000003   \n1             1  H_2  3.236581          6 -23.335522   2.612594  0.000003   \n2             2  H_2  3.256821          0 -23.335522   2.612594  0.000003   \n3             3  H_2  3.286354          6 -23.335522   2.612594  0.000003   \n4             4  H_2  3.335671          4  20.238026 -10.218079  0.000003   \n...         ...  ...       ...        ...        ...        ...       ...   \n4718178  941717  H_2  3.316703          9  17.264184   8.639660  0.000003   \n4718179  941718  H_2  3.237887          3  17.264184   8.639660  0.000003   \n4718180  941719  H_2  3.234847          2  17.264184   8.639660  0.000003   \n4718181  941720  H_2  3.230762          6  17.264184   8.639660  0.000003   \n4718182  941721  H_2  3.327467         10  17.264184   8.639660  0.000003   \n\n         dE_quench     dE/dx  parentPDGID  ...  YGoOutLS   ZGoOutLS  \\\n0         0.540605  0.277047   1000010020  ...   -1.0000   2.910395   \n1         0.540605  0.277047   1000010020  ...   -1.0000   2.642931   \n2         0.540605  0.277047   1000010020  ...    0.6071  25.000000   \n3         0.540605  0.277047   1000010020  ...   -1.0000   2.619781   \n4         0.640191  0.330738   1000010020  ...   -1.0000  -9.873150   \n...            ...       ...          ...  ...       ...        ...   \n4718178   0.710553  0.367259           11  ...   -1.0000   8.045868   \n4718179   0.710553  0.367259   1000010020  ...   -1.0000   8.853739   \n4718180   0.710553  0.367259   1000010020  ...    1.0000  22.781319   \n4718181   0.710553  0.367259   1000010020  ...   -1.0000   8.639738   \n4718182   0.710553  0.367259   1000010020  ...    1.0000 -23.021454   \n\n         t_op_start  isReemission  L_LS  mean_theta  mean_theta_int  \\\n0          0.536517             0     2      15 deg              15   \n1          0.535676             0     2       1 deg               1   \n2          0.536751             0     2      90 deg              90   \n3          0.542578             0     2       1 deg               1   \n4          0.541390             0     2      30 deg              30   \n...             ...           ...   ...         ...             ...   \n4718178    0.540643             0     2      45 deg              45   \n4718179    0.544038             0     2      45 deg              45   \n4718180    0.541685             0     2      60 deg              60   \n4718181    0.546189             0     2       1 deg               1   \n4718182    0.544572             0     2      60 deg              60   \n\n              bin_BeamX      bin_BeamZ num_BeamZ  \n0        (-25.0, -15.0]    (-5.0, 5.0]         2  \n1        (-25.0, -15.0]    (-5.0, 5.0]         2  \n2        (-25.0, -15.0]    (-5.0, 5.0]         2  \n3        (-25.0, -15.0]    (-5.0, 5.0]         2  \n4          (15.0, 25.0]  (-15.0, -5.0]         1  \n...                 ...            ...       ...  \n4718178    (15.0, 25.0]    (5.0, 15.0]         3  \n4718179    (15.0, 25.0]    (5.0, 15.0]         3  \n4718180    (15.0, 25.0]    (5.0, 15.0]         3  \n4718181    (15.0, 25.0]    (5.0, 15.0]         3  \n4718182    (15.0, 25.0]    (5.0, 15.0]         3  \n\n[4718183 rows x 25 columns]",
      "text/html": "<div>\n<style scoped>\n    .dataframe tbody tr th:only-of-type {\n        vertical-align: middle;\n    }\n\n    .dataframe tbody tr th {\n        vertical-align: top;\n    }\n\n    .dataframe thead th {\n        text-align: right;\n    }\n</style>\n<table border=\"1\" class=\"dataframe\">\n  <thead>\n    <tr style=\"text-align: right;\">\n      <th></th>\n      <th>index</th>\n      <th>ion</th>\n      <th>time</th>\n      <th>chamberID</th>\n      <th>BeamX</th>\n      <th>BeamZ</th>\n      <th>Ek</th>\n      <th>dE_quench</th>\n      <th>dE/dx</th>\n      <th>parentPDGID</th>\n      <th>...</th>\n      <th>YGoOutLS</th>\n      <th>ZGoOutLS</th>\n      <th>t_op_start</th>\n      <th>isReemission</th>\n      <th>L_LS</th>\n      <th>mean_theta</th>\n      <th>mean_theta_int</th>\n      <th>bin_BeamX</th>\n      <th>bin_BeamZ</th>\n      <th>num_BeamZ</th>\n    </tr>\n  </thead>\n  <tbody>\n    <tr>\n      <th>0</th>\n      <td>0</td>\n      <td>H_2</td>\n      <td>3.308342</td>\n      <td>5</td>\n      <td>-23.335522</td>\n      <td>2.612594</td>\n      <td>0.000003</td>\n      <td>0.540605</td>\n      <td>0.277047</td>\n      <td>1000010020</td>\n      <td>...</td>\n      <td>-1.0000</td>\n      <td>2.910395</td>\n      <td>0.536517</td>\n      <td>0</td>\n      <td>2</td>\n      <td>15 deg</td>\n      <td>15</td>\n      <td>(-25.0, -15.0]</td>\n      <td>(-5.0, 5.0]</td>\n      <td>2</td>\n    </tr>\n    <tr>\n      <th>1</th>\n      <td>1</td>\n      <td>H_2</td>\n      <td>3.236581</td>\n      <td>6</td>\n      <td>-23.335522</td>\n      <td>2.612594</td>\n      <td>0.000003</td>\n      <td>0.540605</td>\n      <td>0.277047</td>\n      <td>1000010020</td>\n      <td>...</td>\n      <td>-1.0000</td>\n      <td>2.642931</td>\n      <td>0.535676</td>\n      <td>0</td>\n      <td>2</td>\n      <td>1 deg</td>\n      <td>1</td>\n      <td>(-25.0, -15.0]</td>\n      <td>(-5.0, 5.0]</td>\n      <td>2</td>\n    </tr>\n    <tr>\n      <th>2</th>\n      <td>2</td>\n      <td>H_2</td>\n      <td>3.256821</td>\n      <td>0</td>\n      <td>-23.335522</td>\n      <td>2.612594</td>\n      <td>0.000003</td>\n      <td>0.540605</td>\n      <td>0.277047</td>\n      <td>1000010020</td>\n      <td>...</td>\n      <td>0.6071</td>\n      <td>25.000000</td>\n      <td>0.536751</td>\n      <td>0</td>\n      <td>2</td>\n      <td>90 deg</td>\n      <td>90</td>\n      <td>(-25.0, -15.0]</td>\n      <td>(-5.0, 5.0]</td>\n      <td>2</td>\n    </tr>\n    <tr>\n      <th>3</th>\n      <td>3</td>\n      <td>H_2</td>\n      <td>3.286354</td>\n      <td>6</td>\n      <td>-23.335522</td>\n      <td>2.612594</td>\n      <td>0.000003</td>\n      <td>0.540605</td>\n      <td>0.277047</td>\n      <td>1000010020</td>\n      <td>...</td>\n      <td>-1.0000</td>\n      <td>2.619781</td>\n      <td>0.542578</td>\n      <td>0</td>\n      <td>2</td>\n      <td>1 deg</td>\n      <td>1</td>\n      <td>(-25.0, -15.0]</td>\n      <td>(-5.0, 5.0]</td>\n      <td>2</td>\n    </tr>\n    <tr>\n      <th>4</th>\n      <td>4</td>\n      <td>H_2</td>\n      <td>3.335671</td>\n      <td>4</td>\n      <td>20.238026</td>\n      <td>-10.218079</td>\n      <td>0.000003</td>\n      <td>0.640191</td>\n      <td>0.330738</td>\n      <td>1000010020</td>\n      <td>...</td>\n      <td>-1.0000</td>\n      <td>-9.873150</td>\n      <td>0.541390</td>\n      <td>0</td>\n      <td>2</td>\n      <td>30 deg</td>\n      <td>30</td>\n      <td>(15.0, 25.0]</td>\n      <td>(-15.0, -5.0]</td>\n      <td>1</td>\n    </tr>\n    <tr>\n      <th>...</th>\n      <td>...</td>\n      <td>...</td>\n      <td>...</td>\n      <td>...</td>\n      <td>...</td>\n      <td>...</td>\n      <td>...</td>\n      <td>...</td>\n      <td>...</td>\n      <td>...</td>\n      <td>...</td>\n      <td>...</td>\n      <td>...</td>\n      <td>...</td>\n      <td>...</td>\n      <td>...</td>\n      <td>...</td>\n      <td>...</td>\n      <td>...</td>\n      <td>...</td>\n      <td>...</td>\n    </tr>\n    <tr>\n      <th>4718178</th>\n      <td>941717</td>\n      <td>H_2</td>\n      <td>3.316703</td>\n      <td>9</td>\n      <td>17.264184</td>\n      <td>8.639660</td>\n      <td>0.000003</td>\n      <td>0.710553</td>\n      <td>0.367259</td>\n      <td>11</td>\n      <td>...</td>\n      <td>-1.0000</td>\n      <td>8.045868</td>\n      <td>0.540643</td>\n      <td>0</td>\n      <td>2</td>\n      <td>45 deg</td>\n      <td>45</td>\n      <td>(15.0, 25.0]</td>\n      <td>(5.0, 15.0]</td>\n      <td>3</td>\n    </tr>\n    <tr>\n      <th>4718179</th>\n      <td>941718</td>\n      <td>H_2</td>\n      <td>3.237887</td>\n      <td>3</td>\n      <td>17.264184</td>\n      <td>8.639660</td>\n      <td>0.000003</td>\n      <td>0.710553</td>\n      <td>0.367259</td>\n      <td>1000010020</td>\n      <td>...</td>\n      <td>-1.0000</td>\n      <td>8.853739</td>\n      <td>0.544038</td>\n      <td>0</td>\n      <td>2</td>\n      <td>45 deg</td>\n      <td>45</td>\n      <td>(15.0, 25.0]</td>\n      <td>(5.0, 15.0]</td>\n      <td>3</td>\n    </tr>\n    <tr>\n      <th>4718180</th>\n      <td>941719</td>\n      <td>H_2</td>\n      <td>3.234847</td>\n      <td>2</td>\n      <td>17.264184</td>\n      <td>8.639660</td>\n      <td>0.000003</td>\n      <td>0.710553</td>\n      <td>0.367259</td>\n      <td>1000010020</td>\n      <td>...</td>\n      <td>1.0000</td>\n      <td>22.781319</td>\n      <td>0.541685</td>\n      <td>0</td>\n      <td>2</td>\n      <td>60 deg</td>\n      <td>60</td>\n      <td>(15.0, 25.0]</td>\n      <td>(5.0, 15.0]</td>\n      <td>3</td>\n    </tr>\n    <tr>\n      <th>4718181</th>\n      <td>941720</td>\n      <td>H_2</td>\n      <td>3.230762</td>\n      <td>6</td>\n      <td>17.264184</td>\n      <td>8.639660</td>\n      <td>0.000003</td>\n      <td>0.710553</td>\n      <td>0.367259</td>\n      <td>1000010020</td>\n      <td>...</td>\n      <td>-1.0000</td>\n      <td>8.639738</td>\n      <td>0.546189</td>\n      <td>0</td>\n      <td>2</td>\n      <td>1 deg</td>\n      <td>1</td>\n      <td>(15.0, 25.0]</td>\n      <td>(5.0, 15.0]</td>\n      <td>3</td>\n    </tr>\n    <tr>\n      <th>4718182</th>\n      <td>941721</td>\n      <td>H_2</td>\n      <td>3.327467</td>\n      <td>10</td>\n      <td>17.264184</td>\n      <td>8.639660</td>\n      <td>0.000003</td>\n      <td>0.710553</td>\n      <td>0.367259</td>\n      <td>1000010020</td>\n      <td>...</td>\n      <td>1.0000</td>\n      <td>-23.021454</td>\n      <td>0.544572</td>\n      <td>0</td>\n      <td>2</td>\n      <td>60 deg</td>\n      <td>60</td>\n      <td>(15.0, 25.0]</td>\n      <td>(5.0, 15.0]</td>\n      <td>3</td>\n    </tr>\n  </tbody>\n</table>\n<p>4718183 rows × 25 columns</p>\n</div>"
     },
     "execution_count": 3,
     "metadata": {},
     "output_type": "execute_result"
    }
   ],
   "source": [
    "from LoadMultiFiles import LoadMultiFilesDataframe\n",
    "from GlobalFunction import PreprocessThetaAndBeamXZ\n",
    "# v_L_LS =  [\"1.0\",\"2\", \"5.0\", \"10.0\"]\n",
    "# v_L_LS =  [\"2.0\"]\n",
    "v_L_LS =  [\"2\"]\n",
    "v_nEvts = [1500*600, 1500*600, 1500*600, 1500*360]\n",
    "df_time = pd.DataFrame()\n",
    "for L_LS in v_L_LS:\n",
    "    df_time_tmp = LoadMultiFilesDataframe(f\"/afs/ihep.ac.cn/users/l/luoxj/JUNO_G4_Simulation/optical_run/OneShotSimulation/pkl_instantEmission/PMT_far_H_2_*_LS_{L_LS}mm.pkl\")\n",
    "    # df_time_tmp = LoadMultiFilesDataframe(f\"/afs/ihep.ac.cn/users/l/luoxj/JUNO_G4_Simulation/optical_run/OneShotSimulation/pkl_instantEmission/PMT_far_H_2_*_root2_InstantEmission_LS_{L_LS}mm_upperAbsorber.pkl\")\n",
    "    df_time_tmp[\"L_LS\"] = L_LS\n",
    "    df_time  = pd.concat((df_time, df_time_tmp))\n",
    "df_time, dict_replace_chamberID = PreprocessThetaAndBeamXZ(df_time)\n",
    "df_time"
   ],
   "metadata": {
    "collapsed": false,
    "pycharm": {
     "name": "#%%\n"
    }
   }
  },
  {
   "cell_type": "code",
   "execution_count": 4,
   "outputs": [
    {
     "data": {
      "text/plain": "          index  ion      time  chamberID      BeamX      BeamZ        Ek  \\\n0             0  H_2  3.308342          5 -23.335522   2.612594  0.000003   \n1             1  H_2  3.236581          6 -23.335522   2.612594  0.000003   \n2             2  H_2  3.256821          0 -23.335522   2.612594  0.000003   \n3             3  H_2  3.286354          6 -23.335522   2.612594  0.000003   \n4             4  H_2  3.335671          4  20.238026 -10.218079  0.000003   \n...         ...  ...       ...        ...        ...        ...       ...   \n4718178  941717  H_2  3.316703          9  17.264184   8.639660  0.000003   \n4718179  941718  H_2  3.237887          3  17.264184   8.639660  0.000003   \n4718180  941719  H_2  3.234847          2  17.264184   8.639660  0.000003   \n4718181  941720  H_2  3.230762          6  17.264184   8.639660  0.000003   \n4718182  941721  H_2  3.327467         10  17.264184   8.639660  0.000003   \n\n         dE_quench     dE/dx  parentPDGID  ...   ZGoOutLS  t_op_start  \\\n0         0.540605  0.277047   1000010020  ...   2.910395    0.536517   \n1         0.540605  0.277047   1000010020  ...   2.642931    0.535676   \n2         0.540605  0.277047   1000010020  ...  25.000000    0.536751   \n3         0.540605  0.277047   1000010020  ...   2.619781    0.542578   \n4         0.640191  0.330738   1000010020  ...  -9.873150    0.541390   \n...            ...       ...          ...  ...        ...         ...   \n4718178   0.710553  0.367259           11  ...   8.045868    0.540643   \n4718179   0.710553  0.367259   1000010020  ...   8.853739    0.544038   \n4718180   0.710553  0.367259   1000010020  ...  22.781319    0.541685   \n4718181   0.710553  0.367259   1000010020  ...   8.639738    0.546189   \n4718182   0.710553  0.367259   1000010020  ... -23.021454    0.544572   \n\n         isReemission  L_LS  mean_theta  mean_theta_int       bin_BeamX  \\\n0                   0     2      15 deg              15  (-25.0, -15.0]   \n1                   0     2       1 deg               1  (-25.0, -15.0]   \n2                   0     2      90 deg              90  (-25.0, -15.0]   \n3                   0     2       1 deg               1  (-25.0, -15.0]   \n4                   0     2      30 deg              30    (15.0, 25.0]   \n...               ...   ...         ...             ...             ...   \n4718178             0     2      45 deg              45    (15.0, 25.0]   \n4718179             0     2      45 deg              45    (15.0, 25.0]   \n4718180             0     2      60 deg              60    (15.0, 25.0]   \n4718181             0     2       1 deg               1    (15.0, 25.0]   \n4718182             0     2      60 deg              60    (15.0, 25.0]   \n\n             bin_BeamZ  num_BeamZ SideOutLS  \n0          (-5.0, 5.0]          2    bottom  \n1          (-5.0, 5.0]          2    bottom  \n2          (-5.0, 5.0]          2      left  \n3          (-5.0, 5.0]          2    bottom  \n4        (-15.0, -5.0]          1    bottom  \n...                ...        ...       ...  \n4718178    (5.0, 15.0]          3    bottom  \n4718179    (5.0, 15.0]          3    bottom  \n4718180    (5.0, 15.0]          3       top  \n4718181    (5.0, 15.0]          3    bottom  \n4718182    (5.0, 15.0]          3       top  \n\n[4718183 rows x 26 columns]",
      "text/html": "<div>\n<style scoped>\n    .dataframe tbody tr th:only-of-type {\n        vertical-align: middle;\n    }\n\n    .dataframe tbody tr th {\n        vertical-align: top;\n    }\n\n    .dataframe thead th {\n        text-align: right;\n    }\n</style>\n<table border=\"1\" class=\"dataframe\">\n  <thead>\n    <tr style=\"text-align: right;\">\n      <th></th>\n      <th>index</th>\n      <th>ion</th>\n      <th>time</th>\n      <th>chamberID</th>\n      <th>BeamX</th>\n      <th>BeamZ</th>\n      <th>Ek</th>\n      <th>dE_quench</th>\n      <th>dE/dx</th>\n      <th>parentPDGID</th>\n      <th>...</th>\n      <th>ZGoOutLS</th>\n      <th>t_op_start</th>\n      <th>isReemission</th>\n      <th>L_LS</th>\n      <th>mean_theta</th>\n      <th>mean_theta_int</th>\n      <th>bin_BeamX</th>\n      <th>bin_BeamZ</th>\n      <th>num_BeamZ</th>\n      <th>SideOutLS</th>\n    </tr>\n  </thead>\n  <tbody>\n    <tr>\n      <th>0</th>\n      <td>0</td>\n      <td>H_2</td>\n      <td>3.308342</td>\n      <td>5</td>\n      <td>-23.335522</td>\n      <td>2.612594</td>\n      <td>0.000003</td>\n      <td>0.540605</td>\n      <td>0.277047</td>\n      <td>1000010020</td>\n      <td>...</td>\n      <td>2.910395</td>\n      <td>0.536517</td>\n      <td>0</td>\n      <td>2</td>\n      <td>15 deg</td>\n      <td>15</td>\n      <td>(-25.0, -15.0]</td>\n      <td>(-5.0, 5.0]</td>\n      <td>2</td>\n      <td>bottom</td>\n    </tr>\n    <tr>\n      <th>1</th>\n      <td>1</td>\n      <td>H_2</td>\n      <td>3.236581</td>\n      <td>6</td>\n      <td>-23.335522</td>\n      <td>2.612594</td>\n      <td>0.000003</td>\n      <td>0.540605</td>\n      <td>0.277047</td>\n      <td>1000010020</td>\n      <td>...</td>\n      <td>2.642931</td>\n      <td>0.535676</td>\n      <td>0</td>\n      <td>2</td>\n      <td>1 deg</td>\n      <td>1</td>\n      <td>(-25.0, -15.0]</td>\n      <td>(-5.0, 5.0]</td>\n      <td>2</td>\n      <td>bottom</td>\n    </tr>\n    <tr>\n      <th>2</th>\n      <td>2</td>\n      <td>H_2</td>\n      <td>3.256821</td>\n      <td>0</td>\n      <td>-23.335522</td>\n      <td>2.612594</td>\n      <td>0.000003</td>\n      <td>0.540605</td>\n      <td>0.277047</td>\n      <td>1000010020</td>\n      <td>...</td>\n      <td>25.000000</td>\n      <td>0.536751</td>\n      <td>0</td>\n      <td>2</td>\n      <td>90 deg</td>\n      <td>90</td>\n      <td>(-25.0, -15.0]</td>\n      <td>(-5.0, 5.0]</td>\n      <td>2</td>\n      <td>left</td>\n    </tr>\n    <tr>\n      <th>3</th>\n      <td>3</td>\n      <td>H_2</td>\n      <td>3.286354</td>\n      <td>6</td>\n      <td>-23.335522</td>\n      <td>2.612594</td>\n      <td>0.000003</td>\n      <td>0.540605</td>\n      <td>0.277047</td>\n      <td>1000010020</td>\n      <td>...</td>\n      <td>2.619781</td>\n      <td>0.542578</td>\n      <td>0</td>\n      <td>2</td>\n      <td>1 deg</td>\n      <td>1</td>\n      <td>(-25.0, -15.0]</td>\n      <td>(-5.0, 5.0]</td>\n      <td>2</td>\n      <td>bottom</td>\n    </tr>\n    <tr>\n      <th>4</th>\n      <td>4</td>\n      <td>H_2</td>\n      <td>3.335671</td>\n      <td>4</td>\n      <td>20.238026</td>\n      <td>-10.218079</td>\n      <td>0.000003</td>\n      <td>0.640191</td>\n      <td>0.330738</td>\n      <td>1000010020</td>\n      <td>...</td>\n      <td>-9.873150</td>\n      <td>0.541390</td>\n      <td>0</td>\n      <td>2</td>\n      <td>30 deg</td>\n      <td>30</td>\n      <td>(15.0, 25.0]</td>\n      <td>(-15.0, -5.0]</td>\n      <td>1</td>\n      <td>bottom</td>\n    </tr>\n    <tr>\n      <th>...</th>\n      <td>...</td>\n      <td>...</td>\n      <td>...</td>\n      <td>...</td>\n      <td>...</td>\n      <td>...</td>\n      <td>...</td>\n      <td>...</td>\n      <td>...</td>\n      <td>...</td>\n      <td>...</td>\n      <td>...</td>\n      <td>...</td>\n      <td>...</td>\n      <td>...</td>\n      <td>...</td>\n      <td>...</td>\n      <td>...</td>\n      <td>...</td>\n      <td>...</td>\n      <td>...</td>\n    </tr>\n    <tr>\n      <th>4718178</th>\n      <td>941717</td>\n      <td>H_2</td>\n      <td>3.316703</td>\n      <td>9</td>\n      <td>17.264184</td>\n      <td>8.639660</td>\n      <td>0.000003</td>\n      <td>0.710553</td>\n      <td>0.367259</td>\n      <td>11</td>\n      <td>...</td>\n      <td>8.045868</td>\n      <td>0.540643</td>\n      <td>0</td>\n      <td>2</td>\n      <td>45 deg</td>\n      <td>45</td>\n      <td>(15.0, 25.0]</td>\n      <td>(5.0, 15.0]</td>\n      <td>3</td>\n      <td>bottom</td>\n    </tr>\n    <tr>\n      <th>4718179</th>\n      <td>941718</td>\n      <td>H_2</td>\n      <td>3.237887</td>\n      <td>3</td>\n      <td>17.264184</td>\n      <td>8.639660</td>\n      <td>0.000003</td>\n      <td>0.710553</td>\n      <td>0.367259</td>\n      <td>1000010020</td>\n      <td>...</td>\n      <td>8.853739</td>\n      <td>0.544038</td>\n      <td>0</td>\n      <td>2</td>\n      <td>45 deg</td>\n      <td>45</td>\n      <td>(15.0, 25.0]</td>\n      <td>(5.0, 15.0]</td>\n      <td>3</td>\n      <td>bottom</td>\n    </tr>\n    <tr>\n      <th>4718180</th>\n      <td>941719</td>\n      <td>H_2</td>\n      <td>3.234847</td>\n      <td>2</td>\n      <td>17.264184</td>\n      <td>8.639660</td>\n      <td>0.000003</td>\n      <td>0.710553</td>\n      <td>0.367259</td>\n      <td>1000010020</td>\n      <td>...</td>\n      <td>22.781319</td>\n      <td>0.541685</td>\n      <td>0</td>\n      <td>2</td>\n      <td>60 deg</td>\n      <td>60</td>\n      <td>(15.0, 25.0]</td>\n      <td>(5.0, 15.0]</td>\n      <td>3</td>\n      <td>top</td>\n    </tr>\n    <tr>\n      <th>4718181</th>\n      <td>941720</td>\n      <td>H_2</td>\n      <td>3.230762</td>\n      <td>6</td>\n      <td>17.264184</td>\n      <td>8.639660</td>\n      <td>0.000003</td>\n      <td>0.710553</td>\n      <td>0.367259</td>\n      <td>1000010020</td>\n      <td>...</td>\n      <td>8.639738</td>\n      <td>0.546189</td>\n      <td>0</td>\n      <td>2</td>\n      <td>1 deg</td>\n      <td>1</td>\n      <td>(15.0, 25.0]</td>\n      <td>(5.0, 15.0]</td>\n      <td>3</td>\n      <td>bottom</td>\n    </tr>\n    <tr>\n      <th>4718182</th>\n      <td>941721</td>\n      <td>H_2</td>\n      <td>3.327467</td>\n      <td>10</td>\n      <td>17.264184</td>\n      <td>8.639660</td>\n      <td>0.000003</td>\n      <td>0.710553</td>\n      <td>0.367259</td>\n      <td>1000010020</td>\n      <td>...</td>\n      <td>-23.021454</td>\n      <td>0.544572</td>\n      <td>0</td>\n      <td>2</td>\n      <td>60 deg</td>\n      <td>60</td>\n      <td>(15.0, 25.0]</td>\n      <td>(5.0, 15.0]</td>\n      <td>3</td>\n      <td>top</td>\n    </tr>\n  </tbody>\n</table>\n<p>4718183 rows × 26 columns</p>\n</div>"
     },
     "execution_count": 4,
     "metadata": {},
     "output_type": "execute_result"
    }
   ],
   "source": [
    "from GlobalFunction import MarkSideOutOfLS\n",
    "df_time = MarkSideOutOfLS(df_time)\n",
    "df_time"
   ],
   "metadata": {
    "collapsed": false,
    "pycharm": {
     "name": "#%%\n"
    }
   }
  },
  {
   "cell_type": "markdown",
   "source": [
    "# Understand $\\mu$ Difference from $\\theta$"
   ],
   "metadata": {
    "collapsed": false
   }
  },
  {
   "cell_type": "code",
   "execution_count": null,
   "outputs": [],
   "source": [
    "def CountPerSide(df_time:pd.DataFrame):\n",
    "    df_count = df_time.value_counts(\"mean_theta_int\")\n",
    "    df_count[1] *= 2\n",
    "    df_count /= 2\n",
    "    return df_count.sort_index()\n",
    "def CalYerror(df_count:pd.DataFrame, nEvts_total:float):\n",
    "    p = df_count/nEvts_total\n",
    "    return np.array( ((1-p)*p/nEvts_total)**0.5 )\n",
    "for  L_LS, n_Evts_total in zip(v_L_LS, v_nEvts):\n",
    "    plt.figure()\n",
    "    index = (df_time[\"isCherenkov\"]==0) & (df_time[\"L_LS\"]==L_LS)\n",
    "    df_count_wideSide = CountPerSide(df_time[( (df_time[\"SideOutLS\"]==\"bottom\") )& index ])\n",
    "    df_count_narrowSide = CountPerSide( df_time[( (df_time[\"SideOutLS\"]==\"left\") |(df_time[\"SideOutLS\"]==\"right\") |\n",
    "                                                  (df_time[\"SideOutLS\"]==\"forward\") | (df_time[\"SideOutLS\"]==\"backward\")|\n",
    "                                                  (df_time[\"SideOutLS\"]==\"top\")) & index ])\n",
    "    df_count_top = CountPerSide( df_time[(df_time[\"SideOutLS\"]==\"top\") & index ])\n",
    "    df_count_total = CountPerSide(df_time[index])\n",
    "    \n",
    "    plt.errorbar(df_count_wideSide.index,df_count_wideSide/n_Evts_total,yerr=CalYerror(df_count_wideSide, n_Evts_total), xerr=2.06,ls=\"none\",\n",
    "                marker=\"o\", capsize=5, capthick=1,color=\"blue\",markersize=5, label=\"Bottom Side\")\n",
    "    plt.errorbar(df_count_narrowSide.index,df_count_narrowSide/n_Evts_total,yerr=CalYerror(df_count_narrowSide, n_Evts_total), xerr=2.06,ls=\"none\",\n",
    "                 marker=\"o\", capsize=5, capthick=1,color=\"red\",markersize=5, label=\"Narrow Side + Top Side\")\n",
    "    plt.errorbar(df_count_total.index,df_count_total/n_Evts_total,yerr=CalYerror(df_count_total, n_Evts_total), xerr=2.06,ls=\"none\",\n",
    "                 marker=\"o\", capsize=5, capthick=1,color=\"black\",markersize=5, label=\"total\")\n",
    "    \n",
    "    from HistTools import GetBinCenter\n",
    "    theta2 = np.linspace(0, np.pi/2, 10000)\n",
    "    theta2_center = GetBinCenter(theta2)\n",
    "    theta1 = np.arccos( np.cos(theta2)/1.5 )\n",
    "    theta1_add = np.arcsin( np.sin(theta2)/1.5 )\n",
    "    v_theta_range = np.degrees(np.diff(theta1_add))+np.degrees(np.diff(theta1))\n",
    "    plt.plot(np.degrees(theta2_center), v_theta_range/max(v_theta_range)*df_count_total.max()/n_Evts_total,\n",
    "             label=r\"$N (\\frac{d(\\arccos{ \\frac{ \\cos{\\theta} }{1.5} )}}{d\\theta}+\\frac{d(\\arcsin{ \\frac{ \\sin{\\theta} }{1.5} )}}{d\\theta})$\")\n",
    "    plt.plot(np.degrees(theta2_center), np.degrees(np.diff(theta1))/max(v_theta_range)*df_count_total.max()/n_Evts_total, ls=\"--\",\n",
    "             label=r\"N $\\frac{d(\\arccos{ \\frac{ \\cos{\\theta} }{1.5} )}}{d\\theta}$\")\n",
    "    plt.plot(np.degrees(theta2_center), np.degrees(np.diff(theta1_add))/max(v_theta_range)*df_count_total.max()/n_Evts_total ,ls=\"--\",\n",
    "             label=r\"N $\\frac{d(\\arcsin{ \\frac{ \\sin{\\theta} }{1.5} )}}{d\\theta}$\")\n",
    "    \n",
    "    plt.ylabel(\"$\\mu$\")\n",
    "    plt.xlabel(\"$theta$ [ deg ]\")\n",
    "    plt.title(\"H2 Beam($L_{LS}=$\"+L_LS+\"mm)\")\n",
    "    plt.legend(bbox_to_anchor=(1,1))"
   ],
   "metadata": {
    "collapsed": false,
    "pycharm": {
     "name": "#%%\n"
    }
   }
  },
  {
   "cell_type": "code",
   "execution_count": null,
   "outputs": [],
   "source": [
    "L_LS = \"2\"\n",
    "index_L_LS = (df_time[\"L_LS\"]==L_LS)\n",
    "df_ratio = df_time[index_L_LS].groupby([\"SideOutLS\",\"mean_theta_int\"])[\"time\"].count()/n_Evts_total\n",
    "# display( df_ratio.xs(1, level=\"mean_theta_int\"))\n",
    "\n",
    "for i,SideOutOfLS in enumerate( set( df_ratio.index.get_level_values(\"SideOutLS\") )):\n",
    "    df_ratio_OneSide = df_ratio.xs(SideOutOfLS, level=\"SideOutLS\").sort_index()\n",
    "    df_ratio_OneSide[1] *= 2\n",
    "    df_ratio_OneSide /= 2\n",
    "    if i==0:\n",
    "        v_values_base = np.zeros(len(df_ratio_OneSide))\n",
    "    plt.bar( df_ratio_OneSide.index, df_ratio_OneSide.values, width=2.06,\n",
    "             bottom=v_values_base, label=SideOutOfLS)\n",
    "    v_values_base += df_ratio_OneSide.values\n",
    "df_count_total = CountPerSide(df_time[index_L_LS])\n",
    "plt.errorbar(df_count_total.index,df_count_total/n_Evts_total,yerr=CalYerror(df_count_total, n_Evts_total), xerr=2.06,ls=\"none\",\n",
    "             marker=\"o\", capsize=5, capthick=1,color=\"black\",markersize=5, label=\"total\")\n",
    "plt.legend(bbox_to_anchor=(1,1))\n",
    "plt.ylabel(\"$\\mu$\")\n",
    "plt.xlabel(\"$theta$ [ deg ]\")\n",
    "plt.title(\"H2 Beam($L_{LS}=$\"+L_LS+\"mm)\")\n",
    "# plt.bar(df_count_wideSide.index,df_count_wideSide/n_Evts_total, width=2.06)\n",
    "# plt.bar(df_count_narrowSide.index,df_count_narrowSide/n_Evts_total, bottom=df_count_wideSide/n_Evts_total,\n",
    "#         width=2.06)"
   ],
   "metadata": {
    "collapsed": false,
    "pycharm": {
     "name": "#%%\n"
    }
   }
  },
  {
   "cell_type": "code",
   "execution_count": null,
   "outputs": [],
   "source": [
    "df_count_total"
   ],
   "metadata": {
    "collapsed": false,
    "pycharm": {
     "name": "#%%\n"
    }
   }
  },
  {
   "cell_type": "markdown",
   "source": [
    "# Understanding of Photon from Top Side"
   ],
   "metadata": {
    "collapsed": false
   }
  },
  {
   "cell_type": "code",
   "execution_count": null,
   "outputs": [],
   "source": [
    "index_top = (df_time[\"SideOutLS\"]==\"top\")\n",
    "plt.hist2d(df_time[index_top][\"ZGoOutLS\"],df_time[index_top][\"XGoOutLS\"], bins=(100, 100),\n",
    "           cmap=\"Blues\")\n",
    "plt.title(\"Photon Out from Top Side\")\n",
    "plt.colorbar()\n",
    "plt.xlabel(\"Z [ mm ]\")\n",
    "plt.ylabel(\"X [ mm ]\")"
   ],
   "metadata": {
    "collapsed": false,
    "pycharm": {
     "name": "#%%\n"
    }
   }
  },
  {
   "cell_type": "markdown",
   "source": [
    "## Separate $\\theta$"
   ],
   "metadata": {
    "collapsed": false
   }
  },
  {
   "cell_type": "code",
   "execution_count": null,
   "outputs": [],
   "source": [
    "# from matplotlib.colors import LogNorm\n",
    "# for theta_int in set(df_time[\"mean_theta_int\"][:1000]):\n",
    "#     plt.figure()\n",
    "#     index_top = (df_time[\"SideOutLS\"]==\"top\") & (df_time[\"mean_theta_int\"]==theta_int)\n",
    "#     plt.hist2d(df_time[index_top][\"ZGoOutLS\"],df_time[index_top][\"XGoOutLS\"], bins=(100, 100),\n",
    "#                cmap=\"Blues\")\n",
    "#     plt.title(r\"$\\theta=$\"+f\"{theta_int} deg\")\n",
    "#     plt.xlabel(\"Z [ mm ]\")\n",
    "#     plt.ylabel(\"X [ mm ]\")\n",
    "#     plt.colorbar()"
   ],
   "metadata": {
    "collapsed": false,
    "pycharm": {
     "name": "#%%\n"
    }
   }
  },
  {
   "cell_type": "markdown",
   "source": [
    "# Time Profile (Instant Emission)\n",
    "## 1. Side Out of LS"
   ],
   "metadata": {
    "collapsed": false
   }
  },
  {
   "cell_type": "code",
   "execution_count": 7,
   "outputs": [],
   "source": [
    "df_time[\"time_flight\"] = df_time[\"time\"]-df_time[\"t_op_start\"]\n",
    "L_LS_to_study = \"2.0\""
   ],
   "metadata": {
    "collapsed": false,
    "pycharm": {
     "name": "#%%\n"
    }
   }
  },
  {
   "cell_type": "code",
   "execution_count": null,
   "outputs": [],
   "source": [
    "sns.histplot(data=df_time[(df_time[\"L_LS\"]==L_LS_to_study) & (df_time[\"mean_theta_int\"]==15)], x=\"time_flight\",\n",
    "             hue=\"SideOutLS\", bins=np.linspace(0, 200, 200),fill=False, element=\"step\")\n",
    "plt.semilogy()\n",
    "plt.title(r\"$\\theta=15(L_{LS}=2mm$)\")\n",
    "plt.xlabel(\"Time of Flight [ ns ]\")\n",
    "plt.xlim(0, 200)"
   ],
   "metadata": {
    "collapsed": false,
    "pycharm": {
     "name": "#%%\n"
    }
   }
  },
  {
   "cell_type": "code",
   "execution_count": null,
   "outputs": [],
   "source": [
    "sns.histplot(data=df_time[(df_time[\"L_LS\"]==L_LS_to_study) & (df_time[\"mean_theta_int\"]==15)], x=\"time_flight\",\n",
    "             hue=\"SideOutLS\", bins=np.linspace(0, 10, 100),fill=False, element=\"step\")\n",
    "plt.semilogy()\n",
    "plt.title(r\"$\\theta=15(L_{LS}=2mm$)\")\n",
    "plt.xlabel(\"Time of Flight [ ns ]\")\n",
    "plt.xlim(0, 10)"
   ],
   "metadata": {
    "collapsed": false,
    "pycharm": {
     "name": "#%%\n"
    }
   }
  },
  {
   "cell_type": "code",
   "execution_count": null,
   "outputs": [],
   "source": [
    "df_time[(df_time[\"time_flight\"]<2) & (df_time[\"L_LS\"]==\"2\") & (df_time[\"mean_theta_int\"]==15)][[\"time\", \"time_flight\", \"t_op_start\"]]"
   ],
   "metadata": {
    "collapsed": false,
    "pycharm": {
     "name": "#%%\n"
    }
   }
  },
  {
   "cell_type": "markdown",
   "source": [
    "## 2. L_LS Dependence"
   ],
   "metadata": {
    "collapsed": false
   }
  },
  {
   "cell_type": "code",
   "execution_count": null,
   "outputs": [],
   "source": [
    "for L_LS in v_L_LS:\n",
    "    sns.histplot(data=df_time[(df_time[\"mean_theta_int\"]==15) & (df_time[\"L_LS\"]==L_LS) ], x=\"time_flight\",\n",
    "                 bins=np.linspace(0, 200, 200),fill=False, element=\"step\", palette=\"bright\",\n",
    "                 stat=\"probability\", label=f\"{L_LS} mm\")\n",
    "plt.semilogy()\n",
    "plt.title(r\"$\\theta_{PMT}=15 deg$\")\n",
    "plt.xlabel(\"Time of Flight [ ns ]\")\n",
    "plt.legend(title=\"Length of LS \")\n",
    "plt.xlim(0, 200)"
   ],
   "metadata": {
    "collapsed": false,
    "pycharm": {
     "name": "#%%\n"
    }
   }
  },
  {
   "cell_type": "code",
   "execution_count": null,
   "outputs": [],
   "source": [
    "for L_LS in v_L_LS:\n",
    "    sns.histplot(data=df_time[(df_time[\"mean_theta_int\"]==15) & (df_time[\"L_LS\"]==L_LS) ], x=\"time_flight\",\n",
    "                 bins=np.linspace(0, 10, 100),fill=False, element=\"step\", palette=\"bright\",\n",
    "                 stat=\"probability\", label=f\"{L_LS} mm\")\n",
    "plt.semilogy()\n",
    "plt.title(r\"$\\theta_{PMT}=15 deg$\")\n",
    "plt.xlabel(\"Time of Flight [ ns ]\")\n",
    "plt.legend(title=\"Length of LS \")\n",
    "plt.xlim(0, 10)"
   ],
   "metadata": {
    "collapsed": false,
    "pycharm": {
     "name": "#%%\n"
    }
   }
  },
  {
   "cell_type": "markdown",
   "source": [
    "## 3. $\\theta$ Dependence"
   ],
   "metadata": {
    "collapsed": false
   }
  },
  {
   "cell_type": "code",
   "execution_count": null,
   "outputs": [],
   "source": [
    "sns.histplot(data=df_time[(df_time[\"L_LS\"]==\"2\") ], x=\"time_flight\", hue=\"mean_theta_int\",\n",
    "             bins=np.linspace(0, 200, 200),fill=False, element=\"step\", palette=\"bright\",\n",
    "             stat=\"probability\", common_norm=False)\n",
    "plt.semilogy()\n",
    "plt.title(r\"$L_{LS}=2mm$\")\n",
    "plt.xlabel(\"Time of Flight [ ns ]\")\n",
    "plt.xlim(0,200)"
   ],
   "metadata": {
    "collapsed": false,
    "pycharm": {
     "name": "#%%\n"
    }
   }
  },
  {
   "cell_type": "code",
   "execution_count": null,
   "outputs": [],
   "source": [
    "sns.histplot(data=df_time[(df_time[\"L_LS\"]==\"2\") ], x=\"time_flight\", hue=\"mean_theta_int\",\n",
    "             bins=np.linspace(0, 10, 100),fill=False, element=\"step\", palette=\"bright\",\n",
    "             stat=\"probability\", common_norm=False)\n",
    "plt.semilogy()\n",
    "plt.title(r\"$L_{LS}=2mm$\")\n",
    "plt.xlabel(\"Time of Flight [ ns ]\")\n",
    "plt.xlim(0, 10)"
   ],
   "metadata": {
    "collapsed": false,
    "pycharm": {
     "name": "#%%\n"
    }
   }
  },
  {
   "cell_type": "code",
   "execution_count": null,
   "outputs": [],
   "source": [
    "sns.histplot(data=df_time[(df_time[\"L_LS\"]==\"2\")&(df_time[\"mean_theta_int\"]==15) ], x=\"time_flight\", hue=\"isReemission\",\n",
    "             bins=np.linspace(0, 200, 200),fill=False, element=\"step\", palette=\"bright\",\n",
    "             stat=\"probability\", common_norm=False)\n",
    "plt.semilogy()\n",
    "plt.title(r\"$L_{LS}=2mm$\")\n",
    "plt.xlabel(\"Time of Flight [ ns ]\")"
   ],
   "metadata": {
    "collapsed": false,
    "pycharm": {
     "name": "#%%\n"
    }
   }
  },
  {
   "cell_type": "markdown",
   "source": [
    "# Save Instant Emission PDF"
   ],
   "metadata": {
    "collapsed": false
   }
  },
  {
   "cell_type": "code",
   "execution_count": null,
   "outputs": [],
   "source": [
    "sns.histplot(data=df_time[(df_time[\"L_LS\"]==\"2\")&(df_time[\"mean_theta_int\"]==15) ], x=\"time\",\n",
    "             bins=np.linspace(0, 200, 200),fill=False, element=\"step\", palette=\"bright\",\n",
    "             stat=\"probability\", common_norm=False)\n",
    "plt.semilogy()"
   ],
   "metadata": {
    "collapsed": false,
    "pycharm": {
     "name": "#%%\n"
    }
   }
  },
  {
   "cell_type": "code",
   "execution_count": null,
   "outputs": [],
   "source": [
    "df_time"
   ],
   "metadata": {
    "collapsed": false,
    "pycharm": {
     "name": "#%%\n"
    }
   }
  },
  {
   "cell_type": "code",
   "execution_count": 8,
   "outputs": [],
   "source": [
    "save_root_pdf = True\n",
    "from HistTools import GetBinCenter\n",
    "if save_root_pdf:\n",
    "    from GlobalFunction import tag_parentType, GlobalVal\n",
    "    from GetPhysicsProperty import NameToPDGID\n",
    "    import ROOT\n",
    "    L_LS = \"2\"\n",
    "    dict_save = {\"time\":[], \"source\":[],\"theta\":[], \"time_flight\":[]}\n",
    "    for particle in [\"H_2\"]:\n",
    "        for theta in [15]:\n",
    "            df_tmp = df_time[(df_time[\"L_LS\"]==\"2\") ]\n",
    "\n",
    "            h = np.histogram(df_tmp[\"time\"], bins=np.linspace(-10, 30,500))\n",
    "            dict_save[\"time\"] += list( np.array( df_tmp[\"time\"]-GetBinCenter(h[1])[np.argmax(h[0])], dtype=np.float64) )\n",
    "\n",
    "\n",
    "            dict_save[\"time_flight\"] += list( np.array(df_tmp[\"time_flight\"], dtype=np.float64) )\n",
    "            dict_save[\"theta\"] += list( np.array(df_tmp[\"mean_theta_int\"]) )\n",
    "\n",
    "            df_tmp[\"parentType\"] = df_tmp[\"parentPDGID\"].apply(lambda pdgID: tag_parentType(pdgID, NameToPDGID(particle)))\n",
    "            dict_save[\"source\"] += list( np.array(df_tmp[\"parentType\"].replace(GlobalVal.dict_replace_sourceTag)) )\n",
    "\n",
    "    for key in dict_save.keys():\n",
    "        dict_save[key] = np.array(dict_save[key])\n",
    "\n",
    "    rdf = ROOT.RDF.MakeNumpyDataFrame(dict_save)\n",
    "    rdf.Snapshot(\"Data\", f\"/afs/ihep.ac.cn/users/l/luoxj/JUNO_G4_Simulation/optical_run/OneShotSimulation/root_InstantEmission/time_LS_{L_LS}mm_SubtractT0.root\" )"
   ],
   "metadata": {
    "collapsed": false,
    "pycharm": {
     "name": "#%%\n"
    }
   }
  },
  {
   "cell_type": "code",
   "execution_count": null,
   "outputs": [],
   "source": [
    "print(dict_save[\"source\"][:100])"
   ],
   "metadata": {
    "collapsed": false,
    "pycharm": {
     "name": "#%%\n"
    }
   }
  },
  {
   "cell_type": "code",
   "execution_count": null,
   "outputs": [],
   "source": [],
   "metadata": {
    "collapsed": false,
    "pycharm": {
     "name": "#%%\n"
    }
   }
  },
  {
   "cell_type": "code",
   "execution_count": null,
   "outputs": [],
   "source": [],
   "metadata": {
    "collapsed": false,
    "pycharm": {
     "name": "#%%\n"
    }
   }
  }
 ],
 "metadata": {
  "kernelspec": {
   "display_name": "Python 3",
   "language": "python",
   "name": "python3"
  },
  "language_info": {
   "codemirror_mode": {
    "name": "ipython",
    "version": 2
   },
   "file_extension": ".py",
   "mimetype": "text/x-python",
   "name": "python",
   "nbconvert_exporter": "python",
   "pygments_lexer": "ipython2",
   "version": "2.7.6"
  }
 },
 "nbformat": 4,
 "nbformat_minor": 0
}