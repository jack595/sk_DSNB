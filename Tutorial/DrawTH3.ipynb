{
 "cells": [
  {
   "cell_type": "code",
   "execution_count": 1,
   "metadata": {
    "collapsed": true
   },
   "outputs": [],
   "source": [
    "import matplotlib.pylab as plt\n",
    "import numpy as np\n",
    "plt.style.use([\"science\",\"no-latex\", \"/afs/ihep.ac.cn/users/l/luoxj/Style/Paper.mplstyle\"])\n",
    "%config InlineBackend.figure_format = 'svg'\n",
    "#plt.rcParams['figure.dpi'] = 300\n",
    "#plt.rcParams['savefig.dpi'] = 300\n",
    "import sys\n",
    "sys.path.append(\"/afs/ihep.ac.cn/users/l/luoxj/root_tool/python_script/\")"
   ]
  },
  {
   "cell_type": "code",
   "execution_count": 7,
   "outputs": [],
   "source": [
    "from LoadMultiFiles import LoadOneFileUproot\n",
    "dir_events = LoadOneFileUproot(\"/afs/ihep.ac.cn/users/z/zhaoxiao/cms/CEPCSW/Digitisers/FanEcalDigi/results/D_RCEcal_45GeV_gamma_10layer_2.root\",\n",
    "                               name_branch=\"ClusBar\", return_list=False)"
   ],
   "metadata": {
    "collapsed": false,
    "pycharm": {
     "name": "#%%\n"
    }
   }
  },
  {
   "cell_type": "code",
   "execution_count": 5,
   "outputs": [
    {
     "name": "stdout",
     "output_type": "stream",
     "text": [
      "dict_keys(['clusBar_x', 'clusBar_y', 'clusBar_z', 'clusBar_T1', 'clusBar_T2', 'clusBar_Q1', 'clusBar_Q2', 'clusBar_NR', 'clusBar_Nphi', 'clusBar_Nz', 'clusBar_NE', 'clusBar_module', 'clusBar_crystal', 'nclusBar', 'ncrossBar'])\n"
     ]
    }
   ],
   "source": [
    "print(dir_events.keys())"
   ],
   "metadata": {
    "collapsed": false,
    "pycharm": {
     "name": "#%%\n"
    }
   }
  },
  {
   "cell_type": "code",
   "execution_count": 31,
   "outputs": [
    {
     "name": "stderr",
     "output_type": "stream",
     "text": [
      "qt.glx: qglx_findConfig: Failed to finding matching FBConfig for QSurfaceFormat(version 2.0, options QFlags<QSurfaceFormat::FormatOption>(), depthBufferSize -1, redBufferSize 1, greenBufferSize 1, blueBufferSize 1, alphaBufferSize -1, stencilBufferSize -1, samples -1, swapBehavior QSurfaceFormat::SingleBuffer, swapInterval 1, colorSpace QSurfaceFormat::DefaultColorSpace, profile  QSurfaceFormat::NoProfile)\n",
      "No XVisualInfo for format QSurfaceFormat(version 2.0, options QFlags<QSurfaceFormat::FormatOption>(), depthBufferSize -1, redBufferSize 1, greenBufferSize 1, blueBufferSize 1, alphaBufferSize -1, stencilBufferSize -1, samples -1, swapBehavior QSurfaceFormat::SingleBuffer, swapInterval 1, colorSpace QSurfaceFormat::DefaultColorSpace, profile  QSurfaceFormat::NoProfile)\n",
      "Falling back to using screens root_visual.\n"
     ]
    }
   ],
   "source": [
    "%matplotlib qt\n",
    "for i_event in [4]:\n",
    "    fig = plt.figure()\n",
    "    ax = plt.subplot(projection=\"3d\")\n",
    "    # print(dir_events[\"clusBar_NE\"])\n",
    "    index = (dir_events[\"clusBar_NE\"][i_event]>0)\n",
    "    img =ax.scatter( dir_events[\"clusBar_Nphi\"][i_event][index],dir_events[\"clusBar_Nz\"][i_event][index],dir_events[\"clusBar_NR\"][i_event][index], c=     dir_events[\"clusBar_NE\"][i_event][index],s=50)\n",
    "    ax.set_ylim(-30,30)\n",
    "    fig.colorbar(img)\n",
    "    # ax.set_title(str(i_event))"
   ],
   "metadata": {
    "collapsed": false,
    "pycharm": {
     "name": "#%%\n"
    }
   }
  }
 ],
 "metadata": {
  "kernelspec": {
   "display_name": "Python 3",
   "language": "python",
   "name": "python3"
  },
  "language_info": {
   "codemirror_mode": {
    "name": "ipython",
    "version": 2
   },
   "file_extension": ".py",
   "mimetype": "text/x-python",
   "name": "python",
   "nbconvert_exporter": "python",
   "pygments_lexer": "ipython2",
   "version": "2.7.6"
  }
 },
 "nbformat": 4,
 "nbformat_minor": 0
}