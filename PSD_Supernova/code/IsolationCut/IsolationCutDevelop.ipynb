{
 "cells": [
  {
   "cell_type": "code",
   "execution_count": 43,
   "metadata": {
    "collapsed": true
   },
   "outputs": [],
   "source": [
    "import matplotlib.pylab as plt\n",
    "import numpy as np\n",
    "plt.style.use([\"science\",\"no-latex\", \"/afs/ihep.ac.cn/users/l/luoxj/Style/Paper.mplstyle\"])\n",
    "%config InlineBackend.figure_format = 'svg'\n",
    "#plt.rcParams['figure.dpi'] = 300\n",
    "#plt.rcParams['savefig.dpi'] = 300\n",
    "import sys\n",
    "sys.path.append(\"/afs/ihep.ac.cn/users/l/luoxj/root_tool/python_script/\")"
   ]
  },
  {
   "cell_type": "code",
   "execution_count": 44,
   "outputs": [
    {
     "data": {
      "text/plain": "       evtID        nuE     evtType       recE         recX          recY  \\\n0          0  19.983615         pES   0.212583 -4925.322266  -2619.566650   \n1          1  72.964650         N12  63.653191 -6283.850098  12852.231445   \n2          2  72.964650  AfterPulse   0.482681   139.278885    -23.865454   \n3          3   0.000000  AfterPulse   0.311441    81.301765   -534.210999   \n4          4  12.503522        IBDp  13.340494  4992.425293  10178.103516   \n...      ...        ...         ...        ...          ...           ...   \n18663  18663  20.753764         pES   0.188194  6186.286621   2394.746094   \n18664  18664  13.158622        IBDp  13.805496 -7299.820801   4423.094727   \n18665  18665  13.158622        IBDd   2.495589 -7529.791504   4455.890137   \n18666  18666  17.317196        IBDp  18.530066  5044.806152  14350.795898   \n18667  18667  17.317196        IBDd   2.418566  6145.125000  14461.286133   \n\n               recZ   ratioSN   ratioDN   ratioAP  ...    TotalCharge  TagAP  \\\n0       3983.017334  0.319780  0.671429  0.003297  ...     744.910091      0   \n1      -4924.565430  0.981472  0.005437  0.013063  ...  113116.718872      0   \n2        568.739075  0.028527  0.382421  0.582113  ...    1045.376907      1   \n3         12.567459  0.000000  0.280500  0.714500  ...     499.848627      1   \n4       4714.770996  0.961626  0.025472  0.012760  ...   22466.255727      0   \n...             ...       ...       ...       ...  ...            ...    ...   \n18663  12541.400391  0.338235  0.652715  0.004525  ...     706.928918      0   \n18664  -8364.102539  0.961896  0.024873  0.013044  ...   22716.439760      0   \n18665  -8275.335938  0.859468  0.127006  0.012150  ...    4500.187693      0   \n18666   3421.122070  0.968430  0.018737  0.012801  ...   33086.969728      0   \n18667   3196.138916  0.861417  0.121205  0.012538  ...    4655.523785      0   \n\n       TagIBDp  TagIBDd  IBDSource        psdVal  TagPSD  TagCCp  TagCCd  \\\n0            0        0         -1  4.332481e-03       2       0       0   \n1            0        0         -1  9.998755e-01       1       1       0   \n2            0        0          0  5.603862e-03       2       0       0   \n3            0        0          0  7.416920e-07       2       0       0   \n4            1        0         -1  9.968648e-01       1       0       0   \n...        ...      ...        ...           ...     ...     ...     ...   \n18663        0        0         -1  1.275571e-03       2       0       0   \n18664        1        0         -1  9.985903e-01       1       0       0   \n18665        0        1      18664  9.971751e-01       1       0       0   \n18666        1        0         -1  9.998966e-01       1       0       0   \n18667        0        1      18666  9.983866e-01       1       0       0   \n\n       CCSource  \n0             0  \n1            -1  \n2             0  \n3             0  \n4             0  \n...         ...  \n18663         0  \n18664         0  \n18665         0  \n18666         0  \n18667         0  \n\n[18668 rows x 30 columns]",
      "text/html": "<div>\n<style scoped>\n    .dataframe tbody tr th:only-of-type {\n        vertical-align: middle;\n    }\n\n    .dataframe tbody tr th {\n        vertical-align: top;\n    }\n\n    .dataframe thead th {\n        text-align: right;\n    }\n</style>\n<table border=\"1\" class=\"dataframe\">\n  <thead>\n    <tr style=\"text-align: right;\">\n      <th></th>\n      <th>evtID</th>\n      <th>nuE</th>\n      <th>evtType</th>\n      <th>recE</th>\n      <th>recX</th>\n      <th>recY</th>\n      <th>recZ</th>\n      <th>ratioSN</th>\n      <th>ratioDN</th>\n      <th>ratioAP</th>\n      <th>...</th>\n      <th>TotalCharge</th>\n      <th>TagAP</th>\n      <th>TagIBDp</th>\n      <th>TagIBDd</th>\n      <th>IBDSource</th>\n      <th>psdVal</th>\n      <th>TagPSD</th>\n      <th>TagCCp</th>\n      <th>TagCCd</th>\n      <th>CCSource</th>\n    </tr>\n  </thead>\n  <tbody>\n    <tr>\n      <th>0</th>\n      <td>0</td>\n      <td>19.983615</td>\n      <td>pES</td>\n      <td>0.212583</td>\n      <td>-4925.322266</td>\n      <td>-2619.566650</td>\n      <td>3983.017334</td>\n      <td>0.319780</td>\n      <td>0.671429</td>\n      <td>0.003297</td>\n      <td>...</td>\n      <td>744.910091</td>\n      <td>0</td>\n      <td>0</td>\n      <td>0</td>\n      <td>-1</td>\n      <td>4.332481e-03</td>\n      <td>2</td>\n      <td>0</td>\n      <td>0</td>\n      <td>0</td>\n    </tr>\n    <tr>\n      <th>1</th>\n      <td>1</td>\n      <td>72.964650</td>\n      <td>N12</td>\n      <td>63.653191</td>\n      <td>-6283.850098</td>\n      <td>12852.231445</td>\n      <td>-4924.565430</td>\n      <td>0.981472</td>\n      <td>0.005437</td>\n      <td>0.013063</td>\n      <td>...</td>\n      <td>113116.718872</td>\n      <td>0</td>\n      <td>0</td>\n      <td>0</td>\n      <td>-1</td>\n      <td>9.998755e-01</td>\n      <td>1</td>\n      <td>1</td>\n      <td>0</td>\n      <td>-1</td>\n    </tr>\n    <tr>\n      <th>2</th>\n      <td>2</td>\n      <td>72.964650</td>\n      <td>AfterPulse</td>\n      <td>0.482681</td>\n      <td>139.278885</td>\n      <td>-23.865454</td>\n      <td>568.739075</td>\n      <td>0.028527</td>\n      <td>0.382421</td>\n      <td>0.582113</td>\n      <td>...</td>\n      <td>1045.376907</td>\n      <td>1</td>\n      <td>0</td>\n      <td>0</td>\n      <td>0</td>\n      <td>5.603862e-03</td>\n      <td>2</td>\n      <td>0</td>\n      <td>0</td>\n      <td>0</td>\n    </tr>\n    <tr>\n      <th>3</th>\n      <td>3</td>\n      <td>0.000000</td>\n      <td>AfterPulse</td>\n      <td>0.311441</td>\n      <td>81.301765</td>\n      <td>-534.210999</td>\n      <td>12.567459</td>\n      <td>0.000000</td>\n      <td>0.280500</td>\n      <td>0.714500</td>\n      <td>...</td>\n      <td>499.848627</td>\n      <td>1</td>\n      <td>0</td>\n      <td>0</td>\n      <td>0</td>\n      <td>7.416920e-07</td>\n      <td>2</td>\n      <td>0</td>\n      <td>0</td>\n      <td>0</td>\n    </tr>\n    <tr>\n      <th>4</th>\n      <td>4</td>\n      <td>12.503522</td>\n      <td>IBDp</td>\n      <td>13.340494</td>\n      <td>4992.425293</td>\n      <td>10178.103516</td>\n      <td>4714.770996</td>\n      <td>0.961626</td>\n      <td>0.025472</td>\n      <td>0.012760</td>\n      <td>...</td>\n      <td>22466.255727</td>\n      <td>0</td>\n      <td>1</td>\n      <td>0</td>\n      <td>-1</td>\n      <td>9.968648e-01</td>\n      <td>1</td>\n      <td>0</td>\n      <td>0</td>\n      <td>0</td>\n    </tr>\n    <tr>\n      <th>...</th>\n      <td>...</td>\n      <td>...</td>\n      <td>...</td>\n      <td>...</td>\n      <td>...</td>\n      <td>...</td>\n      <td>...</td>\n      <td>...</td>\n      <td>...</td>\n      <td>...</td>\n      <td>...</td>\n      <td>...</td>\n      <td>...</td>\n      <td>...</td>\n      <td>...</td>\n      <td>...</td>\n      <td>...</td>\n      <td>...</td>\n      <td>...</td>\n      <td>...</td>\n      <td>...</td>\n    </tr>\n    <tr>\n      <th>18663</th>\n      <td>18663</td>\n      <td>20.753764</td>\n      <td>pES</td>\n      <td>0.188194</td>\n      <td>6186.286621</td>\n      <td>2394.746094</td>\n      <td>12541.400391</td>\n      <td>0.338235</td>\n      <td>0.652715</td>\n      <td>0.004525</td>\n      <td>...</td>\n      <td>706.928918</td>\n      <td>0</td>\n      <td>0</td>\n      <td>0</td>\n      <td>-1</td>\n      <td>1.275571e-03</td>\n      <td>2</td>\n      <td>0</td>\n      <td>0</td>\n      <td>0</td>\n    </tr>\n    <tr>\n      <th>18664</th>\n      <td>18664</td>\n      <td>13.158622</td>\n      <td>IBDp</td>\n      <td>13.805496</td>\n      <td>-7299.820801</td>\n      <td>4423.094727</td>\n      <td>-8364.102539</td>\n      <td>0.961896</td>\n      <td>0.024873</td>\n      <td>0.013044</td>\n      <td>...</td>\n      <td>22716.439760</td>\n      <td>0</td>\n      <td>1</td>\n      <td>0</td>\n      <td>-1</td>\n      <td>9.985903e-01</td>\n      <td>1</td>\n      <td>0</td>\n      <td>0</td>\n      <td>0</td>\n    </tr>\n    <tr>\n      <th>18665</th>\n      <td>18665</td>\n      <td>13.158622</td>\n      <td>IBDd</td>\n      <td>2.495589</td>\n      <td>-7529.791504</td>\n      <td>4455.890137</td>\n      <td>-8275.335938</td>\n      <td>0.859468</td>\n      <td>0.127006</td>\n      <td>0.012150</td>\n      <td>...</td>\n      <td>4500.187693</td>\n      <td>0</td>\n      <td>0</td>\n      <td>1</td>\n      <td>18664</td>\n      <td>9.971751e-01</td>\n      <td>1</td>\n      <td>0</td>\n      <td>0</td>\n      <td>0</td>\n    </tr>\n    <tr>\n      <th>18666</th>\n      <td>18666</td>\n      <td>17.317196</td>\n      <td>IBDp</td>\n      <td>18.530066</td>\n      <td>5044.806152</td>\n      <td>14350.795898</td>\n      <td>3421.122070</td>\n      <td>0.968430</td>\n      <td>0.018737</td>\n      <td>0.012801</td>\n      <td>...</td>\n      <td>33086.969728</td>\n      <td>0</td>\n      <td>1</td>\n      <td>0</td>\n      <td>-1</td>\n      <td>9.998966e-01</td>\n      <td>1</td>\n      <td>0</td>\n      <td>0</td>\n      <td>0</td>\n    </tr>\n    <tr>\n      <th>18667</th>\n      <td>18667</td>\n      <td>17.317196</td>\n      <td>IBDd</td>\n      <td>2.418566</td>\n      <td>6145.125000</td>\n      <td>14461.286133</td>\n      <td>3196.138916</td>\n      <td>0.861417</td>\n      <td>0.121205</td>\n      <td>0.012538</td>\n      <td>...</td>\n      <td>4655.523785</td>\n      <td>0</td>\n      <td>0</td>\n      <td>1</td>\n      <td>18666</td>\n      <td>9.983866e-01</td>\n      <td>1</td>\n      <td>0</td>\n      <td>0</td>\n      <td>0</td>\n    </tr>\n  </tbody>\n</table>\n<p>18668 rows × 30 columns</p>\n</div>"
     },
     "metadata": {},
     "output_type": "display_data"
    }
   ],
   "source": [
    "import pandas as pd\n",
    "from LoadMultiFiles import LoadOneFileUproot\n",
    "from IPython.display import display\n",
    "# dir_map = LoadOneFileUproot(arg.path_evtTruth,\n",
    "#                             name_branch=\"evtTruth\", return_list=False)\n",
    "# dir_AP = LoadOneFileUproot(arg.path_AfterPulse,\n",
    "#                             name_branch=\"AfterPulseTag\", return_list=False)\n",
    "\n",
    "dir_map = LoadOneFileUproot(\"/afs/ihep.ac.cn/users/l/luoxj/PSD_Supernova/myJUNOCommon/share/tag_event/root/sn_tag_0.root\",\n",
    "                            name_branch=\"evtTruth\", return_list=False)\n",
    "dir_AP = LoadOneFileUproot(\"/afs/ihep.ac.cn/users/l/luoxj/PSD_Supernova/AfterPulsePrediction/root/TagAfterPulse_0.root\",\n",
    "                           name_branch=\"AfterPulseTag\", return_list=False)\n",
    "dir_PSD = LoadOneFileUproot(\"/afs/ihep.ac.cn/users/l/luoxj/PSD_Supernova/myJUNOCommon/share/PSD/root/user_PSD_0_SN.root\",\n",
    "                            name_branch=\"PSD\", return_list=False)\n",
    "dir_IBD = LoadOneFileUproot(\"/afs/ihep.ac.cn/users/l/luoxj/PSD_Supernova/code/PromptDelayedSignalSelection/try_0_IBD.root\",\n",
    "                            name_branch=\"IBDSelection\", return_list=False)\n",
    "\n",
    "dir_CC = LoadOneFileUproot(\"/afs/ihep.ac.cn/users/l/luoxj/PSD_Supernova/code/PromptDelayedSignalSelection/try_0_CC.root\",\n",
    "                            name_branch=\"CCSelection\", return_list=False)\n",
    "\n",
    "df_AP = pd.DataFrame.from_dict(dir_AP)\n",
    "df_map = pd.DataFrame.from_dict(dir_map)\n",
    "df_map = pd.concat( (df_map, df_AP),axis=1)\n",
    "\n",
    "dir_IBD.pop(\"evtID\")\n",
    "df_IBD = pd.DataFrame.from_dict(dir_IBD)\n",
    "df_map = pd.concat( (df_map, df_IBD), axis=1 )\n",
    "\n",
    "df_PSD = pd.DataFrame.from_dict(dir_PSD)\n",
    "df_PSD = df_PSD.rename({\"evtType\":\"TagPSD\"},axis=1)\n",
    "df_map = pd.concat( (df_map, df_PSD),axis=1)\n",
    "\n",
    "df_CC = pd.DataFrame.from_dict(dir_CC)\n",
    "df_CC.pop(\"evtID\")\n",
    "df_map = pd.concat( (df_map, df_CC), axis=1)\n",
    "display(df_map)\n",
    "\n",
    "# index_to_select = (index_to_select) & (df_map[\"TagPSD\"]==1)"
   ],
   "metadata": {
    "collapsed": false,
    "pycharm": {
     "name": "#%%\n"
    }
   }
  },
  {
   "cell_type": "code",
   "execution_count": 45,
   "outputs": [
    {
     "data": {
      "text/plain": "       evtID        nuE evtType       recE          recX          recY  \\\n6          6  35.564467     C12  17.160961  -2723.495850  -2786.581299   \n11        11  91.320893     C12  17.330372   4105.452148   2181.618896   \n14        14  89.826569     N12  82.607925  11129.044922  -1261.677368   \n19        19  25.122572     C12  17.018988  -3235.196045  -9339.512695   \n104      104  34.417025    IBDd   2.404224   -468.323364 -16138.972656   \n...      ...        ...     ...        ...           ...           ...   \n18472  18472  13.661681     eES  13.017497  -1133.143677   1075.842529   \n18483  18483  14.932393     eES   4.838593   6636.489746   3670.890137   \n18493  18493   4.842289     eES   5.083123  -6461.172852   8595.550781   \n18546  18546   4.707510     eES   1.128573   2455.495117     -0.008489   \n18588  18588   7.537539     eES   1.983617 -10962.221680  -6318.103027   \n\n               recZ   ratioSN   ratioDN   ratioAP  ...  TagAP  TagIBDp  \\\n6       2033.689087  0.963161  0.024505  0.012293  ...      0        0   \n11    -10519.915039  0.965366  0.021578  0.013017  ...      0        0   \n14    -11197.679688  0.982896  0.003721  0.013368  ...      0        0   \n19      -196.914154  0.966017  0.021153  0.012753  ...      0        0   \n104     4879.690430  0.856968  0.126595  0.015702  ...      0        0   \n...             ...       ...       ...       ...  ...    ...      ...   \n18472  11383.892578  0.957458  0.028683  0.013555  ...      0        0   \n18483 -14299.619141  0.915942  0.072253  0.011286  ...      0        0   \n18493 -10762.037109  0.921234  0.066444  0.011976  ...      0        0   \n18546   8848.001953  0.720308  0.266546  0.010879  ...      0        0   \n18588   3713.224854  0.850230  0.138145  0.011084  ...      0        0   \n\n       TagIBDd  IBDSource    psdVal TagPSD  TagCCp  TagCCd  CCSource  \\\n6            0         -1  0.989000      1       0       0        -1   \n11           0         -1  0.997958      1       0       0        -1   \n14           0         -1  0.999861      1       0       0        -1   \n19           0         -1  0.997107      1       0       0        -1   \n104          0         -1  0.909560      1       0       0        -1   \n...        ...        ...       ...    ...     ...     ...       ...   \n18472        0         -1  0.994460      1       0       0        -1   \n18483        0         -1  0.993179      1       0       0        -1   \n18493        0         -1  0.998841      1       0       0        -1   \n18546        0         -1  0.822502      1       0       0        -1   \n18588        0         -1  0.997413      1       0       0        -1   \n\n                  R  \n6       4395.265212  \n11     11501.426467  \n14     15837.787126  \n19      9885.937792  \n104    16867.043127  \n...             ...  \n18472  11490.624960  \n18483  16186.338008  \n18493  15213.536426  \n18546   9182.406810  \n18588  13186.234066  \n\n[858 rows x 31 columns]",
      "text/html": "<div>\n<style scoped>\n    .dataframe tbody tr th:only-of-type {\n        vertical-align: middle;\n    }\n\n    .dataframe tbody tr th {\n        vertical-align: top;\n    }\n\n    .dataframe thead th {\n        text-align: right;\n    }\n</style>\n<table border=\"1\" class=\"dataframe\">\n  <thead>\n    <tr style=\"text-align: right;\">\n      <th></th>\n      <th>evtID</th>\n      <th>nuE</th>\n      <th>evtType</th>\n      <th>recE</th>\n      <th>recX</th>\n      <th>recY</th>\n      <th>recZ</th>\n      <th>ratioSN</th>\n      <th>ratioDN</th>\n      <th>ratioAP</th>\n      <th>...</th>\n      <th>TagAP</th>\n      <th>TagIBDp</th>\n      <th>TagIBDd</th>\n      <th>IBDSource</th>\n      <th>psdVal</th>\n      <th>TagPSD</th>\n      <th>TagCCp</th>\n      <th>TagCCd</th>\n      <th>CCSource</th>\n      <th>R</th>\n    </tr>\n  </thead>\n  <tbody>\n    <tr>\n      <th>6</th>\n      <td>6</td>\n      <td>35.564467</td>\n      <td>C12</td>\n      <td>17.160961</td>\n      <td>-2723.495850</td>\n      <td>-2786.581299</td>\n      <td>2033.689087</td>\n      <td>0.963161</td>\n      <td>0.024505</td>\n      <td>0.012293</td>\n      <td>...</td>\n      <td>0</td>\n      <td>0</td>\n      <td>0</td>\n      <td>-1</td>\n      <td>0.989000</td>\n      <td>1</td>\n      <td>0</td>\n      <td>0</td>\n      <td>-1</td>\n      <td>4395.265212</td>\n    </tr>\n    <tr>\n      <th>11</th>\n      <td>11</td>\n      <td>91.320893</td>\n      <td>C12</td>\n      <td>17.330372</td>\n      <td>4105.452148</td>\n      <td>2181.618896</td>\n      <td>-10519.915039</td>\n      <td>0.965366</td>\n      <td>0.021578</td>\n      <td>0.013017</td>\n      <td>...</td>\n      <td>0</td>\n      <td>0</td>\n      <td>0</td>\n      <td>-1</td>\n      <td>0.997958</td>\n      <td>1</td>\n      <td>0</td>\n      <td>0</td>\n      <td>-1</td>\n      <td>11501.426467</td>\n    </tr>\n    <tr>\n      <th>14</th>\n      <td>14</td>\n      <td>89.826569</td>\n      <td>N12</td>\n      <td>82.607925</td>\n      <td>11129.044922</td>\n      <td>-1261.677368</td>\n      <td>-11197.679688</td>\n      <td>0.982896</td>\n      <td>0.003721</td>\n      <td>0.013368</td>\n      <td>...</td>\n      <td>0</td>\n      <td>0</td>\n      <td>0</td>\n      <td>-1</td>\n      <td>0.999861</td>\n      <td>1</td>\n      <td>0</td>\n      <td>0</td>\n      <td>-1</td>\n      <td>15837.787126</td>\n    </tr>\n    <tr>\n      <th>19</th>\n      <td>19</td>\n      <td>25.122572</td>\n      <td>C12</td>\n      <td>17.018988</td>\n      <td>-3235.196045</td>\n      <td>-9339.512695</td>\n      <td>-196.914154</td>\n      <td>0.966017</td>\n      <td>0.021153</td>\n      <td>0.012753</td>\n      <td>...</td>\n      <td>0</td>\n      <td>0</td>\n      <td>0</td>\n      <td>-1</td>\n      <td>0.997107</td>\n      <td>1</td>\n      <td>0</td>\n      <td>0</td>\n      <td>-1</td>\n      <td>9885.937792</td>\n    </tr>\n    <tr>\n      <th>104</th>\n      <td>104</td>\n      <td>34.417025</td>\n      <td>IBDd</td>\n      <td>2.404224</td>\n      <td>-468.323364</td>\n      <td>-16138.972656</td>\n      <td>4879.690430</td>\n      <td>0.856968</td>\n      <td>0.126595</td>\n      <td>0.015702</td>\n      <td>...</td>\n      <td>0</td>\n      <td>0</td>\n      <td>0</td>\n      <td>-1</td>\n      <td>0.909560</td>\n      <td>1</td>\n      <td>0</td>\n      <td>0</td>\n      <td>-1</td>\n      <td>16867.043127</td>\n    </tr>\n    <tr>\n      <th>...</th>\n      <td>...</td>\n      <td>...</td>\n      <td>...</td>\n      <td>...</td>\n      <td>...</td>\n      <td>...</td>\n      <td>...</td>\n      <td>...</td>\n      <td>...</td>\n      <td>...</td>\n      <td>...</td>\n      <td>...</td>\n      <td>...</td>\n      <td>...</td>\n      <td>...</td>\n      <td>...</td>\n      <td>...</td>\n      <td>...</td>\n      <td>...</td>\n      <td>...</td>\n      <td>...</td>\n    </tr>\n    <tr>\n      <th>18472</th>\n      <td>18472</td>\n      <td>13.661681</td>\n      <td>eES</td>\n      <td>13.017497</td>\n      <td>-1133.143677</td>\n      <td>1075.842529</td>\n      <td>11383.892578</td>\n      <td>0.957458</td>\n      <td>0.028683</td>\n      <td>0.013555</td>\n      <td>...</td>\n      <td>0</td>\n      <td>0</td>\n      <td>0</td>\n      <td>-1</td>\n      <td>0.994460</td>\n      <td>1</td>\n      <td>0</td>\n      <td>0</td>\n      <td>-1</td>\n      <td>11490.624960</td>\n    </tr>\n    <tr>\n      <th>18483</th>\n      <td>18483</td>\n      <td>14.932393</td>\n      <td>eES</td>\n      <td>4.838593</td>\n      <td>6636.489746</td>\n      <td>3670.890137</td>\n      <td>-14299.619141</td>\n      <td>0.915942</td>\n      <td>0.072253</td>\n      <td>0.011286</td>\n      <td>...</td>\n      <td>0</td>\n      <td>0</td>\n      <td>0</td>\n      <td>-1</td>\n      <td>0.993179</td>\n      <td>1</td>\n      <td>0</td>\n      <td>0</td>\n      <td>-1</td>\n      <td>16186.338008</td>\n    </tr>\n    <tr>\n      <th>18493</th>\n      <td>18493</td>\n      <td>4.842289</td>\n      <td>eES</td>\n      <td>5.083123</td>\n      <td>-6461.172852</td>\n      <td>8595.550781</td>\n      <td>-10762.037109</td>\n      <td>0.921234</td>\n      <td>0.066444</td>\n      <td>0.011976</td>\n      <td>...</td>\n      <td>0</td>\n      <td>0</td>\n      <td>0</td>\n      <td>-1</td>\n      <td>0.998841</td>\n      <td>1</td>\n      <td>0</td>\n      <td>0</td>\n      <td>-1</td>\n      <td>15213.536426</td>\n    </tr>\n    <tr>\n      <th>18546</th>\n      <td>18546</td>\n      <td>4.707510</td>\n      <td>eES</td>\n      <td>1.128573</td>\n      <td>2455.495117</td>\n      <td>-0.008489</td>\n      <td>8848.001953</td>\n      <td>0.720308</td>\n      <td>0.266546</td>\n      <td>0.010879</td>\n      <td>...</td>\n      <td>0</td>\n      <td>0</td>\n      <td>0</td>\n      <td>-1</td>\n      <td>0.822502</td>\n      <td>1</td>\n      <td>0</td>\n      <td>0</td>\n      <td>-1</td>\n      <td>9182.406810</td>\n    </tr>\n    <tr>\n      <th>18588</th>\n      <td>18588</td>\n      <td>7.537539</td>\n      <td>eES</td>\n      <td>1.983617</td>\n      <td>-10962.221680</td>\n      <td>-6318.103027</td>\n      <td>3713.224854</td>\n      <td>0.850230</td>\n      <td>0.138145</td>\n      <td>0.011084</td>\n      <td>...</td>\n      <td>0</td>\n      <td>0</td>\n      <td>0</td>\n      <td>-1</td>\n      <td>0.997413</td>\n      <td>1</td>\n      <td>0</td>\n      <td>0</td>\n      <td>-1</td>\n      <td>13186.234066</td>\n    </tr>\n  </tbody>\n</table>\n<p>858 rows × 31 columns</p>\n</div>"
     },
     "execution_count": 45,
     "metadata": {},
     "output_type": "execute_result"
    }
   ],
   "source": [
    "def GetVertexR(df):\n",
    "    return np.sqrt(df[\"recX\"]**2+df[\"recY\"]**2+df[\"recZ\"]**2)\n",
    "v_R = GetVertexR(df_map)\n",
    "df_map[\"R\"] = v_R\n",
    "index_to_select = ( (df_map[\"TagIBDd\"]==0) & (df_map[\"TagIBDp\"]==0) &\n",
    "                    (df_map[\"TagCCd\"]==0) & (df_map[\"TagCCp\"]==0) &\n",
    "                    (df_map[\"TagPSD\"]==1) & (df_map[\"TagAP\"]==0) &\n",
    "                    (df_map[\"R\"]<17e3) )\n",
    "df_map_residue = df_map[index_to_select]\n",
    "df_map_residue"
   ],
   "metadata": {
    "collapsed": false,
    "pycharm": {
     "name": "#%%\n"
    }
   }
  },
  {
   "cell_type": "code",
   "execution_count": 50,
   "outputs": [
    {
     "name": "stderr",
     "output_type": "stream",
     "text": [
      "/tmp/ipykernel_8502/3776128266.py:13: SettingWithCopyWarning: \n",
      "A value is trying to be set on a copy of a slice from a DataFrame.\n",
      "Try using .loc[row_indexer,col_indexer] = value instead\n",
      "\n",
      "See the caveats in the documentation: https://pandas.pydata.org/pandas-docs/stable/user_guide/indexing.html#returning-a-view-versus-a-copy\n",
      "  df_map_residue[\"TagSignal\"] = v_tag_singles\n"
     ]
    },
    {
     "data": {
      "text/plain": "TagSignal  evtType   \n0.0        AfterPulse      2\n           B12            13\n           C12           182\n           IBD            10\n           IBDd           97\n           IBDp          162\n           N12            26\n           eES           106\n           pES             7\n           pileUp         26\n1.0        C12            64\n           IBD             9\n           IBDd           18\n           IBDp            8\n           eES           127\n           pES             1\ndtype: int64"
     },
     "execution_count": 50,
     "metadata": {},
     "output_type": "execute_result"
    }
   ],
   "source": [
    "dR_cut = (0,9000)\n",
    "t_cut = (-30e6, 30e6)\n",
    "v_tag_singles = np.ones(len(df_map_residue))*-1\n",
    "for i, (index, row) in enumerate( df_map_residue.iterrows() ):\n",
    "    dR = np.sqrt( (df_map_residue[\"recX\"]-row[\"recX\"])**2 + (df_map_residue[\"recY\"]-row[\"recY\"])**2 + (df_map_residue[\"recZ\"]-row[\"recZ\"])**2 )\n",
    "    index_dR =  (dR < dR_cut[1]) & (dR>dR_cut[0])\n",
    "\n",
    "    index_time = (df_map_residue[\"TriggerTime\"]-row[\"TriggerTime\"]>t_cut[0]) & (df_map_residue[\"TriggerTime\"]-row[\"TriggerTime\"]<t_cut[1])\n",
    "\n",
    "    index_delay_signal = (index_dR) & (index_time)\n",
    "    v_tag_singles[i] = int(not np.any(index_delay_signal))\n",
    "\n",
    "df_map_residue[\"TagSignal\"] = v_tag_singles\n",
    "df_map_residue.groupby([\"TagSignal\",\"evtType\"]).size()\n"
   ],
   "metadata": {
    "collapsed": false,
    "pycharm": {
     "name": "#%%\n"
    }
   }
  },
  {
   "cell_type": "code",
   "execution_count": 46,
   "outputs": [],
   "source": [],
   "metadata": {
    "collapsed": false,
    "pycharm": {
     "name": "#%%\n"
    }
   }
  },
  {
   "cell_type": "code",
   "execution_count": 46,
   "outputs": [],
   "source": [],
   "metadata": {
    "collapsed": false,
    "pycharm": {
     "name": "#%%\n"
    }
   }
  }
 ],
 "metadata": {
  "kernelspec": {
   "display_name": "Python 3",
   "language": "python",
   "name": "python3"
  },
  "language_info": {
   "codemirror_mode": {
    "name": "ipython",
    "version": 2
   },
   "file_extension": ".py",
   "mimetype": "text/x-python",
   "name": "python",
   "nbconvert_exporter": "python",
   "pygments_lexer": "ipython2",
   "version": "2.7.6"
  }
 },
 "nbformat": 4,
 "nbformat_minor": 0
}