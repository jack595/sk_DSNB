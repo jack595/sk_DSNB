{
 "cells": [
  {
   "cell_type": "code",
   "execution_count": 1,
   "metadata": {
    "collapsed": true
   },
   "outputs": [],
   "source": [
    "import matplotlib.pylab as plt\n",
    "import numpy as np\n",
    "import uproot\n",
    "\n",
    "plt.style.use( \"/afs/ihep.ac.cn/users/l/luoxj/Style/Paper.mplstyle\")\n",
    "%config InlineBackend.figure_format = 'svg'\n",
    "import sys\n",
    "sys.path.append(\"/afs/ihep.ac.cn/users/l/luoxj/root_tool/python_script/\")"
   ]
  },
  {
   "cell_type": "code",
   "execution_count": null,
   "outputs": [
    {
     "name": "stderr",
     "output_type": "stream",
     "text": [
      "/afs/ihep.ac.cn/users/l/luoxj/root_tool/python_script/LoadMultiFiles.py:165: VisibleDeprecationWarning: Creating an ndarray from ragged nested sequences (which is a list-or-tuple of lists-or-tuples-or ndarrays with different lengths or shapes) is deprecated. If you meant to do this, you must specify 'dtype=object' when creating the ndarray.\n",
      "  dir_event[key] = np.array( list(tree[key]) )\n"
     ]
    }
   ],
   "source": [
    "from importlib import reload\n",
    "import LoadMultiFiles\n",
    "reload(LoadMultiFiles)\n",
    "from LoadMultiFiles import LoadOneFileUprootCertainEntries,LoadOneFileUproot\n",
    "use_TimeTruth = False\n",
    "\n",
    "# dir_calib = LoadOneFileUproot(\"/afs/ihep.ac.cn/users/l/luoxj/PSD_Supernova/myJUNOCommon/share/PSD/root_SaveTimeCharge/user_PSD_0__SN.root\",\n",
    "#                               name_branch=\"evt\", return_list=False)\n",
    "# dir_map = LoadOneFileUproot(f\"/afs/ihep.ac.cn/users/l/luoxj/PSD_Supernova/myJUNOCommon/share/tag_event/sn_tag_0_save_TimeTruth.root\",\n",
    "#                             name_branch='evtTruth',list_branch_filter=[\"HitTypeTruth\", \"TimeoffsetTruth\"],return_list=False)\n",
    "\n",
    "dir_calib = LoadOneFileUprootCertainEntries(\"/afs/ihep.ac.cn/users/l/luoxj/PSD_Supernova/myJUNOCommon/share/PSD/root_SaveTimeCharge/user_PSD_0__SN.root\",\n",
    "                              name_branch=\"evt\", return_list=False, n_entries_load=400)\n",
    "dir_map = LoadOneFileUprootCertainEntries(f\"/afs/ihep.ac.cn/users/l/luoxj/PSD_Supernova/myJUNOCommon/share/tag_event/sn_tag_0_save_TimeTruth.root\",\n",
    "                            name_branch='evtTruth',     return_list=False, n_entries_load=400)\n",
    "#\n",
    "# dir_calib = LoadOneFileUprootCertainEntries(\"/afs/ihep.ac.cn/users/l/luoxj/PSD_Supernova/myJUNOCommon/share/Sim_J21v1r0-Pre2/PSD/user_PSD_0__SN.root\",\n",
    "#                               name_branch=\"evt\", return_list=False, n_entries_load=400)\n",
    "# dir_map = LoadOneFileUprootCertainEntries(f\"/afs/ihep.ac.cn/users/l/luoxj/PSD_Supernova/myJUNOCommon/share/Sim_J21v1r0-Pre2/tag_event/sn_tag_0.root\",\n",
    "#                             name_branch='evtTruth',     return_list=False, n_entries_load=400)\n"
   ],
   "metadata": {
    "collapsed": false,
    "pycharm": {
     "name": "#%%\n",
     "is_executing": true
    }
   }
  },
  {
   "cell_type": "code",
   "execution_count": null,
   "outputs": [],
   "source": [
    "print(dir_map.keys(), dir_calib.keys())\n",
    "v_tags = [\"pES\", \"eES\", \"AfterPulse\"]\n",
    "print(len(dir_map[\"evtID\"]), len(dir_calib[\"Time\"]))\n",
    "bins = np.arange(0,5000, 6)"
   ],
   "metadata": {
    "collapsed": false,
    "pycharm": {
     "name": "#%%\n",
     "is_executing": true
    }
   }
  },
  {
   "cell_type": "code",
   "execution_count": null,
   "outputs": [],
   "source": [
    "# Print into PDF\n",
    "from collections import Counter\n",
    "from matplotlib.backends.backend_pdf import PdfPages\n",
    "if use_TimeTruth:\n",
    "    path_save_pdf = \"/afs/ihep.ac.cn/users/l/luoxj/PSD_Supernova/code/pdf/\"\n",
    "    for tag in v_tags:\n",
    "        with PdfPages(f\"{path_save_pdf}TimeTruth_{tag}.pdf\") as pdf:\n",
    "            index_tag =  (dir_map[\"evtType\"]==tag)\n",
    "            for i, (v_time, v_hitType) in enumerate (zip( dir_map[\"TimeTruth\"][index_tag], dir_map[\"HitTypeTruth\"][index_tag] ) ):\n",
    "                plt.figure()\n",
    "                for hitType in set(v_hitType):\n",
    "                    plt.hist( v_time[v_hitType==hitType], bins=bins , histtype=\"step\", label=hitType)\n",
    "                # print( Counter(v_hitType) )\n",
    "                plt.legend()\n",
    "                plt.title(tag)\n",
    "                pdf.savefig()\n",
    "                plt.close()\n",
    "\n",
    "                if i>30:\n",
    "                    break\n"
   ],
   "metadata": {
    "collapsed": false,
    "pycharm": {
     "name": "#%%\n",
     "is_executing": true
    }
   }
  },
  {
   "cell_type": "code",
   "execution_count": null,
   "outputs": [],
   "source": [
    "import pandas as pd\n",
    "print(dir_calib.keys())\n",
    "print( len(dir_map[\"evtType\"]), len(dir_calib[\"Time\"]) )\n",
    "dir_concat =  dict(dir_map, **dir_calib)\n",
    "print(dir_concat.keys())\n",
    "\n",
    "# for i in range(len( dir_concat[\"TimeTruth\"] )):\n",
    "#     dir_concat[\"TimeTruth\"][i] = dir_concat[\"TimeTruth\"][i]-min(dir_concat[\"TimeTruth\"][i])\n",
    "\n",
    "\n",
    "v_TotalCharge = []\n",
    "for v_charge in dir_concat[\"Charge\"]:\n",
    "    v_TotalCharge.append( sum(v_charge) )\n",
    "dir_concat[\"TotalCharge\"] = np.array( v_TotalCharge )\n",
    "\n",
    "df_concat = pd.DataFrame.from_dict(dir_concat)\n",
    "df_concat = df_concat[(df_concat[\"TotalCharge\"]>0) & (df_concat[\"TotalCharge\"]<6000) & ( (df_concat[\"evtType\"]==\"AfterPulse\") |\n",
    "                                                           (df_concat[\"evtType\"]==\"pES\") |\n",
    "                                                           (df_concat[\"evtType\"]==\"eES\") ) ]\n",
    "\n",
    "df_concat"
   ],
   "metadata": {
    "collapsed": false,
    "pycharm": {
     "name": "#%%\n",
     "is_executing": true
    }
   }
  },
  {
   "cell_type": "markdown",
   "source": [
    "# Study Time Profile of MC Truth"
   ],
   "metadata": {
    "collapsed": false
   }
  },
  {
   "cell_type": "markdown",
   "source": [
    "## (1) Plot Time Profile"
   ],
   "metadata": {
    "collapsed": false
   }
  },
  {
   "cell_type": "code",
   "execution_count": null,
   "outputs": [],
   "source": [
    "from HistTools import GetBinCenter\n",
    "bins = np.arange(0,5000, 6)\n",
    "# bins=1000\n",
    "bins_center = GetBinCenter(bins)\n",
    "\n",
    "# v_tags = [ \"AfterPulse\"]\n",
    "if use_TimeTruth:\n",
    "    for tag in v_tags:\n",
    "        plt.figure()\n",
    "        for time in df_concat[df_concat[\"evtType\"]==tag][\"TimeTruth\"][:5]:\n",
    "            # plt.figure()\n",
    "            plt.hist(time, bins=bins, histtype=\"step\")\n",
    "            plt.xlabel(\"Time[ns]\")\n",
    "        plt.title(tag)"
   ],
   "metadata": {
    "collapsed": false,
    "pycharm": {
     "name": "#%%\n",
     "is_executing": true
    }
   }
  },
  {
   "cell_type": "markdown",
   "source": [
    "# nPMTs Trigger Study\n",
    "## (1) Calib Data\n",
    "### Check Trigger Condition"
   ],
   "metadata": {
    "collapsed": false
   }
  },
  {
   "cell_type": "code",
   "execution_count": null,
   "outputs": [],
   "source": [
    "from TriggerTools import GetHitsCount\n",
    "from PlotTools import LegendNotRepeated\n",
    "# win_width = 80\n",
    "win_width = 300\n",
    "step_slide = 16\n",
    "\n",
    "v_time_lowerLimit = np.arange(4, 600, step_slide)\n",
    "v_time_upperLimit = v_time_lowerLimit+win_width\n",
    "time_center = ( v_time_lowerLimit + v_time_upperLimit ) /2\n",
    "\n",
    "v_strategy = [\"nPMT_w/o_repeat\", \"nPMT_w/_repeat\", \"Charge\"]\n",
    "v_colors = [\"r\", \"b\", \"g\"]\n",
    "v_ls = [\"-\", \"--\",\"-.\"]\n",
    "print(v_tags)\n",
    "for strategy in v_strategy:\n",
    "    plt.figure(strategy)\n",
    "for i, tag in enumerate (v_tags ):\n",
    "    for index, row in list( df_concat[ df_concat[\"evtType\"]==tag ].iterrows() )[:100]:\n",
    "        dir_nHits = {key:[] for key in v_strategy}\n",
    "        for time_lowerLimit, time_upperLimit in zip( v_time_lowerLimit, v_time_upperLimit ):\n",
    "            for strategy in v_strategy:\n",
    "                dir_nHits[strategy].append( GetHitsCount(row[\"PMTID\"], row[\"Time\"], row[\"Charge\"],\n",
    "                                     time_lowerLimit, time_upperLimit , strategy=strategy) )\n",
    "\n",
    "        for j, strategy in enumerate( v_strategy ):\n",
    "            plt.figure(strategy)\n",
    "            # plt.step(time_center,dir_nHits[strategy], linewidth=2, label=strategy, color=v_colors[j], ls=v_ls[i])\n",
    "            plt.plot(v_time_lowerLimit,dir_nHits[strategy], linewidth=1, label=tag, color=v_colors[i])\n",
    "\n",
    "# plt.xlim(0,400)\n",
    "for strategy in v_strategy:\n",
    "    plt.figure(strategy)\n",
    "    plt.ylim(0,1000)\n",
    "    plt.xlabel(\"Time [ ns ]\")\n",
    "    plt.title(f\"{win_width} ns Window with Step of {step_slide} ns\")\n",
    "    LegendNotRepeated()\n",
    "\n",
    "    if strategy == \"nPMT_w/o_repeat\":\n",
    "        plt.ylabel(\"N of Fired PMTs\")\n",
    "    elif strategy == \"nPMT_w/_repeat\":\n",
    "        plt.ylabel(\"N of Hits\")\n",
    "    elif strategy == \"Charge\":\n",
    "        plt.ylabel(\"Charge\")\n",
    "\n"
   ],
   "metadata": {
    "collapsed": false,
    "pycharm": {
     "name": "#%%\n",
     "is_executing": true
    }
   }
  },
  {
   "cell_type": "markdown",
   "source": [
    "### Check Trigger Window Calculation"
   ],
   "metadata": {
    "collapsed": false
   }
  },
  {
   "cell_type": "code",
   "execution_count": null,
   "outputs": [],
   "source": [
    "v_strategy = [\"nPMT_w/o_repeat\"]\n",
    "from matplotlib.backends.backend_pdf import PdfPages\n",
    "path_save_pdf = \"/afs/ihep.ac.cn/users/l/luoxj/PSD_Supernova/code/pdf/\"\n",
    "\n",
    "for i, tag in enumerate (v_tags ):\n",
    "    with PdfPages(f\"{path_save_pdf}nPMTFiredAndTimeProfile_{tag}.pdf\") as pdf:\n",
    "        for index, row in list( df_concat[ df_concat[\"evtType\"]==tag ].iterrows() ):\n",
    "            fig = plt.figure()\n",
    "            dir_nHits = {key:[] for key in v_strategy}\n",
    "            for time_lowerLimit, time_upperLimit in zip( v_time_lowerLimit, v_time_upperLimit ):\n",
    "                for strategy in v_strategy:\n",
    "                    dir_nHits[strategy].append( GetHitsCount(row[\"PMTID\"], row[\"Time\"], row[\"Charge\"],\n",
    "                                         time_lowerLimit, time_upperLimit , strategy=strategy) )\n",
    "\n",
    "            for j, strategy in enumerate( v_strategy ):\n",
    "                # plt.figure(strategy)\n",
    "                fig.add_subplot(211)\n",
    "                plt.bar(v_time_lowerLimit,dir_nHits[strategy], linewidth=1,width=win_width,align=\"edge\", color=v_colors[i],\n",
    "                        fill=False,ls=\"--\")\n",
    "                plt.step(v_time_lowerLimit,dir_nHits[strategy], linewidth=2, label=tag, color=v_colors[i],where=\"post\")\n",
    "                # plt.plot(v_time_lowerLimit,dir_nHits[strategy], linewidth=1, label=tag, color=v_colors[i])\n",
    "                plt.ylabel(\"N of Fired PMTs\")\n",
    "                plt.title(f\"{win_width} ns Window with Step of {step_slide} ns\")\n",
    "                LegendNotRepeated()\n",
    "\n",
    "                fig.add_subplot(212)\n",
    "                plt.hist(row[\"Time\"], histtype=\"step\", bins=np.arange(0, 600, 6),linewidth=1, label=tag, color=v_colors[i])\n",
    "                plt.ylabel(\"w/o charge\")\n",
    "                plt.xlabel(\"Time [ ns ]\")\n",
    "                LegendNotRepeated()\n",
    "            # pdf.savefig()\n",
    "            # plt.close()\n",
    "            break\n"
   ],
   "metadata": {
    "collapsed": false,
    "pycharm": {
     "name": "#%%\n",
     "is_executing": true
    }
   }
  },
  {
   "cell_type": "markdown",
   "source": [
    "## (2) Time Truth\n",
    "### Check Whether Truth Align with Calib Data"
   ],
   "metadata": {
    "collapsed": false
   }
  },
  {
   "cell_type": "code",
   "execution_count": null,
   "outputs": [],
   "source": [
    "use_TimeTruth = True\n",
    "bins_time = np.arange(-100, 1500, 6)\n",
    "if use_TimeTruth:\n",
    "    for tag in v_tags:\n",
    "        for index, row in list( df_concat[df_concat[\"evtType\"]==tag].iterrows() )[:5]:\n",
    "            plt.figure()\n",
    "            v_time_with_tag = row[\"PulseTimeTruth\"]-row[\"TriggerTime\"]+100\n",
    "            # v_time_with_tag = row[\"TimeTruth\"]\n",
    "            v_time_calib_with_tag = row[\"Time\"]\n",
    "            v_charge_calib_with_tag = row[\"Charge\"]\n",
    "            print(v_time_with_tag)\n",
    "            # delta_time = GetAlignValue(v_time_with_tag, v_time_calib_with_tag, v_charge_calib_with_tag, np.arange(0,5000, 6), align_method=\"threshold\")\n",
    "            plt.hist(v_time_with_tag\n",
    "                     , bins=bins_time, histtype=\"step\", label=\"Truth\")\n",
    "\n",
    "            plt.hist(v_time_calib_with_tag, bins=bins_time, histtype=\"step\", label=\"Calib\",weights=row[\"Charge\"])\n",
    "\n",
    "            plt.xlabel(\"Waveform Time [ ns ]\")\n",
    "            plt.legend()\n",
    "            plt.title(tag)\n",
    "\n",
    "            break\n"
   ],
   "metadata": {
    "collapsed": false,
    "pycharm": {
     "name": "#%%\n",
     "is_executing": true
    }
   }
  },
  {
   "cell_type": "markdown",
   "source": [
    "### Check Trigger Condition With Truth"
   ],
   "metadata": {
    "collapsed": false
   }
  },
  {
   "cell_type": "code",
   "execution_count": null,
   "outputs": [],
   "source": [
    "v_strategy = [\"nPMT_w/o_repeat\", \"nPMT_w/_repeat\"]\n",
    "\n",
    "if use_TimeTruth:\n",
    "    for strategy in v_strategy:\n",
    "        plt.figure(strategy)\n",
    "    for i, tag in enumerate ( v_tags ):\n",
    "        for index, row in list( df_concat[ df_concat[\"evtType\"]==tag ].iterrows() )[:30]:\n",
    "            dir_nHits = {key:[] for key in v_strategy}\n",
    "            for time_lowerLimit, time_upperLimit in zip( v_time_lowerLimit, v_time_upperLimit ):\n",
    "                for strategy in v_strategy:\n",
    "                    # index_hitType = (row[\"HitTypeTruth\"]==\"AfterPulse\")\n",
    "                    # dir_nHits[strategy].append( GetHitsCount(row[\"PMTIDTruth\"][index_hitType], row[\"TimeTruth\"][index_hitType], None,\n",
    "                    v_time_with_tag = row[\"PulseTimeTruth\"]-row[\"TriggerTime\"]+100\n",
    "                    dir_nHits[strategy].append( GetHitsCount(row[\"PMTIDTruth\"], v_time_with_tag, None,\n",
    "                                         time_lowerLimit, time_upperLimit , strategy=strategy) )\n",
    "\n",
    "            for j, strategy in enumerate( v_strategy ):\n",
    "                plt.figure(strategy)\n",
    "                # plt.step(time_center,dir_nHits[strategy], linewidth=2, label=strategy, color=v_colors[j], ls=v_ls[i])\n",
    "                plt.plot(v_time_lowerLimit,dir_nHits[strategy], linewidth=1, label=tag, color=v_colors[i])\n",
    "\n",
    "    for strategy in v_strategy:\n",
    "        plt.figure(strategy)\n",
    "        plt.ylim(0,1000)\n",
    "        plt.xlabel(\"PulseTime from Truth [ ns ]\")\n",
    "        plt.title(f\"{win_width} ns Window with Step of {step_slide} ns\")\n",
    "        LegendNotRepeated()\n",
    "\n",
    "        if strategy == \"nPMT_w/o_repeat\":\n",
    "            plt.ylabel(\"N of Fired PMTs\")\n",
    "        elif strategy == \"nPMT_w/_repeat\":\n",
    "            plt.ylabel(\"N of Hits\")\n",
    "        elif strategy == \"Charge\":\n",
    "            plt.ylabel(\"Charge\")"
   ],
   "metadata": {
    "collapsed": false,
    "pycharm": {
     "name": "#%%\n",
     "is_executing": true
    }
   }
  },
  {
   "cell_type": "markdown",
   "source": [
    "### Plot Contribution of Different Pulse Type"
   ],
   "metadata": {
    "collapsed": false
   }
  },
  {
   "cell_type": "code",
   "execution_count": null,
   "outputs": [],
   "source": [
    "import PlotTools\n",
    "reload(PlotTools)\n",
    "from PlotTools import PlotContributionOfEachArray\n",
    "import tqdm\n",
    "\n",
    "strategy = \"nPMT_w/o_repeat\"\n",
    "if use_TimeTruth:\n",
    "    for i, tag in enumerate ( v_tags ):\n",
    "    # for i, tag in enumerate ( [\"AfterPulse\"] ):\n",
    "        pdf = PdfPages(f\"/afs/ihep.ac.cn/users/l/luoxj/PSD_Supernova/code/pdf/ContributionOfPulse_{tag}.pdf\")\n",
    "        for index, row in tqdm.tqdm( list( df_concat[ df_concat[\"evtType\"]==tag ].iterrows() )[:20] ):\n",
    "            plt.figure()\n",
    "            v_hitType = set(row[\"HitTypeTruth\"])\n",
    "            v2d_NPMTs = []\n",
    "            for time_lowerLimit, time_upperLimit in zip( v_time_lowerLimit, v_time_upperLimit ):\n",
    "                v_time_with_tag = row[\"PulseTimeTruth\"]-row[\"TriggerTime\"]+100\n",
    "                v_NPMTs_in_one_time_bin = []\n",
    "                for PulseType in set(row[\"HitTypeTruth\"]):\n",
    "                    index_PulseType = (row[\"HitTypeTruth\"]==PulseType)\n",
    "\n",
    "                    v_NPMTs_in_one_time_bin.append( GetHitsCount(row[\"PMTIDTruth\"][index_PulseType], v_time_with_tag[index_PulseType], None,\n",
    "                                         time_lowerLimit, time_upperLimit , strategy=strategy) )\n",
    "                v2d_NPMTs.append( v_NPMTs_in_one_time_bin )\n",
    "            PlotContributionOfEachArray(v2d_NPMTs, label_index=list(v_time_lowerLimit), label_columns=list(v_hitType),show_table=False,reverse=True)\n",
    "            plt.xlabel(\"Time [ ns ]\")\n",
    "            plt.ylabel(\"$Fired\\ N_{PMTs}$\")\n",
    "            plt.title(f\"{win_width} ns Window with Step of {step_slide} ns\")\n",
    "            \n",
    "            pdf.savefig()\n",
    "            plt.close()\n",
    "        pdf.close()\n",
    "\n",
    "\n"
   ],
   "metadata": {
    "collapsed": false,
    "pycharm": {
     "name": "#%%\n",
     "is_executing": true
    }
   }
  },
  {
   "cell_type": "code",
   "execution_count": null,
   "outputs": [],
   "source": [
    "if use_TimeTruth:\n",
    "    for tag in v_tags:\n",
    "        for index, row in list( df_concat[df_concat[\"evtType\"]==tag].iterrows() )[:10]:\n",
    "            plt.figure()\n",
    "            for pulseType in set(row[\"HitTypeTruth\"]):\n",
    "                v_time_with_tag = row[\"TimeTruth\"][row[\"HitTypeTruth\"]==pulseType]\n",
    "                plt.hist(v_time_with_tag, bins=np.arange(0,2000,6), histtype=\"step\", label=pulseType)\n",
    "            plt.legend()\n",
    "            plt.xlabel(\"Time [ ns ]\")\n",
    "            plt.title(tag)\n"
   ],
   "metadata": {
    "collapsed": false,
    "pycharm": {
     "name": "#%%\n",
     "is_executing": true
    }
   }
  }
 ],
 "metadata": {
  "kernelspec": {
   "display_name": "Python 3",
   "language": "python",
   "name": "python3"
  },
  "language_info": {
   "codemirror_mode": {
    "name": "ipython",
    "version": 2
   },
   "file_extension": ".py",
   "mimetype": "text/x-python",
   "name": "python",
   "nbconvert_exporter": "python",
   "pygments_lexer": "ipython2",
   "version": "2.7.6"
  }
 },
 "nbformat": 4,
 "nbformat_minor": 0
}