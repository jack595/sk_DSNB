{
 "cells": [
  {
   "cell_type": "code",
   "execution_count": null,
   "metadata": {
    "collapsed": true
   },
   "outputs": [],
   "source": [
    "import matplotlib.pylab as plt\n",
    "import numpy as np\n",
    "import pandas as pd\n",
    "import seaborn as sns\n",
    "from IPython.display import display\n",
    "plt.style.use([\"science\",\"no-latex\", \"/afs/ihep.ac.cn/users/l/luoxj/Style/Paper.mplstyle\"])\n",
    "%config InlineBackend.figure_format = 'svg'\n",
    "#plt.rcParams['figure.dpi'] = 300\n",
    "#plt.rcParams['savefig.dpi'] = 300\n",
    "import sys\n",
    "sys.path.append(\"/afs/ihep.ac.cn/users/l/luoxj/root_tool/python_script/\")"
   ]
  },
  {
   "cell_type": "code",
   "execution_count": null,
   "outputs": [],
   "source": [
    "import FindIBDPartner\n",
    "from importlib import reload\n",
    "reload(FindIBDPartner)\n",
    "from FindIBDPartner import FindIBDPartner\n",
    "from ConcanatePreviousPrediction import GetSelectedDataframe\n",
    "\n",
    "\n",
    "R_FV_cut = 17\n",
    "\n",
    "fileID = 0\n",
    "path_evtTruth=f\"/afs/ihep.ac.cn/users/l/luoxj/PSD_Supernova/myJUNOCommon/share/tag_event/root/sn_tag_{fileID}.root\"\n",
    "path_AP=f\"/afs/ihep.ac.cn/users/l/luoxj/PSD_Supernova/AfterPulsePrediction/root/TagAfterPulse_{fileID}.root\"\n",
    "path_PSD=f\"/afs/ihep.ac.cn/users/l/luoxj/PSD_Supernova/myJUNOCommon/share/PSD/root/user_PSD_{fileID}_SN.root\"\n",
    "path_IBD=f\"/afs/ihep.ac.cn/users/l/luoxj/PSD_Supernova/code/PromptDelayedSignalSelection/root_PromptDelayedSelection/IBD_{fileID}_optimized.root\"\n",
    "path_CC=f\"/afs/ihep.ac.cn/users/l/luoxj/PSD_Supernova/code/PromptDelayedSignalSelection/root_PromptDelayedSelection/CC_{fileID}_optimized.root\"\n",
    "path_Singles = f\"/afs/ihep.ac.cn/users/l/luoxj/PSD_Supernova/code/PromptDelayedSignalSelection/OptimizeIsolationCut/root/Isolation_0_IsolationCriteria_3m_1.0ms.root\"\n",
    "df_map = GetSelectedDataframe(path_evtTruth=path_evtTruth,\n",
    "                              path_IBD=path_IBD,\n",
    "                              path_AP=path_AP,\n",
    "                              path_PSD=path_PSD,\n",
    "                              path_CC=path_CC,\n",
    "                              path_Singles=path_Singles,\n",
    "                              inf_from_evtType=[\"evtType\", \"R\", \"recE\", \"ratioAP\", \"ratioSN\", \"fileNo\",\"detID\", \"detIDs\",\n",
    "                                                \"recX\", \"recY\", \"recZ\",\"TriggerTime\",\"TriggerTimeInterval\",\"evtID\"],\n",
    "                              load_isolationResult=True)\n",
    "df_map\n"
   ],
   "metadata": {
    "collapsed": false,
    "pycharm": {
     "name": "#%%\n"
    }
   }
  }
 ],
 "metadata": {
  "kernelspec": {
   "display_name": "Python 3",
   "language": "python",
   "name": "python3"
  },
  "language_info": {
   "codemirror_mode": {
    "name": "ipython",
    "version": 2
   },
   "file_extension": ".py",
   "mimetype": "text/x-python",
   "name": "python",
   "nbconvert_exporter": "python",
   "pygments_lexer": "ipython2",
   "version": "2.7.6"
  }
 },
 "nbformat": 4,
 "nbformat_minor": 0
}