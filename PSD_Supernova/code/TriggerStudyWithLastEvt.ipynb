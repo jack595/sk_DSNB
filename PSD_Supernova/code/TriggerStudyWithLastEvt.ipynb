{
 "cells": [
  {
   "cell_type": "code",
   "execution_count": null,
   "metadata": {
    "collapsed": true
   },
   "outputs": [],
   "source": [
    "import matplotlib.pylab as plt\n",
    "import numpy as np\n",
    "plt.style.use([\"science\",\"no-latex\", \"/afs/ihep.ac.cn/users/l/luoxj/Style/Paper.mplstyle\"])\n",
    "%config InlineBackend.figure_format = 'svg'\n",
    "#plt.rcParams['figure.dpi'] = 300\n",
    "#plt.rcParams['savefig.dpi'] = 300\n",
    "import sys\n",
    "sys.path.append(\"/afs/ihep.ac.cn/users/l/luoxj/root_tool/python_script/\")"
   ]
  },
  {
   "cell_type": "code",
   "execution_count": null,
   "outputs": [],
   "source": [
    "from importlib import reload\n",
    "import LoadMultiFiles\n",
    "reload(LoadMultiFiles)\n",
    "from LoadMultiFiles import LoadOneFileUprootCertainEntries,LoadOneFileUproot\n",
    "dir_calib = LoadOneFileUprootCertainEntries(\"/afs/ihep.ac.cn/users/l/luoxj/PSD_Supernova/myJUNOCommon/share/PSD/root_SaveTimeCharge/user_PSD_0__SN.root\",\n",
    "                              name_branch=\"evt\", return_list=False, n_entries_load=400)\n",
    "dir_map = LoadOneFileUprootCertainEntries(f\"/afs/ihep.ac.cn/users/l/luoxj/PSD_Supernova/myJUNOCommon/share/tag_event/sn_tag_0_save_TimeTruth.root\",\n",
    "                            name_branch='evtTruth',     return_list=False, n_entries_load=400)"
   ],
   "metadata": {
    "collapsed": false,
    "pycharm": {
     "name": "#%%\n"
    }
   }
  }
 ],
 "metadata": {
  "kernelspec": {
   "display_name": "Python 3",
   "language": "python",
   "name": "python3"
  },
  "language_info": {
   "codemirror_mode": {
    "name": "ipython",
    "version": 2
   },
   "file_extension": ".py",
   "mimetype": "text/x-python",
   "name": "python",
   "nbconvert_exporter": "python",
   "pygments_lexer": "ipython2",
   "version": "2.7.6"
  }
 },
 "nbformat": 4,
 "nbformat_minor": 0
}