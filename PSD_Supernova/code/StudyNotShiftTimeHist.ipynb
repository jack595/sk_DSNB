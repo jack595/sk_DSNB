{
 "cells": [
  {
   "cell_type": "code",
   "execution_count": 37,
   "metadata": {
    "collapsed": true
   },
   "outputs": [],
   "source": [
    "import matplotlib.pylab as plt\n",
    "import numpy as np\n",
    "plt.style.use([\"science\",\"no-latex\", \"/afs/ihep.ac.cn/users/l/luoxj/Style/Paper.mplstyle\"])\n",
    "%config InlineBackend.figure_format = 'svg'\n",
    "#plt.rcParams['figure.dpi'] = 300\n",
    "#plt.rcParams['savefig.dpi'] = 300\n",
    "import sys\n",
    "sys.path.append(\"/afs/ihep.ac.cn/users/l/luoxj/root_tool/python_script/\")"
   ]
  },
  {
   "cell_type": "code",
   "execution_count": 38,
   "outputs": [
    {
     "name": "stdout",
     "output_type": "stream",
     "text": [
      "dict_keys(['PSDVar', 'Time', 'Charge', 'isHam'])\n"
     ]
    }
   ],
   "source": [
    "from LoadMultiFiles import LoadOneFileUproot\n",
    "dir_evts = LoadOneFileUproot(\"/afs/ihep.ac.cn/users/l/luoxj/PSD_Supernova/myJUNOCommon/share/PSD/root_SaveTimeCharge/user_PSD_0__SN.root\", name_branch=\"evt\", return_list=False)\n",
    "print(dir_evts.keys())"
   ],
   "metadata": {
    "collapsed": false,
    "pycharm": {
     "name": "#%%\n"
    }
   }
  },
  {
   "cell_type": "code",
   "execution_count": 39,
   "outputs": [
    {
     "name": "stdout",
     "output_type": "stream",
     "text": [
      "dict_keys(['evtID', 'nuE', 'evtType', 'recE', 'recX', 'recY', 'recZ', 'ratioSN', 'ratioDN', 'ratioAP', 'ratioDNAP', 'TriggerTime', 'TriggerTimeInterval', 'TimeTruth', 'PMTIDTruth', 'fileNo', 'detID', 'entryCalib', 'entryGen'])\n"
     ]
    }
   ],
   "source": [
    "# dir_map = LoadOneFileUproot(\"/afs/ihep.ac.cn/users/l/luoxj/PSD_Supernova/myJUNOCommon/share/tag_event/root/sn_tag_0.root\", name_branch='evtTruth', return_list=False)\n",
    "dir_map = LoadOneFileUproot(\"/afs/ihep.ac.cn/users/l/luoxj/PSD_Supernova/myJUNOCommon/share/tag_event/sn_tag_0_save_TimeTruth.root\", name_branch='evtTruth', return_list=False)\n",
    "print(dir_map.keys())"
   ],
   "metadata": {
    "collapsed": false,
    "pycharm": {
     "name": "#%%\n"
    }
   }
  },
  {
   "cell_type": "code",
   "execution_count": 52,
   "outputs": [],
   "source": [
    "# bins = np.array(list(range(-200, -20, 3))+[-20, -17, -14, -11, -8, -5, -2, 1, 4, 7, 10, 13, 16, 19, 22, 28, 34, 40, 46, 52, 58, 64, 72, 80, 90, 102, 116, 132, 150, 170, 192, 216, 242, 270, 300, 332, 366, 402, 440, 480, 522, 566, 612, 660, 710, 762,816]+list(range(866, 1200, 50)))\n",
    "bins = np.arange(-200, 1200,6)"
   ],
   "metadata": {
    "collapsed": false,
    "pycharm": {
     "name": "#%%\n"
    }
   }
  },
  {
   "cell_type": "code",
   "execution_count": 56,
   "outputs": [
    {
     "name": "stdout",
     "output_type": "stream",
     "text": [
      "[-200, -194, -188, -182, -176, -170, -164, -158, -152, -146, -140, -134, -128, -122, -116, -110, -104, -98, -92, -86, -80, -74, -68, -62, -56, -50, -44, -38, -32, -26, -20, -14, -8, -2, 4, 10, 16, 22, 28, 34, 40, 46, 52, 58, 64, 70, 76, 82, 88, 94, 100, 106, 112, 118, 124, 130, 136, 142, 148, 154, 160, 166, 172, 178, 184, 190, 196, 202, 208, 214, 220, 226, 232, 238, 244, 250, 256, 262, 268, 274, 280, 286, 292, 298, 304, 310, 316, 322, 328, 334, 340, 346, 352, 358, 364, 370, 376, 382, 388, 394, 400, 406, 412, 418, 424, 430, 436, 442, 448, 454, 460, 466, 472, 478, 484, 490, 496, 502, 508, 514, 520, 526, 532, 538, 544, 550, 556, 562, 568, 574, 580, 586, 592, 598, 604, 610, 616, 622, 628, 634, 640, 646, 652, 658, 664, 670, 676, 682, 688, 694, 700, 706, 712, 718, 724, 730, 736, 742, 748, 754, 760, 766, 772, 778, 784, 790, 796, 802, 808, 814, 820, 826, 832, 838, 844, 850, 856, 862, 868, 874, 880, 886, 892, 898, 904, 910, 916, 922, 928, 934, 940, 946, 952, 958, 964, 970, 976, 982, 988, 994, 1000, 1006, 1012, 1018, 1024, 1030, 1036, 1042, 1048, 1054, 1060, 1066, 1072, 1078, 1084, 1090, 1096, 1102, 1108, 1114, 1120, 1126, 1132, 1138, 1144, 1150, 1156, 1162, 1168, 1174, 1180, 1186, 1192, 1198]\n"
     ]
    }
   ],
   "source": [
    "print(list(bins))"
   ],
   "metadata": {
    "collapsed": false,
    "pycharm": {
     "name": "#%%\n"
    }
   }
  },
  {
   "cell_type": "code",
   "execution_count": 42,
   "outputs": [],
   "source": [
    "from matplotlib.backends.backend_pdf import PdfPages\n",
    "v_tags = [\"pES\", \"AfterPulse\"]\n",
    "path_save = \"/afs/ihep.ac.cn/users/l/luoxj/PSD_Supernova/code/pdf/\""
   ],
   "metadata": {
    "collapsed": false,
    "pycharm": {
     "name": "#%%\n"
    }
   }
  },
  {
   "cell_type": "code",
   "execution_count": 57,
   "outputs": [
    {
     "name": "stderr",
     "output_type": "stream",
     "text": [
      "201it [01:20,  2.49it/s]\n",
      "201it [01:20,  2.51it/s]\n"
     ]
    },
    {
     "data": {
      "text/plain": "<Figure size 576x432 with 1 Axes>",
      "image/svg+xml": "<?xml version=\"1.0\" encoding=\"utf-8\" standalone=\"no\"?>\n<!DOCTYPE svg PUBLIC \"-//W3C//DTD SVG 1.1//EN\"\n  \"http://www.w3.org/Graphics/SVG/1.1/DTD/svg11.dtd\">\n<svg height=\"383.123625pt\" version=\"1.1\" viewBox=\"0 0 494.95075 383.123625\" width=\"494.95075pt\" xmlns=\"http://www.w3.org/2000/svg\" xmlns:xlink=\"http://www.w3.org/1999/xlink\">\n <metadata>\n  <rdf:RDF xmlns:cc=\"http://creativecommons.org/ns#\" xmlns:dc=\"http://purl.org/dc/elements/1.1/\" xmlns:rdf=\"http://www.w3.org/1999/02/22-rdf-syntax-ns#\">\n   <cc:Work>\n    <dc:type rdf:resource=\"http://purl.org/dc/dcmitype/StillImage\"/>\n    <dc:date>2022-02-28T16:37:47.443038</dc:date>\n    <dc:format>image/svg+xml</dc:format>\n    <dc:creator>\n     <cc:Agent>\n      <dc:title>Matplotlib v3.4.3, https://matplotlib.org/</dc:title>\n     </cc:Agent>\n    </dc:creator>\n   </cc:Work>\n  </rdf:RDF>\n </metadata>\n <defs>\n  <style type=\"text/css\">*{stroke-linecap:butt;stroke-linejoin:round;}</style>\n </defs>\n <g id=\"figure_1\">\n  <g id=\"patch_1\">\n   <path d=\"M 0 383.123625 \nL 494.95075 383.123625 \nL 494.95075 0 \nL 0 0 \nz\n\" style=\"fill:none;\"/>\n  </g>\n  <g id=\"axes_1\">\n   <g id=\"patch_2\">\n    <path d=\"M 33.5005 335.230875 \nL 479.9005 335.230875 \nL 479.9005 9.070875 \nL 33.5005 9.070875 \nz\n\" style=\"fill:#ffffff;\"/>\n   </g>\n   <g id=\"matplotlib.axis_1\">\n    <g id=\"xtick_1\">\n     <g id=\"line2d_1\">\n      <defs>\n       <path d=\"M 0 0 \nL 0 -12 \n\" id=\"m86ef7b56fb\" style=\"stroke:#000000;stroke-width:0.5;\"/>\n      </defs>\n      <g>\n       <use style=\"stroke:#000000;stroke-width:0.5;\" x=\"33.5005\" xlink:href=\"#m86ef7b56fb\" y=\"335.230875\"/>\n      </g>\n     </g>\n     <g id=\"line2d_2\">\n      <defs>\n       <path d=\"M 0 0 \nL 0 12 \n\" id=\"m7dfb8b6374\" style=\"stroke:#000000;stroke-width:0.5;\"/>\n      </defs>\n      <g>\n       <use style=\"stroke:#000000;stroke-width:0.5;\" x=\"33.5005\" xlink:href=\"#m7dfb8b6374\" y=\"9.070875\"/>\n      </g>\n     </g>\n     <g id=\"text_1\">\n      <!-- 0.0 -->\n      <g transform=\"translate(22.05025 353.172625)scale(0.144 -0.144)\">\n       <defs>\n        <path d=\"M 2034 219 \nQ 2513 219 2750 744 \nQ 2988 1269 2988 2328 \nQ 2988 3391 2750 3916 \nQ 2513 4441 2034 4441 \nQ 1556 4441 1318 3916 \nQ 1081 3391 1081 2328 \nQ 1081 1269 1318 744 \nQ 1556 219 2034 219 \nz\nM 2034 -91 \nQ 1275 -91 848 546 \nQ 422 1184 422 2328 \nQ 422 3475 848 4112 \nQ 1275 4750 2034 4750 \nQ 2797 4750 3222 4112 \nQ 3647 3475 3647 2328 \nQ 3647 1184 3222 546 \nQ 2797 -91 2034 -91 \nz\n\" id=\"DejaVuSerif-30\" transform=\"scale(0.015625)\"/>\n        <path d=\"M 603 325 \nQ 603 500 722 622 \nQ 841 744 1019 744 \nQ 1191 744 1312 622 \nQ 1434 500 1434 325 \nQ 1434 153 1312 31 \nQ 1191 -91 1019 -91 \nQ 841 -91 722 29 \nQ 603 150 603 325 \nz\n\" id=\"DejaVuSerif-2e\" transform=\"scale(0.015625)\"/>\n       </defs>\n       <use xlink:href=\"#DejaVuSerif-30\"/>\n       <use x=\"63.623047\" xlink:href=\"#DejaVuSerif-2e\"/>\n       <use x=\"95.410156\" xlink:href=\"#DejaVuSerif-30\"/>\n      </g>\n     </g>\n    </g>\n    <g id=\"xtick_2\">\n     <g id=\"line2d_3\">\n      <g>\n       <use style=\"stroke:#000000;stroke-width:0.5;\" x=\"122.7805\" xlink:href=\"#m86ef7b56fb\" y=\"335.230875\"/>\n      </g>\n     </g>\n     <g id=\"line2d_4\">\n      <g>\n       <use style=\"stroke:#000000;stroke-width:0.5;\" x=\"122.7805\" xlink:href=\"#m7dfb8b6374\" y=\"9.070875\"/>\n      </g>\n     </g>\n     <g id=\"text_2\">\n      <!-- 0.2 -->\n      <g transform=\"translate(111.33025 353.172625)scale(0.144 -0.144)\">\n       <defs>\n        <path d=\"M 819 3553 \nL 469 3553 \nL 469 4384 \nQ 803 4563 1142 4656 \nQ 1481 4750 1806 4750 \nQ 2534 4750 2956 4397 \nQ 3378 4044 3378 3438 \nQ 3378 2753 2422 1800 \nQ 2347 1728 2309 1691 \nL 1131 513 \nL 3078 513 \nL 3078 1088 \nL 3444 1088 \nL 3444 0 \nL 434 0 \nL 434 341 \nL 1850 1753 \nQ 2319 2222 2519 2614 \nQ 2719 3006 2719 3438 \nQ 2719 3909 2473 4175 \nQ 2228 4441 1797 4441 \nQ 1350 4441 1106 4219 \nQ 863 3997 819 3553 \nz\n\" id=\"DejaVuSerif-32\" transform=\"scale(0.015625)\"/>\n       </defs>\n       <use xlink:href=\"#DejaVuSerif-30\"/>\n       <use x=\"63.623047\" xlink:href=\"#DejaVuSerif-2e\"/>\n       <use x=\"95.410156\" xlink:href=\"#DejaVuSerif-32\"/>\n      </g>\n     </g>\n    </g>\n    <g id=\"xtick_3\">\n     <g id=\"line2d_5\">\n      <g>\n       <use style=\"stroke:#000000;stroke-width:0.5;\" x=\"212.0605\" xlink:href=\"#m86ef7b56fb\" y=\"335.230875\"/>\n      </g>\n     </g>\n     <g id=\"line2d_6\">\n      <g>\n       <use style=\"stroke:#000000;stroke-width:0.5;\" x=\"212.0605\" xlink:href=\"#m7dfb8b6374\" y=\"9.070875\"/>\n      </g>\n     </g>\n     <g id=\"text_3\">\n      <!-- 0.4 -->\n      <g transform=\"translate(200.61025 353.172625)scale(0.144 -0.144)\">\n       <defs>\n        <path d=\"M 2234 1581 \nL 2234 4063 \nL 641 1581 \nL 2234 1581 \nz\nM 3609 0 \nL 1484 0 \nL 1484 331 \nL 2234 331 \nL 2234 1247 \nL 197 1247 \nL 197 1588 \nL 2241 4750 \nL 2859 4750 \nL 2859 1581 \nL 3750 1581 \nL 3750 1247 \nL 2859 1247 \nL 2859 331 \nL 3609 331 \nL 3609 0 \nz\n\" id=\"DejaVuSerif-34\" transform=\"scale(0.015625)\"/>\n       </defs>\n       <use xlink:href=\"#DejaVuSerif-30\"/>\n       <use x=\"63.623047\" xlink:href=\"#DejaVuSerif-2e\"/>\n       <use x=\"95.410156\" xlink:href=\"#DejaVuSerif-34\"/>\n      </g>\n     </g>\n    </g>\n    <g id=\"xtick_4\">\n     <g id=\"line2d_7\">\n      <g>\n       <use style=\"stroke:#000000;stroke-width:0.5;\" x=\"301.3405\" xlink:href=\"#m86ef7b56fb\" y=\"335.230875\"/>\n      </g>\n     </g>\n     <g id=\"line2d_8\">\n      <g>\n       <use style=\"stroke:#000000;stroke-width:0.5;\" x=\"301.3405\" xlink:href=\"#m7dfb8b6374\" y=\"9.070875\"/>\n      </g>\n     </g>\n     <g id=\"text_4\">\n      <!-- 0.6 -->\n      <g transform=\"translate(289.89025 353.172625)scale(0.144 -0.144)\">\n       <defs>\n        <path d=\"M 2094 219 \nQ 2534 219 2771 542 \nQ 3009 866 3009 1472 \nQ 3009 2078 2771 2401 \nQ 2534 2725 2094 2725 \nQ 1647 2725 1412 2412 \nQ 1178 2100 1178 1509 \nQ 1178 888 1415 553 \nQ 1653 219 2094 219 \nz\nM 1075 2569 \nQ 1288 2803 1556 2918 \nQ 1825 3034 2163 3034 \nQ 2859 3034 3264 2615 \nQ 3669 2197 3669 1472 \nQ 3669 763 3233 336 \nQ 2797 -91 2069 -91 \nQ 1278 -91 853 498 \nQ 428 1088 428 2181 \nQ 428 3406 931 4078 \nQ 1434 4750 2350 4750 \nQ 2597 4750 2869 4703 \nQ 3141 4656 3425 4563 \nL 3425 3794 \nL 3072 3794 \nQ 3034 4109 2831 4275 \nQ 2628 4441 2284 4441 \nQ 1678 4441 1381 3981 \nQ 1084 3522 1075 2569 \nz\n\" id=\"DejaVuSerif-36\" transform=\"scale(0.015625)\"/>\n       </defs>\n       <use xlink:href=\"#DejaVuSerif-30\"/>\n       <use x=\"63.623047\" xlink:href=\"#DejaVuSerif-2e\"/>\n       <use x=\"95.410156\" xlink:href=\"#DejaVuSerif-36\"/>\n      </g>\n     </g>\n    </g>\n    <g id=\"xtick_5\">\n     <g id=\"line2d_9\">\n      <g>\n       <use style=\"stroke:#000000;stroke-width:0.5;\" x=\"390.6205\" xlink:href=\"#m86ef7b56fb\" y=\"335.230875\"/>\n      </g>\n     </g>\n     <g id=\"line2d_10\">\n      <g>\n       <use style=\"stroke:#000000;stroke-width:0.5;\" x=\"390.6205\" xlink:href=\"#m7dfb8b6374\" y=\"9.070875\"/>\n      </g>\n     </g>\n     <g id=\"text_5\">\n      <!-- 0.8 -->\n      <g transform=\"translate(379.17025 353.172625)scale(0.144 -0.144)\">\n       <defs>\n        <path d=\"M 2981 1275 \nQ 2981 1775 2732 2051 \nQ 2484 2328 2034 2328 \nQ 1584 2328 1336 2051 \nQ 1088 1775 1088 1275 \nQ 1088 772 1336 495 \nQ 1584 219 2034 219 \nQ 2484 219 2732 495 \nQ 2981 772 2981 1275 \nz\nM 2853 3541 \nQ 2853 3966 2637 4203 \nQ 2422 4441 2034 4441 \nQ 1650 4441 1433 4203 \nQ 1216 3966 1216 3541 \nQ 1216 3113 1433 2875 \nQ 1650 2638 2034 2638 \nQ 2422 2638 2637 2875 \nQ 2853 3113 2853 3541 \nz\nM 2516 2484 \nQ 3047 2413 3344 2092 \nQ 3641 1772 3641 1275 \nQ 3641 619 3225 264 \nQ 2809 -91 2034 -91 \nQ 1263 -91 845 264 \nQ 428 619 428 1275 \nQ 428 1772 725 2092 \nQ 1022 2413 1556 2484 \nQ 1084 2569 832 2842 \nQ 581 3116 581 3541 \nQ 581 4103 968 4426 \nQ 1356 4750 2034 4750 \nQ 2713 4750 3100 4426 \nQ 3488 4103 3488 3541 \nQ 3488 3116 3236 2842 \nQ 2984 2569 2516 2484 \nz\n\" id=\"DejaVuSerif-38\" transform=\"scale(0.015625)\"/>\n       </defs>\n       <use xlink:href=\"#DejaVuSerif-30\"/>\n       <use x=\"63.623047\" xlink:href=\"#DejaVuSerif-2e\"/>\n       <use x=\"95.410156\" xlink:href=\"#DejaVuSerif-38\"/>\n      </g>\n     </g>\n    </g>\n    <g id=\"xtick_6\">\n     <g id=\"line2d_11\">\n      <g>\n       <use style=\"stroke:#000000;stroke-width:0.5;\" x=\"479.9005\" xlink:href=\"#m86ef7b56fb\" y=\"335.230875\"/>\n      </g>\n     </g>\n     <g id=\"line2d_12\">\n      <g>\n       <use style=\"stroke:#000000;stroke-width:0.5;\" x=\"479.9005\" xlink:href=\"#m7dfb8b6374\" y=\"9.070875\"/>\n      </g>\n     </g>\n     <g id=\"text_6\">\n      <!-- 1.0 -->\n      <g transform=\"translate(468.45025 353.172625)scale(0.144 -0.144)\">\n       <defs>\n        <path d=\"M 909 0 \nL 909 331 \nL 1722 331 \nL 1722 4213 \nL 781 3603 \nL 781 4013 \nL 1919 4750 \nL 2350 4750 \nL 2350 331 \nL 3163 331 \nL 3163 0 \nL 909 0 \nz\n\" id=\"DejaVuSerif-31\" transform=\"scale(0.015625)\"/>\n       </defs>\n       <use xlink:href=\"#DejaVuSerif-31\"/>\n       <use x=\"63.623047\" xlink:href=\"#DejaVuSerif-2e\"/>\n       <use x=\"95.410156\" xlink:href=\"#DejaVuSerif-30\"/>\n      </g>\n     </g>\n    </g>\n    <g id=\"xtick_7\">\n     <g id=\"line2d_13\">\n      <defs>\n       <path d=\"M 0 0 \nL 0 -7 \n\" id=\"m011244d910\" style=\"stroke:#000000;stroke-width:0.5;\"/>\n      </defs>\n      <g>\n       <use style=\"stroke:#000000;stroke-width:0.5;\" x=\"55.8205\" xlink:href=\"#m011244d910\" y=\"335.230875\"/>\n      </g>\n     </g>\n     <g id=\"line2d_14\">\n      <defs>\n       <path d=\"M 0 0 \nL 0 7 \n\" id=\"mdfd77b2ec9\" style=\"stroke:#000000;stroke-width:0.5;\"/>\n      </defs>\n      <g>\n       <use style=\"stroke:#000000;stroke-width:0.5;\" x=\"55.8205\" xlink:href=\"#mdfd77b2ec9\" y=\"9.070875\"/>\n      </g>\n     </g>\n    </g>\n    <g id=\"xtick_8\">\n     <g id=\"line2d_15\">\n      <g>\n       <use style=\"stroke:#000000;stroke-width:0.5;\" x=\"78.1405\" xlink:href=\"#m011244d910\" y=\"335.230875\"/>\n      </g>\n     </g>\n     <g id=\"line2d_16\">\n      <g>\n       <use style=\"stroke:#000000;stroke-width:0.5;\" x=\"78.1405\" xlink:href=\"#mdfd77b2ec9\" y=\"9.070875\"/>\n      </g>\n     </g>\n    </g>\n    <g id=\"xtick_9\">\n     <g id=\"line2d_17\">\n      <g>\n       <use style=\"stroke:#000000;stroke-width:0.5;\" x=\"100.4605\" xlink:href=\"#m011244d910\" y=\"335.230875\"/>\n      </g>\n     </g>\n     <g id=\"line2d_18\">\n      <g>\n       <use style=\"stroke:#000000;stroke-width:0.5;\" x=\"100.4605\" xlink:href=\"#mdfd77b2ec9\" y=\"9.070875\"/>\n      </g>\n     </g>\n    </g>\n    <g id=\"xtick_10\">\n     <g id=\"line2d_19\">\n      <g>\n       <use style=\"stroke:#000000;stroke-width:0.5;\" x=\"145.1005\" xlink:href=\"#m011244d910\" y=\"335.230875\"/>\n      </g>\n     </g>\n     <g id=\"line2d_20\">\n      <g>\n       <use style=\"stroke:#000000;stroke-width:0.5;\" x=\"145.1005\" xlink:href=\"#mdfd77b2ec9\" y=\"9.070875\"/>\n      </g>\n     </g>\n    </g>\n    <g id=\"xtick_11\">\n     <g id=\"line2d_21\">\n      <g>\n       <use style=\"stroke:#000000;stroke-width:0.5;\" x=\"167.4205\" xlink:href=\"#m011244d910\" y=\"335.230875\"/>\n      </g>\n     </g>\n     <g id=\"line2d_22\">\n      <g>\n       <use style=\"stroke:#000000;stroke-width:0.5;\" x=\"167.4205\" xlink:href=\"#mdfd77b2ec9\" y=\"9.070875\"/>\n      </g>\n     </g>\n    </g>\n    <g id=\"xtick_12\">\n     <g id=\"line2d_23\">\n      <g>\n       <use style=\"stroke:#000000;stroke-width:0.5;\" x=\"189.7405\" xlink:href=\"#m011244d910\" y=\"335.230875\"/>\n      </g>\n     </g>\n     <g id=\"line2d_24\">\n      <g>\n       <use style=\"stroke:#000000;stroke-width:0.5;\" x=\"189.7405\" xlink:href=\"#mdfd77b2ec9\" y=\"9.070875\"/>\n      </g>\n     </g>\n    </g>\n    <g id=\"xtick_13\">\n     <g id=\"line2d_25\">\n      <g>\n       <use style=\"stroke:#000000;stroke-width:0.5;\" x=\"234.3805\" xlink:href=\"#m011244d910\" y=\"335.230875\"/>\n      </g>\n     </g>\n     <g id=\"line2d_26\">\n      <g>\n       <use style=\"stroke:#000000;stroke-width:0.5;\" x=\"234.3805\" xlink:href=\"#mdfd77b2ec9\" y=\"9.070875\"/>\n      </g>\n     </g>\n    </g>\n    <g id=\"xtick_14\">\n     <g id=\"line2d_27\">\n      <g>\n       <use style=\"stroke:#000000;stroke-width:0.5;\" x=\"256.7005\" xlink:href=\"#m011244d910\" y=\"335.230875\"/>\n      </g>\n     </g>\n     <g id=\"line2d_28\">\n      <g>\n       <use style=\"stroke:#000000;stroke-width:0.5;\" x=\"256.7005\" xlink:href=\"#mdfd77b2ec9\" y=\"9.070875\"/>\n      </g>\n     </g>\n    </g>\n    <g id=\"xtick_15\">\n     <g id=\"line2d_29\">\n      <g>\n       <use style=\"stroke:#000000;stroke-width:0.5;\" x=\"279.0205\" xlink:href=\"#m011244d910\" y=\"335.230875\"/>\n      </g>\n     </g>\n     <g id=\"line2d_30\">\n      <g>\n       <use style=\"stroke:#000000;stroke-width:0.5;\" x=\"279.0205\" xlink:href=\"#mdfd77b2ec9\" y=\"9.070875\"/>\n      </g>\n     </g>\n    </g>\n    <g id=\"xtick_16\">\n     <g id=\"line2d_31\">\n      <g>\n       <use style=\"stroke:#000000;stroke-width:0.5;\" x=\"323.6605\" xlink:href=\"#m011244d910\" y=\"335.230875\"/>\n      </g>\n     </g>\n     <g id=\"line2d_32\">\n      <g>\n       <use style=\"stroke:#000000;stroke-width:0.5;\" x=\"323.6605\" xlink:href=\"#mdfd77b2ec9\" y=\"9.070875\"/>\n      </g>\n     </g>\n    </g>\n    <g id=\"xtick_17\">\n     <g id=\"line2d_33\">\n      <g>\n       <use style=\"stroke:#000000;stroke-width:0.5;\" x=\"345.9805\" xlink:href=\"#m011244d910\" y=\"335.230875\"/>\n      </g>\n     </g>\n     <g id=\"line2d_34\">\n      <g>\n       <use style=\"stroke:#000000;stroke-width:0.5;\" x=\"345.9805\" xlink:href=\"#mdfd77b2ec9\" y=\"9.070875\"/>\n      </g>\n     </g>\n    </g>\n    <g id=\"xtick_18\">\n     <g id=\"line2d_35\">\n      <g>\n       <use style=\"stroke:#000000;stroke-width:0.5;\" x=\"368.3005\" xlink:href=\"#m011244d910\" y=\"335.230875\"/>\n      </g>\n     </g>\n     <g id=\"line2d_36\">\n      <g>\n       <use style=\"stroke:#000000;stroke-width:0.5;\" x=\"368.3005\" xlink:href=\"#mdfd77b2ec9\" y=\"9.070875\"/>\n      </g>\n     </g>\n    </g>\n    <g id=\"xtick_19\">\n     <g id=\"line2d_37\">\n      <g>\n       <use style=\"stroke:#000000;stroke-width:0.5;\" x=\"412.9405\" xlink:href=\"#m011244d910\" y=\"335.230875\"/>\n      </g>\n     </g>\n     <g id=\"line2d_38\">\n      <g>\n       <use style=\"stroke:#000000;stroke-width:0.5;\" x=\"412.9405\" xlink:href=\"#mdfd77b2ec9\" y=\"9.070875\"/>\n      </g>\n     </g>\n    </g>\n    <g id=\"xtick_20\">\n     <g id=\"line2d_39\">\n      <g>\n       <use style=\"stroke:#000000;stroke-width:0.5;\" x=\"435.2605\" xlink:href=\"#m011244d910\" y=\"335.230875\"/>\n      </g>\n     </g>\n     <g id=\"line2d_40\">\n      <g>\n       <use style=\"stroke:#000000;stroke-width:0.5;\" x=\"435.2605\" xlink:href=\"#mdfd77b2ec9\" y=\"9.070875\"/>\n      </g>\n     </g>\n    </g>\n    <g id=\"xtick_21\">\n     <g id=\"line2d_41\">\n      <g>\n       <use style=\"stroke:#000000;stroke-width:0.5;\" x=\"457.5805\" xlink:href=\"#m011244d910\" y=\"335.230875\"/>\n      </g>\n     </g>\n     <g id=\"line2d_42\">\n      <g>\n       <use style=\"stroke:#000000;stroke-width:0.5;\" x=\"457.5805\" xlink:href=\"#mdfd77b2ec9\" y=\"9.070875\"/>\n      </g>\n     </g>\n    </g>\n    <g id=\"text_7\">\n     <!-- Time -->\n     <g transform=\"translate(231.430187 375.36425)scale(0.2 -0.2)\">\n      <defs>\n       <path d=\"M 1222 0 \nL 1222 331 \nL 1819 331 \nL 1819 4294 \nL 447 4294 \nL 447 3566 \nL 63 3566 \nL 63 4666 \nL 4206 4666 \nL 4206 3566 \nL 3822 3566 \nL 3822 4294 \nL 2450 4294 \nL 2450 331 \nL 3047 331 \nL 3047 0 \nL 1222 0 \nz\n\" id=\"DejaVuSerif-54\" transform=\"scale(0.015625)\"/>\n       <path d=\"M 622 4353 \nQ 622 4497 726 4603 \nQ 831 4709 978 4709 \nQ 1122 4709 1226 4603 \nQ 1331 4497 1331 4353 \nQ 1331 4206 1228 4103 \nQ 1125 4000 978 4000 \nQ 831 4000 726 4103 \nQ 622 4206 622 4353 \nz\nM 1356 331 \nL 1900 331 \nL 1900 0 \nL 231 0 \nL 231 331 \nL 781 331 \nL 781 2988 \nL 231 2988 \nL 231 3322 \nL 1356 3322 \nL 1356 331 \nz\n\" id=\"DejaVuSerif-69\" transform=\"scale(0.015625)\"/>\n       <path d=\"M 3316 2675 \nQ 3481 3041 3739 3227 \nQ 3997 3413 4341 3413 \nQ 4863 3413 5119 3089 \nQ 5375 2766 5375 2113 \nL 5375 331 \nL 5894 331 \nL 5894 0 \nL 4300 0 \nL 4300 331 \nL 4800 331 \nL 4800 2047 \nQ 4800 2556 4650 2772 \nQ 4500 2988 4153 2988 \nQ 3769 2988 3567 2697 \nQ 3366 2406 3366 1850 \nL 3366 331 \nL 3866 331 \nL 3866 0 \nL 2291 0 \nL 2291 331 \nL 2791 331 \nL 2791 2069 \nQ 2791 2566 2641 2777 \nQ 2491 2988 2144 2988 \nQ 1759 2988 1557 2697 \nQ 1356 2406 1356 1850 \nL 1356 331 \nL 1856 331 \nL 1856 0 \nL 263 0 \nL 263 331 \nL 781 331 \nL 781 2994 \nL 231 2994 \nL 231 3322 \nL 1356 3322 \nL 1356 2731 \nQ 1516 3063 1762 3238 \nQ 2009 3413 2322 3413 \nQ 2709 3413 2968 3220 \nQ 3228 3028 3316 2675 \nz\n\" id=\"DejaVuSerif-6d\" transform=\"scale(0.015625)\"/>\n       <path d=\"M 3469 1600 \nL 991 1600 \nL 991 1575 \nQ 991 903 1244 561 \nQ 1497 219 1991 219 \nQ 2369 219 2611 417 \nQ 2853 616 2950 1006 \nL 3413 1006 \nQ 3275 459 2904 184 \nQ 2534 -91 1931 -91 \nQ 1203 -91 761 389 \nQ 319 869 319 1663 \nQ 319 2450 753 2931 \nQ 1188 3413 1894 3413 \nQ 2647 3413 3050 2948 \nQ 3453 2484 3469 1600 \nz\nM 2791 1931 \nQ 2772 2513 2545 2808 \nQ 2319 3103 1894 3103 \nQ 1497 3103 1269 2806 \nQ 1041 2509 991 1931 \nL 2791 1931 \nz\n\" id=\"DejaVuSerif-65\" transform=\"scale(0.015625)\"/>\n      </defs>\n      <use xlink:href=\"#DejaVuSerif-54\"/>\n      <use x=\"66.699219\" xlink:href=\"#DejaVuSerif-69\"/>\n      <use x=\"98.681641\" xlink:href=\"#DejaVuSerif-6d\"/>\n      <use x=\"193.505859\" xlink:href=\"#DejaVuSerif-65\"/>\n     </g>\n    </g>\n   </g>\n   <g id=\"matplotlib.axis_2\">\n    <g id=\"ytick_1\">\n     <g id=\"line2d_43\">\n      <defs>\n       <path d=\"M 0 0 \nL 12 0 \n\" id=\"mbd5242f005\" style=\"stroke:#000000;stroke-width:0.5;\"/>\n      </defs>\n      <g>\n       <use style=\"stroke:#000000;stroke-width:0.5;\" x=\"33.5005\" xlink:href=\"#mbd5242f005\" y=\"335.230875\"/>\n      </g>\n     </g>\n     <g id=\"line2d_44\">\n      <defs>\n       <path d=\"M 0 0 \nL -12 0 \n\" id=\"mb9f3872675\" style=\"stroke:#000000;stroke-width:0.5;\"/>\n      </defs>\n      <g>\n       <use style=\"stroke:#000000;stroke-width:0.5;\" x=\"479.9005\" xlink:href=\"#mb9f3872675\" y=\"335.230875\"/>\n      </g>\n     </g>\n     <g id=\"text_8\">\n      <!-- 0.0 -->\n      <g transform=\"translate(3.6 340.70175)scale(0.144 -0.144)\">\n       <use xlink:href=\"#DejaVuSerif-30\"/>\n       <use x=\"63.623047\" xlink:href=\"#DejaVuSerif-2e\"/>\n       <use x=\"95.410156\" xlink:href=\"#DejaVuSerif-30\"/>\n      </g>\n     </g>\n    </g>\n    <g id=\"ytick_2\">\n     <g id=\"line2d_45\">\n      <g>\n       <use style=\"stroke:#000000;stroke-width:0.5;\" x=\"33.5005\" xlink:href=\"#mbd5242f005\" y=\"269.998875\"/>\n      </g>\n     </g>\n     <g id=\"line2d_46\">\n      <g>\n       <use style=\"stroke:#000000;stroke-width:0.5;\" x=\"479.9005\" xlink:href=\"#mb9f3872675\" y=\"269.998875\"/>\n      </g>\n     </g>\n     <g id=\"text_9\">\n      <!-- 0.2 -->\n      <g transform=\"translate(3.6 275.46975)scale(0.144 -0.144)\">\n       <use xlink:href=\"#DejaVuSerif-30\"/>\n       <use x=\"63.623047\" xlink:href=\"#DejaVuSerif-2e\"/>\n       <use x=\"95.410156\" xlink:href=\"#DejaVuSerif-32\"/>\n      </g>\n     </g>\n    </g>\n    <g id=\"ytick_3\">\n     <g id=\"line2d_47\">\n      <g>\n       <use style=\"stroke:#000000;stroke-width:0.5;\" x=\"33.5005\" xlink:href=\"#mbd5242f005\" y=\"204.766875\"/>\n      </g>\n     </g>\n     <g id=\"line2d_48\">\n      <g>\n       <use style=\"stroke:#000000;stroke-width:0.5;\" x=\"479.9005\" xlink:href=\"#mb9f3872675\" y=\"204.766875\"/>\n      </g>\n     </g>\n     <g id=\"text_10\">\n      <!-- 0.4 -->\n      <g transform=\"translate(3.6 210.23775)scale(0.144 -0.144)\">\n       <use xlink:href=\"#DejaVuSerif-30\"/>\n       <use x=\"63.623047\" xlink:href=\"#DejaVuSerif-2e\"/>\n       <use x=\"95.410156\" xlink:href=\"#DejaVuSerif-34\"/>\n      </g>\n     </g>\n    </g>\n    <g id=\"ytick_4\">\n     <g id=\"line2d_49\">\n      <g>\n       <use style=\"stroke:#000000;stroke-width:0.5;\" x=\"33.5005\" xlink:href=\"#mbd5242f005\" y=\"139.534875\"/>\n      </g>\n     </g>\n     <g id=\"line2d_50\">\n      <g>\n       <use style=\"stroke:#000000;stroke-width:0.5;\" x=\"479.9005\" xlink:href=\"#mb9f3872675\" y=\"139.534875\"/>\n      </g>\n     </g>\n     <g id=\"text_11\">\n      <!-- 0.6 -->\n      <g transform=\"translate(3.6 145.00575)scale(0.144 -0.144)\">\n       <use xlink:href=\"#DejaVuSerif-30\"/>\n       <use x=\"63.623047\" xlink:href=\"#DejaVuSerif-2e\"/>\n       <use x=\"95.410156\" xlink:href=\"#DejaVuSerif-36\"/>\n      </g>\n     </g>\n    </g>\n    <g id=\"ytick_5\">\n     <g id=\"line2d_51\">\n      <g>\n       <use style=\"stroke:#000000;stroke-width:0.5;\" x=\"33.5005\" xlink:href=\"#mbd5242f005\" y=\"74.302875\"/>\n      </g>\n     </g>\n     <g id=\"line2d_52\">\n      <g>\n       <use style=\"stroke:#000000;stroke-width:0.5;\" x=\"479.9005\" xlink:href=\"#mb9f3872675\" y=\"74.302875\"/>\n      </g>\n     </g>\n     <g id=\"text_12\">\n      <!-- 0.8 -->\n      <g transform=\"translate(3.6 79.77375)scale(0.144 -0.144)\">\n       <use xlink:href=\"#DejaVuSerif-30\"/>\n       <use x=\"63.623047\" xlink:href=\"#DejaVuSerif-2e\"/>\n       <use x=\"95.410156\" xlink:href=\"#DejaVuSerif-38\"/>\n      </g>\n     </g>\n    </g>\n    <g id=\"ytick_6\">\n     <g id=\"line2d_53\">\n      <g>\n       <use style=\"stroke:#000000;stroke-width:0.5;\" x=\"33.5005\" xlink:href=\"#mbd5242f005\" y=\"9.070875\"/>\n      </g>\n     </g>\n     <g id=\"line2d_54\">\n      <g>\n       <use style=\"stroke:#000000;stroke-width:0.5;\" x=\"479.9005\" xlink:href=\"#mb9f3872675\" y=\"9.070875\"/>\n      </g>\n     </g>\n     <g id=\"text_13\">\n      <!-- 1.0 -->\n      <g transform=\"translate(3.6 14.54175)scale(0.144 -0.144)\">\n       <use xlink:href=\"#DejaVuSerif-31\"/>\n       <use x=\"63.623047\" xlink:href=\"#DejaVuSerif-2e\"/>\n       <use x=\"95.410156\" xlink:href=\"#DejaVuSerif-30\"/>\n      </g>\n     </g>\n    </g>\n    <g id=\"ytick_7\">\n     <g id=\"line2d_55\">\n      <defs>\n       <path d=\"M 0 0 \nL 7 0 \n\" id=\"mece2eb05d2\" style=\"stroke:#000000;stroke-width:0.5;\"/>\n      </defs>\n      <g>\n       <use style=\"stroke:#000000;stroke-width:0.5;\" x=\"33.5005\" xlink:href=\"#mece2eb05d2\" y=\"318.922875\"/>\n      </g>\n     </g>\n     <g id=\"line2d_56\">\n      <defs>\n       <path d=\"M 0 0 \nL -7 0 \n\" id=\"m3ddf0ad3b3\" style=\"stroke:#000000;stroke-width:0.5;\"/>\n      </defs>\n      <g>\n       <use style=\"stroke:#000000;stroke-width:0.5;\" x=\"479.9005\" xlink:href=\"#m3ddf0ad3b3\" y=\"318.922875\"/>\n      </g>\n     </g>\n    </g>\n    <g id=\"ytick_8\">\n     <g id=\"line2d_57\">\n      <g>\n       <use style=\"stroke:#000000;stroke-width:0.5;\" x=\"33.5005\" xlink:href=\"#mece2eb05d2\" y=\"302.614875\"/>\n      </g>\n     </g>\n     <g id=\"line2d_58\">\n      <g>\n       <use style=\"stroke:#000000;stroke-width:0.5;\" x=\"479.9005\" xlink:href=\"#m3ddf0ad3b3\" y=\"302.614875\"/>\n      </g>\n     </g>\n    </g>\n    <g id=\"ytick_9\">\n     <g id=\"line2d_59\">\n      <g>\n       <use style=\"stroke:#000000;stroke-width:0.5;\" x=\"33.5005\" xlink:href=\"#mece2eb05d2\" y=\"286.306875\"/>\n      </g>\n     </g>\n     <g id=\"line2d_60\">\n      <g>\n       <use style=\"stroke:#000000;stroke-width:0.5;\" x=\"479.9005\" xlink:href=\"#m3ddf0ad3b3\" y=\"286.306875\"/>\n      </g>\n     </g>\n    </g>\n    <g id=\"ytick_10\">\n     <g id=\"line2d_61\">\n      <g>\n       <use style=\"stroke:#000000;stroke-width:0.5;\" x=\"33.5005\" xlink:href=\"#mece2eb05d2\" y=\"253.690875\"/>\n      </g>\n     </g>\n     <g id=\"line2d_62\">\n      <g>\n       <use style=\"stroke:#000000;stroke-width:0.5;\" x=\"479.9005\" xlink:href=\"#m3ddf0ad3b3\" y=\"253.690875\"/>\n      </g>\n     </g>\n    </g>\n    <g id=\"ytick_11\">\n     <g id=\"line2d_63\">\n      <g>\n       <use style=\"stroke:#000000;stroke-width:0.5;\" x=\"33.5005\" xlink:href=\"#mece2eb05d2\" y=\"237.382875\"/>\n      </g>\n     </g>\n     <g id=\"line2d_64\">\n      <g>\n       <use style=\"stroke:#000000;stroke-width:0.5;\" x=\"479.9005\" xlink:href=\"#m3ddf0ad3b3\" y=\"237.382875\"/>\n      </g>\n     </g>\n    </g>\n    <g id=\"ytick_12\">\n     <g id=\"line2d_65\">\n      <g>\n       <use style=\"stroke:#000000;stroke-width:0.5;\" x=\"33.5005\" xlink:href=\"#mece2eb05d2\" y=\"221.074875\"/>\n      </g>\n     </g>\n     <g id=\"line2d_66\">\n      <g>\n       <use style=\"stroke:#000000;stroke-width:0.5;\" x=\"479.9005\" xlink:href=\"#m3ddf0ad3b3\" y=\"221.074875\"/>\n      </g>\n     </g>\n    </g>\n    <g id=\"ytick_13\">\n     <g id=\"line2d_67\">\n      <g>\n       <use style=\"stroke:#000000;stroke-width:0.5;\" x=\"33.5005\" xlink:href=\"#mece2eb05d2\" y=\"188.458875\"/>\n      </g>\n     </g>\n     <g id=\"line2d_68\">\n      <g>\n       <use style=\"stroke:#000000;stroke-width:0.5;\" x=\"479.9005\" xlink:href=\"#m3ddf0ad3b3\" y=\"188.458875\"/>\n      </g>\n     </g>\n    </g>\n    <g id=\"ytick_14\">\n     <g id=\"line2d_69\">\n      <g>\n       <use style=\"stroke:#000000;stroke-width:0.5;\" x=\"33.5005\" xlink:href=\"#mece2eb05d2\" y=\"172.150875\"/>\n      </g>\n     </g>\n     <g id=\"line2d_70\">\n      <g>\n       <use style=\"stroke:#000000;stroke-width:0.5;\" x=\"479.9005\" xlink:href=\"#m3ddf0ad3b3\" y=\"172.150875\"/>\n      </g>\n     </g>\n    </g>\n    <g id=\"ytick_15\">\n     <g id=\"line2d_71\">\n      <g>\n       <use style=\"stroke:#000000;stroke-width:0.5;\" x=\"33.5005\" xlink:href=\"#mece2eb05d2\" y=\"155.842875\"/>\n      </g>\n     </g>\n     <g id=\"line2d_72\">\n      <g>\n       <use style=\"stroke:#000000;stroke-width:0.5;\" x=\"479.9005\" xlink:href=\"#m3ddf0ad3b3\" y=\"155.842875\"/>\n      </g>\n     </g>\n    </g>\n    <g id=\"ytick_16\">\n     <g id=\"line2d_73\">\n      <g>\n       <use style=\"stroke:#000000;stroke-width:0.5;\" x=\"33.5005\" xlink:href=\"#mece2eb05d2\" y=\"123.226875\"/>\n      </g>\n     </g>\n     <g id=\"line2d_74\">\n      <g>\n       <use style=\"stroke:#000000;stroke-width:0.5;\" x=\"479.9005\" xlink:href=\"#m3ddf0ad3b3\" y=\"123.226875\"/>\n      </g>\n     </g>\n    </g>\n    <g id=\"ytick_17\">\n     <g id=\"line2d_75\">\n      <g>\n       <use style=\"stroke:#000000;stroke-width:0.5;\" x=\"33.5005\" xlink:href=\"#mece2eb05d2\" y=\"106.918875\"/>\n      </g>\n     </g>\n     <g id=\"line2d_76\">\n      <g>\n       <use style=\"stroke:#000000;stroke-width:0.5;\" x=\"479.9005\" xlink:href=\"#m3ddf0ad3b3\" y=\"106.918875\"/>\n      </g>\n     </g>\n    </g>\n    <g id=\"ytick_18\">\n     <g id=\"line2d_77\">\n      <g>\n       <use style=\"stroke:#000000;stroke-width:0.5;\" x=\"33.5005\" xlink:href=\"#mece2eb05d2\" y=\"90.610875\"/>\n      </g>\n     </g>\n     <g id=\"line2d_78\">\n      <g>\n       <use style=\"stroke:#000000;stroke-width:0.5;\" x=\"479.9005\" xlink:href=\"#m3ddf0ad3b3\" y=\"90.610875\"/>\n      </g>\n     </g>\n    </g>\n    <g id=\"ytick_19\">\n     <g id=\"line2d_79\">\n      <g>\n       <use style=\"stroke:#000000;stroke-width:0.5;\" x=\"33.5005\" xlink:href=\"#mece2eb05d2\" y=\"57.994875\"/>\n      </g>\n     </g>\n     <g id=\"line2d_80\">\n      <g>\n       <use style=\"stroke:#000000;stroke-width:0.5;\" x=\"479.9005\" xlink:href=\"#m3ddf0ad3b3\" y=\"57.994875\"/>\n      </g>\n     </g>\n    </g>\n    <g id=\"ytick_20\">\n     <g id=\"line2d_81\">\n      <g>\n       <use style=\"stroke:#000000;stroke-width:0.5;\" x=\"33.5005\" xlink:href=\"#mece2eb05d2\" y=\"41.686875\"/>\n      </g>\n     </g>\n     <g id=\"line2d_82\">\n      <g>\n       <use style=\"stroke:#000000;stroke-width:0.5;\" x=\"479.9005\" xlink:href=\"#m3ddf0ad3b3\" y=\"41.686875\"/>\n      </g>\n     </g>\n    </g>\n    <g id=\"ytick_21\">\n     <g id=\"line2d_83\">\n      <g>\n       <use style=\"stroke:#000000;stroke-width:0.5;\" x=\"33.5005\" xlink:href=\"#mece2eb05d2\" y=\"25.378875\"/>\n      </g>\n     </g>\n     <g id=\"line2d_84\">\n      <g>\n       <use style=\"stroke:#000000;stroke-width:0.5;\" x=\"479.9005\" xlink:href=\"#m3ddf0ad3b3\" y=\"25.378875\"/>\n      </g>\n     </g>\n    </g>\n   </g>\n   <g id=\"patch_3\">\n    <path d=\"M 33.5005 335.230875 \nL 33.5005 9.070875 \n\" style=\"fill:none;stroke:#000000;stroke-linecap:square;stroke-linejoin:miter;stroke-width:0.5;\"/>\n   </g>\n   <g id=\"patch_4\">\n    <path d=\"M 479.9005 335.230875 \nL 479.9005 9.070875 \n\" style=\"fill:none;stroke:#000000;stroke-linecap:square;stroke-linejoin:miter;stroke-width:0.5;\"/>\n   </g>\n   <g id=\"patch_5\">\n    <path d=\"M 33.5005 335.230875 \nL 479.9005 335.230875 \n\" style=\"fill:none;stroke:#000000;stroke-linecap:square;stroke-linejoin:miter;stroke-width:0.5;\"/>\n   </g>\n   <g id=\"patch_6\">\n    <path d=\"M 33.5005 9.070875 \nL 479.9005 9.070875 \n\" style=\"fill:none;stroke:#000000;stroke-linecap:square;stroke-linejoin:miter;stroke-width:0.5;\"/>\n   </g>\n   <g id=\"legend_1\"/>\n  </g>\n </g>\n</svg>\n"
     },
     "metadata": {
      "needs_background": "light"
     },
     "output_type": "display_data"
    }
   ],
   "source": [
    "from HistTools import GetBinCenter\n",
    "import tqdm\n",
    "from PlotTools import LegendNotRepeated\n",
    "\n",
    "plot_into_pdf = True\n",
    "\n",
    "n_to_plot = 200 if plot_into_pdf else 20\n",
    "if plot_into_pdf:\n",
    "    dir_pdf = {tag:PdfPages(f\"{path_save}{tag}.pdf\") for tag in v_tags}\n",
    "v_colors = [\"red\", \"blue\", \"green\"]\n",
    "for j, tag in enumerate(v_tags):\n",
    "    index_tag = ((dir_map[\"evtType\"]==tag)&(dir_map['recE']<3))\n",
    "    for i, (v_time, v_charge, v_isHam) in tqdm.tqdm(enumerate(zip(dir_evts[\"Time\"][index_tag], dir_evts[\"Charge\"][index_tag], dir_evts[\"isHam\"][index_tag]))):\n",
    "        if plot_into_pdf:\n",
    "            plt.figure()\n",
    "        v_NotisHam = [not IsHam for IsHam in v_isHam]\n",
    "        v_isHam = (v_isHam==1)\n",
    "        # h_time = np.histogram(v_time[v_isHam], bins=bins, weights=v_charge[v_isHam])[0]/np.diff(bins)\n",
    "        h_time = np.histogram(v_time, bins=bins)[0]/np.diff(bins)\n",
    "\n",
    "\n",
    "        # plt.plot(GetBinCenter(bins), np.array(h_time)/np.max(h_time), color=v_colors[j], label=tag)\n",
    "        plt.plot(GetBinCenter(bins), np.array(h_time), color=v_colors[j], label=tag)\n",
    "\n",
    "        if plot_into_pdf:\n",
    "            dir_pdf[tag].savefig()\n",
    "            plt.legend()\n",
    "            plt.close()\n",
    "\n",
    "        if i>n_to_plot:\n",
    "            break\n",
    "\n",
    "\n",
    "plt.xlabel(\"Time\")\n",
    "LegendNotRepeated()\n",
    "# plt.ylim(0,30)\n",
    "if plot_into_pdf:\n",
    "    for key, pdf in dir_pdf.items():\n",
    "        pdf.close()\n",
    "        "
   ],
   "metadata": {
    "collapsed": false,
    "pycharm": {
     "name": "#%%\n"
    }
   }
  },
  {
   "cell_type": "code",
   "execution_count": 44,
   "outputs": [
    {
     "ename": "AttributeError",
     "evalue": "'NoneType' object has no attribute 'finalize'",
     "output_type": "error",
     "traceback": [
      "\u001B[0;31m---------------------------------------------------------------------------\u001B[0m",
      "\u001B[0;31mAttributeError\u001B[0m                            Traceback (most recent call last)",
      "\u001B[0;32m/tmp/ipykernel_15656/2022064070.py\u001B[0m in \u001B[0;36m<module>\u001B[0;34m\u001B[0m\n\u001B[1;32m      1\u001B[0m \u001B[0;32mfor\u001B[0m \u001B[0mkey\u001B[0m\u001B[0;34m,\u001B[0m \u001B[0mpdf\u001B[0m \u001B[0;32min\u001B[0m \u001B[0mdir_pdf\u001B[0m\u001B[0;34m.\u001B[0m\u001B[0mitems\u001B[0m\u001B[0;34m(\u001B[0m\u001B[0;34m)\u001B[0m\u001B[0;34m:\u001B[0m\u001B[0;34m\u001B[0m\u001B[0;34m\u001B[0m\u001B[0m\n\u001B[0;32m----> 2\u001B[0;31m     \u001B[0mpdf\u001B[0m\u001B[0;34m.\u001B[0m\u001B[0mclose\u001B[0m\u001B[0;34m(\u001B[0m\u001B[0;34m)\u001B[0m\u001B[0;34m\u001B[0m\u001B[0;34m\u001B[0m\u001B[0m\n\u001B[0m",
      "\u001B[0;32m~/.local/lib/python3.8/site-packages/matplotlib/backends/backend_pdf.py\u001B[0m in \u001B[0;36mclose\u001B[0;34m(self)\u001B[0m\n\u001B[1;32m   2635\u001B[0m         \u001B[0mPDF\u001B[0m \u001B[0mfile\u001B[0m\u001B[0;34m.\u001B[0m\u001B[0;34m\u001B[0m\u001B[0;34m\u001B[0m\u001B[0m\n\u001B[1;32m   2636\u001B[0m         \"\"\"\n\u001B[0;32m-> 2637\u001B[0;31m         \u001B[0mself\u001B[0m\u001B[0;34m.\u001B[0m\u001B[0m_file\u001B[0m\u001B[0;34m.\u001B[0m\u001B[0mfinalize\u001B[0m\u001B[0;34m(\u001B[0m\u001B[0;34m)\u001B[0m\u001B[0;34m\u001B[0m\u001B[0;34m\u001B[0m\u001B[0m\n\u001B[0m\u001B[1;32m   2638\u001B[0m         \u001B[0mself\u001B[0m\u001B[0;34m.\u001B[0m\u001B[0m_file\u001B[0m\u001B[0;34m.\u001B[0m\u001B[0mclose\u001B[0m\u001B[0;34m(\u001B[0m\u001B[0;34m)\u001B[0m\u001B[0;34m\u001B[0m\u001B[0;34m\u001B[0m\u001B[0m\n\u001B[1;32m   2639\u001B[0m         if (self.get_pagecount() == 0 and not self.keep_empty and\n",
      "\u001B[0;31mAttributeError\u001B[0m: 'NoneType' object has no attribute 'finalize'"
     ]
    }
   ],
   "source": [
    "for key, pdf in dir_pdf.items():\n",
    "    pdf.close()"
   ],
   "metadata": {
    "collapsed": false,
    "pycharm": {
     "name": "#%%\n"
    }
   }
  }
 ],
 "metadata": {
  "kernelspec": {
   "display_name": "Python 3",
   "language": "python",
   "name": "python3"
  },
  "language_info": {
   "codemirror_mode": {
    "name": "ipython",
    "version": 2
   },
   "file_extension": ".py",
   "mimetype": "text/x-python",
   "name": "python",
   "nbconvert_exporter": "python",
   "pygments_lexer": "ipython2",
   "version": "2.7.6"
  }
 },
 "nbformat": 4,
 "nbformat_minor": 0
}