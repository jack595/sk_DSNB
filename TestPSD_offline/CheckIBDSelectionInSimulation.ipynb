{
 "cells": [
  {
   "cell_type": "code",
   "execution_count": 1,
   "metadata": {
    "collapsed": true
   },
   "outputs": [],
   "source": [
    "import matplotlib.pylab as plt\n",
    "import numpy as np\n",
    "plt.style.use(\"/afs/ihep.ac.cn/users/l/luoxj/Style/Paper.mplstyle\")\n",
    "%config InlineBackend.figure_format = 'svg'\n",
    "import sys\n",
    "sys.path.append(\"/afs/ihep.ac.cn/users/l/luoxj/root_tool/python_script/\")\n",
    "from LoadMultiFiles import LoadOneFileUproot"
   ]
  },
  {
   "cell_type": "code",
   "execution_count": 2,
   "outputs": [],
   "source": [
    "dir_detsim_event = LoadOneFileUproot(\"/afs/ihep.ac.cn/users/l/luoxj/TestPSD_offline/GenAtm/user_1.root\", name_branch=\"evt\",\n",
    "                                     return_list=False)\n",
    "dir_detsim_event_full = LoadOneFileUproot(\"root://junoeos01.ihep.ac.cn//eos/juno/valprod/valprod4/PsdDataforDSNB_J21v1r0-Pre1/AtmNC/Userdata/user_10001.root\",\n",
    "                                           name_branch=\"depTree\", return_list=False)\n",
    "dir_TMVA_input = LoadOneFileUproot(\"/afs/ihep.ac.cn/users/l/luoxj/TestPSD_offline/IBDSelection_chengjie/tmvainput_.root\",\n",
    "                                   name_branch=\"TMVAinput\", return_list=False)\n"
   ],
   "metadata": {
    "collapsed": false,
    "pycharm": {
     "name": "#%%\n"
    }
   }
  },
  {
   "cell_type": "code",
   "execution_count": 3,
   "outputs": [
    {
     "name": "stdout",
     "output_type": "stream",
     "text": [
      "13 29.414433\n",
      "14 42.190655\n",
      "22 25.825483\n",
      "23 33.778786\n",
      "27 42.583332\n",
      "30 55.836285\n",
      "40 65.248795\n",
      "48 28.304434\n",
      "51 61.012615\n",
      "84 29.19489\n"
     ]
    }
   ],
   "source": [
    "for i in range(len(dir_detsim_event[\"energy\"])):\n",
    "    if len(dir_detsim_event[\"energy\"][i]) > 0:\n",
    "        print(dir_detsim_event[\"evtID\"][i], dir_detsim_event[\"edep\"][i])"
   ],
   "metadata": {
    "collapsed": false,
    "pycharm": {
     "name": "#%%\n"
    }
   }
  },
  {
   "cell_type": "code",
   "execution_count": 9,
   "outputs": [
    {
     "name": "stdout",
     "output_type": "stream",
     "text": [
      "dict_keys(['evtID', 'stepNumber', 'PDG', 'Dis01', 'Dis02', 'Positionx', 'Positiony', 'Positionz', 'GlobalTime', 'LocalTime', 'TotalEnergy', 'KineticEnergy', 'EnergyDeposit', 'QEnergyDeposit', 'Captime'])\n",
      "8 [array([41.39906502,  2.16843574])] [    0 19512]\n",
      "9 [array([20.30679075,  2.16350412,  1.40891326])] [        0    169722 653904802]\n",
      "13 [array([15.80538674,  2.14652905])] [     0 278269]\n",
      "16 [array([84.26744105,  2.16525689,  1.04863258])] [            0        517601 1496590684994]\n",
      "18 [array([75.58300836,  2.14423378])] [     0 116840]\n",
      "22 [array([15.70658409,  2.15385751])] [     0 147175]\n",
      "23 [array([17.23638786,  2.16204619])] [    0 18182]\n",
      "27 [array([25.43128815,  2.1762407 ])] [     0 173898]\n",
      "32 [array([13.18533671,  2.15082619])] [    0 61337]\n",
      "37 [array([64.19553602,  4.82356735])] [     0 148914]\n",
      "45 [array([66.48546079,  2.16466465])] [     0 446769]\n",
      "48 [array([17.71388327,  2.14184536])] [    0 34702]\n",
      "51 [array([17.23991162,  2.14661231,  1.48988379])] [           0       483060 726063828033]\n",
      "56 [array([98.58075715,  2.16295663])] [    0 73646]\n",
      "61 [array([76.29661241,  2.15996403,  1.40687535])] [           0        79792 579997236679]\n",
      "62 [array([24.9678814 ,  2.16162764])] [    0 24237]\n",
      "63 [array([60.6879151 ,  2.15461748])] [     0 261545]\n",
      "66 [array([72.88990456,  2.02237341])] [   0 2906]\n",
      "71 [array([106.09641353,   2.14402431])] [    0 71996]\n",
      "81 [array([102.70376653,   2.17075909])] [     0 298564]\n",
      "84 [array([1.63616443e+01, 5.89020197e-05, 2.15839635e+00])] [     0    835 311961]\n",
      "93 [array([54.49531097,  2.16772872])] [     0 264433]\n"
     ]
    }
   ],
   "source": [
    "print(dir_detsim_event_full.keys())\n",
    "\n",
    "for evtID in dir_TMVA_input[\"evtID\"]:\n",
    "    index_evtID = dir_detsim_event_full[\"evtID\"] == evtID\n",
    "    print(evtID, dir_detsim_event_full[\"QEnergyDeposit\"][index_evtID],\n",
    "          np.array(dir_detsim_event_full[\"GlobalTime\"][index_evtID][0],dtype=int))"
   ],
   "metadata": {
    "collapsed": false,
    "pycharm": {
     "name": "#%%\n"
    }
   }
  },
  {
   "cell_type": "code",
   "execution_count": 10,
   "outputs": [],
   "source": [
    "dir_detsim_evt = LoadOneFileUproot(\"/afs/ihep.ac.cn/users/l/luoxj/TestPSD_offline/GenAtm/user_.root\", name_branch=\"evt\",\n",
    "                                     return_list=False)\n",
    "\n",
    "dir_detsim_depTree = LoadOneFileUproot(\"/afs/ihep.ac.cn/users/l/luoxj/TestPSD_offline/GenAtm/user_.root\",\n",
    "                                          name_branch=\"depTree\", return_list=False)"
   ],
   "metadata": {
    "collapsed": false,
    "pycharm": {
     "name": "#%%\n"
    }
   }
  },
  {
   "cell_type": "code",
   "execution_count": 18,
   "outputs": [
    {
     "name": "stdout",
     "output_type": "stream",
     "text": [
      "1 [11.775775    2.16662598] [     0 390653]\n",
      "9 [16.94513251  2.15412711] [     0 105978]\n",
      "10 [13.40110782  2.17710454] [     0 177541]\n",
      "25 [1.76213533e+01 1.21751238e-05 2.15166829e+00 1.48114039e+00] [            0           817        206718 1025431949213]\n",
      "28 [30.97403747  2.15224776] [     0 287004]\n",
      "38 [11.10360728  2.16393377  1.50304426] [            0         25053 1807231175684]\n",
      "40 [17.96406661  2.15130159  1.29411287] [            0          7872 6176298660547]\n",
      "48 [16.37671778  2.16923283] [    0 36223]\n",
      "67 [2.30175538e+01 1.12775103e-05 2.16555143e+00 1.05650906e+00] [            0          1154        272217 2693629557724]\n",
      "72 [25.34864471  2.14760354  1.62660478] [            0        172879 1096464875428]\n",
      "96 [25.97146393  2.16028146  1.27592241] [            0        262094 1472861868206]\n",
      "98 [18.86247365  2.14971255] [    0 58305]\n",
      "99 [2.23001146e+01 1.00580009e-05 2.16366372e+00] [    0   913 91930]\n"
     ]
    }
   ],
   "source": [
    "\n",
    "for i in range(len(dir_detsim_evt[\"energy\"])):\n",
    "    if len(dir_detsim_evt[\"energy\"][i]) > 0:\n",
    "    # if True:\n",
    "        print(dir_detsim_evt[\"evtID\"][i], dir_detsim_depTree[\"QEnergyDeposit\"][i],\n",
    "              np.array(dir_detsim_depTree[\"GlobalTime\"][i], dtype=int))"
   ],
   "metadata": {
    "collapsed": false,
    "pycharm": {
     "name": "#%%\n"
    }
   }
  },
  {
   "cell_type": "code",
   "execution_count": 16,
   "outputs": [
    {
     "name": "stdout",
     "output_type": "stream",
     "text": [
      "4 [179.82035259   2.13383378   2.16208963   2.14913996   1.12688669] [           0        84099       267201       327059 326523313943]\n"
     ]
    }
   ],
   "source": [
    "i=4\n",
    "print(dir_detsim_evt[\"evtID\"][i], dir_detsim_depTree[\"QEnergyDeposit\"][i],\n",
    "      np.array(dir_detsim_depTree[\"GlobalTime\"][i], dtype=int))"
   ],
   "metadata": {
    "collapsed": false,
    "pycharm": {
     "name": "#%%\n"
    }
   }
  }
 ],
 "metadata": {
  "kernelspec": {
   "display_name": "Python 3",
   "language": "python",
   "name": "python3"
  },
  "language_info": {
   "codemirror_mode": {
    "name": "ipython",
    "version": 2
   },
   "file_extension": ".py",
   "mimetype": "text/x-python",
   "name": "python",
   "nbconvert_exporter": "python",
   "pygments_lexer": "ipython2",
   "version": "2.7.6"
  }
 },
 "nbformat": 4,
 "nbformat_minor": 0
}