{
 "cells": [
  {
   "cell_type": "code",
   "execution_count": 11,
   "metadata": {
    "collapsed": true
   },
   "outputs": [],
   "source": [
    "import matplotlib.pylab as plt\n",
    "import numpy as np\n",
    "plt.style.use(\"/afs/ihep.ac.cn/users/l/luoxj/Style/Paper.mplstyle\")\n",
    "%config InlineBackend.figure_format = 'svg'\n",
    "import sys\n",
    "sys.path.append(\"/afs/ihep.ac.cn/users/l/luoxj/root_tool/python_script/\")"
   ]
  },
  {
   "cell_type": "code",
   "execution_count": null,
   "outputs": [
    {
     "name": "stderr",
     "output_type": "stream",
     "text": [
      "  0%|          | 0/10000 [00:00<?, ?it/s]/afs/ihep.ac.cn/users/l/luoxj/root_tool/python_script/PlotTrackOfProcess.py:326: RuntimeWarning: invalid value encountered in true_divide\n",
      "  one_track_dE_dx = np.nan_to_num(one_track_dE/one_track_dx)\n",
      "100%|██████████| 10000/10000 [00:30<00:00, 326.57it/s]\n",
      "100%|██████████| 10000/10000 [00:34<00:00, 292.80it/s]\n",
      "100%|██████████| 10000/10000 [00:37<00:00, 263.49it/s]\n",
      "100%|██████████| 10000/10000 [00:42<00:00, 234.14it/s]\n",
      " 49%|████▉     | 4948/10000 [00:24<00:21, 236.15it/s]"
     ]
    }
   ],
   "source": [
    "from importlib import reload\n",
    "import PlotTrackOfProcess\n",
    "reload(PlotTrackOfProcess)\n",
    "from PlotTrackOfProcess import PlotTrackOfProcess\n",
    "track_tool = PlotTrackOfProcess()\n",
    "\n",
    "name_file_template = \"root://junoeos01.ihep.ac.cn//eos/juno/user/luoxj/Sim_DSNB/timing_constant_study/neutron_0_0_0_diff_E/detsim/user-root/user-detsim-{}.root\"\n",
    "dir_v_average_dE_dx = {}\n",
    "dir_v_equen = {}\n",
    "v_Edep_to_plot = range(1,10,2)\n",
    "# v_Edep_to_plot = [1]\n",
    "threshold_Equen = 0\n",
    "for Edep in v_Edep_to_plot:\n",
    "    track_tool.SetDataset(name_file_template.format(Edep))\n",
    "    v_equen = track_tool.Get_v_Equen(filter_n_capture=True)\n",
    "    v_average_dE_dx = track_tool.Get_v_Average_dE_dx()\n",
    "    index_equen_cut = (v_equen>threshold_Equen)\n",
    "    dir_v_equen[Edep] = v_equen[index_equen_cut]\n",
    "    dir_v_average_dE_dx[Edep] = v_average_dE_dx[index_equen_cut]\n"
   ],
   "metadata": {
    "collapsed": false,
    "pycharm": {
     "name": "#%%\n",
     "is_executing": true
    }
   }
  },
  {
   "cell_type": "code",
   "execution_count": null,
   "outputs": [],
   "source": [
    "v_equen_check = []\n",
    "for i in range(10):\n",
    "    (dE_dx,dE, dE_quench)=track_tool.Get_dE_dx_ByLoading_into_dir(entry_source=i, merge_same_pdg=True, return_dE_quench=True)\n",
    "    print(dE)\n",
    "    print(dE_quench)\n",
    "    equen_check = 0\n",
    "    for key in dE.keys():\n",
    "        equen_check += np.sum(dE_quench[key])\n",
    "    v_equen_check.append(equen_check)\n",
    "print(dir_v_equen[1])\n",
    "print(v_equen_check)\n"
   ],
   "metadata": {
    "collapsed": false,
    "pycharm": {
     "name": "#%%\n",
     "is_executing": true
    }
   }
  },
  {
   "cell_type": "code",
   "execution_count": null,
   "outputs": [],
   "source": [
    "plt.figure()\n",
    "for Edep in range(1,10,2):\n",
    "    plt.hist(dir_v_equen[Edep],bins=30, histtype=\"step\",\n",
    "             label=f\"Ek={Edep} MeV\")\n",
    "plt.xlabel(\"$E_{quench}$ [ MeV ]\")\n",
    "plt.semilogy()\n",
    "plt.legend()"
   ],
   "metadata": {
    "collapsed": false,
    "pycharm": {
     "name": "#%%\n",
     "is_executing": true
    }
   }
  },
  {
   "cell_type": "code",
   "execution_count": null,
   "outputs": [],
   "source": [
    "plt.figure()\n",
    "for Edep in range(1,10,2):\n",
    "    plt.hist(dir_v_average_dE_dx[Edep],bins=30, histtype=\"step\",\n",
    "             label=f\"Ek={Edep} MeV\")\n",
    "plt.xlabel(\"dE/dx [ MeV/mm ]\")\n",
    "plt.semilogy()\n",
    "plt.legend()"
   ],
   "metadata": {
    "collapsed": false,
    "pycharm": {
     "name": "#%%\n",
     "is_executing": true
    }
   }
  },
  {
   "cell_type": "code",
   "execution_count": null,
   "outputs": [],
   "source": [
    "from importlib import reload\n",
    "import PlotTrackOfProcess\n",
    "reload(PlotTrackOfProcess)\n",
    "from PlotTrackOfProcess import PlotTrackOfProcess\n",
    "track_tool = PlotTrackOfProcess()\n",
    "Ek = 3\n",
    "threshold_dE_dx = 200\n",
    "index_large_dE_dx = np.where(dir_v_average_dE_dx[Ek]>threshold_dE_dx)[0]\n",
    "print(index_large_dE_dx)\n",
    "track_tool.SetDataset(name_file_template.format(Ek))\n",
    "for i in index_large_dE_dx[:5]:\n",
    "    track_tool.PlotTrackWithEntrySource(show_p_direction=False,entry_source=i, debug=True, brief_show=True,print_track_info=True)\n",
    "    track_tool.Print_dE_dx_Contribution(i)\n"
   ],
   "metadata": {
    "collapsed": false,
    "pycharm": {
     "name": "#%%\n",
     "is_executing": true
    }
   }
  },
  {
   "cell_type": "code",
   "execution_count": null,
   "outputs": [],
   "source": [
    "from matplotlib.colors import LogNorm\n",
    "for Edep in range(1,10):\n",
    "    plt.figure()\n",
    "    plt.hist2d(dir_v_equen[Edep],dir_v_average_dE_dx[Edep], bins=20, cmap=\"Blues\",\n",
    "               norm=LogNorm())\n",
    "    plt.colorbar()\n",
    "    plt.xlabel(\"$E_{quench}$ [ MeV ]\")\n",
    "    plt.ylabel(\"dE/dx [ MeV/mm ]\")\n",
    "    plt.title(\"$E_{k}$ = \"+f\"{Edep} MeV\")"
   ],
   "metadata": {
    "collapsed": false,
    "pycharm": {
     "name": "#%%\n",
     "is_executing": true
    }
   }
  },
  {
   "cell_type": "code",
   "execution_count": null,
   "outputs": [],
   "source": [
    "# from importlib import reload\n",
    "# import PlotTrackOfProcess\n",
    "# reload(PlotTrackOfProcess)\n",
    "# from PlotTrackOfProcess import PlotTrackOfProcess\n",
    "# track_tool.SetDataset(\n",
    "#     \"root://junoeos01.ihep.ac.cn//eos/juno/user/luoxj/Sim_DSNB/timing_constant_study/neutron_0_0_0_uniform_E/detsim/user-root/user-detsim-0.root\")\n",
    "# v_equen = track_tool.Get_v_Equen(filter_n_capture=True)\n",
    "#\n"
   ],
   "metadata": {
    "collapsed": false,
    "pycharm": {
     "name": "#%%\n",
     "is_executing": true
    }
   }
  },
  {
   "cell_type": "code",
   "execution_count": null,
   "outputs": [],
   "source": [
    "import jovian\n",
    "jovian.commit()"
   ],
   "metadata": {
    "collapsed": false,
    "pycharm": {
     "name": "#%%\n",
     "is_executing": true
    }
   }
  }
 ],
 "metadata": {
  "kernelspec": {
   "display_name": "Python 3",
   "language": "python",
   "name": "python3"
  },
  "language_info": {
   "codemirror_mode": {
    "name": "ipython",
    "version": 2
   },
   "file_extension": ".py",
   "mimetype": "text/x-python",
   "name": "python",
   "nbconvert_exporter": "python",
   "pygments_lexer": "ipython2",
   "version": "2.7.6"
  }
 },
 "nbformat": 4,
 "nbformat_minor": 0
}