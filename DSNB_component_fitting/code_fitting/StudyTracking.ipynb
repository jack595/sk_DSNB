{
 "cells": [
  {
   "cell_type": "code",
   "execution_count": 1,
   "metadata": {
    "collapsed": true
   },
   "outputs": [
    {
     "ename": "FileNotFoundError",
     "evalue": "file not found\n\n    '/afs/ihep.ac.cn/users/l/luoxj/ProtonDecayML/GenerateAtmNu_no_optical/detsim_user-81.root'\n\nFiles may be specified as:\n   * str/bytes: relative or absolute filesystem path or URL, without any colons\n         other than Windows drive letter or URL schema.\n         Examples: \"rel/file.root\", \"C:\\abs\\file.root\", \"http://where/what.root\"\n   * str/bytes: same with an object-within-ROOT path, separated by a colon.\n         Example: \"rel/file.root:tdirectory/ttree\"\n   * pathlib.Path: always interpreted as a filesystem path or URL only (no\n         object-within-ROOT path), regardless of whether there are any colons.\n         Examples: Path(\"rel:/file.root\"), Path(\"/abs/path:stuff.root\")\n\nFunctions that accept many files (uproot.iterate, etc.) also allow:\n   * glob syntax in str/bytes and pathlib.Path.\n         Examples: Path(\"rel/*.root\"), \"/abs/*.root:tdirectory/ttree\"\n   * dict: keys are filesystem paths, values are objects-within-ROOT paths.\n         Example: {\"/data_v1/*.root\": \"ttree_v1\", \"/data_v2/*.root\": \"ttree_v2\"}\n   * already-open TTree objects.\n   * iterables of the above.\n",
     "output_type": "error",
     "traceback": [
      "\u001B[0;31m---------------------------------------------------------------------------\u001B[0m",
      "\u001B[0;31mFileNotFoundError\u001B[0m                         Traceback (most recent call last)",
      "\u001B[0;32m~/junofs_500G/miniconda3/envs/tf/lib/python3.8/site-packages/uproot/source/file.py\u001B[0m in \u001B[0;36m__init__\u001B[0;34m(self, file_path, **options)\u001B[0m\n\u001B[1;32m    109\u001B[0m         \u001B[0;32mtry\u001B[0m\u001B[0;34m:\u001B[0m\u001B[0;34m\u001B[0m\u001B[0;34m\u001B[0m\u001B[0m\n\u001B[0;32m--> 110\u001B[0;31m             \u001B[0mself\u001B[0m\u001B[0;34m.\u001B[0m\u001B[0m_file\u001B[0m \u001B[0;34m=\u001B[0m \u001B[0mnumpy\u001B[0m\u001B[0;34m.\u001B[0m\u001B[0mmemmap\u001B[0m\u001B[0;34m(\u001B[0m\u001B[0mself\u001B[0m\u001B[0;34m.\u001B[0m\u001B[0m_file_path\u001B[0m\u001B[0;34m,\u001B[0m \u001B[0mdtype\u001B[0m\u001B[0;34m=\u001B[0m\u001B[0mself\u001B[0m\u001B[0;34m.\u001B[0m\u001B[0m_dtype\u001B[0m\u001B[0;34m,\u001B[0m \u001B[0mmode\u001B[0m\u001B[0;34m=\u001B[0m\u001B[0;34m\"r\"\u001B[0m\u001B[0;34m)\u001B[0m\u001B[0;34m\u001B[0m\u001B[0;34m\u001B[0m\u001B[0m\n\u001B[0m\u001B[1;32m    111\u001B[0m             \u001B[0mself\u001B[0m\u001B[0;34m.\u001B[0m\u001B[0m_fallback\u001B[0m \u001B[0;34m=\u001B[0m \u001B[0;32mNone\u001B[0m\u001B[0;34m\u001B[0m\u001B[0;34m\u001B[0m\u001B[0m\n",
      "\u001B[0;32m~/junofs_500G/miniconda3/envs/tf/lib/python3.8/site-packages/numpy/core/memmap.py\u001B[0m in \u001B[0;36m__new__\u001B[0;34m(subtype, filename, dtype, mode, offset, shape, order)\u001B[0m\n\u001B[1;32m    224\u001B[0m         \u001B[0;32melse\u001B[0m\u001B[0;34m:\u001B[0m\u001B[0;34m\u001B[0m\u001B[0;34m\u001B[0m\u001B[0m\n\u001B[0;32m--> 225\u001B[0;31m             \u001B[0mf_ctx\u001B[0m \u001B[0;34m=\u001B[0m \u001B[0mopen\u001B[0m\u001B[0;34m(\u001B[0m\u001B[0mos_fspath\u001B[0m\u001B[0;34m(\u001B[0m\u001B[0mfilename\u001B[0m\u001B[0;34m)\u001B[0m\u001B[0;34m,\u001B[0m \u001B[0;34m(\u001B[0m\u001B[0;34m'r'\u001B[0m \u001B[0;32mif\u001B[0m \u001B[0mmode\u001B[0m \u001B[0;34m==\u001B[0m \u001B[0;34m'c'\u001B[0m \u001B[0;32melse\u001B[0m \u001B[0mmode\u001B[0m\u001B[0;34m)\u001B[0m\u001B[0;34m+\u001B[0m\u001B[0;34m'b'\u001B[0m\u001B[0;34m)\u001B[0m\u001B[0;34m\u001B[0m\u001B[0;34m\u001B[0m\u001B[0m\n\u001B[0m\u001B[1;32m    226\u001B[0m \u001B[0;34m\u001B[0m\u001B[0m\n",
      "\u001B[0;31mFileNotFoundError\u001B[0m: [Errno 2] No such file or directory: '/afs/ihep.ac.cn/users/l/luoxj/ProtonDecayML/GenerateAtmNu_no_optical/detsim_user-81.root'",
      "\nDuring handling of the above exception, another exception occurred:\n",
      "\u001B[0;31mFileNotFoundError\u001B[0m                         Traceback (most recent call last)",
      "\u001B[0;32m~/junofs_500G/miniconda3/envs/tf/lib/python3.8/site-packages/uproot/source/file.py\u001B[0m in \u001B[0;36m__init__\u001B[0;34m(self, file_path)\u001B[0m\n\u001B[1;32m     36\u001B[0m         \u001B[0;32mtry\u001B[0m\u001B[0;34m:\u001B[0m\u001B[0;34m\u001B[0m\u001B[0;34m\u001B[0m\u001B[0m\n\u001B[0;32m---> 37\u001B[0;31m             \u001B[0mself\u001B[0m\u001B[0;34m.\u001B[0m\u001B[0m_file\u001B[0m \u001B[0;34m=\u001B[0m \u001B[0mopen\u001B[0m\u001B[0;34m(\u001B[0m\u001B[0mself\u001B[0m\u001B[0;34m.\u001B[0m\u001B[0m_file_path\u001B[0m\u001B[0;34m,\u001B[0m \u001B[0;34m\"rb\"\u001B[0m\u001B[0;34m)\u001B[0m\u001B[0;34m\u001B[0m\u001B[0;34m\u001B[0m\u001B[0m\n\u001B[0m\u001B[1;32m     38\u001B[0m         \u001B[0;32mexcept\u001B[0m \u001B[0muproot\u001B[0m\u001B[0;34m.\u001B[0m\u001B[0m_util\u001B[0m\u001B[0;34m.\u001B[0m\u001B[0m_FileNotFoundError\u001B[0m\u001B[0;34m:\u001B[0m\u001B[0;34m\u001B[0m\u001B[0;34m\u001B[0m\u001B[0m\n",
      "\u001B[0;31mFileNotFoundError\u001B[0m: [Errno 2] No such file or directory: '/afs/ihep.ac.cn/users/l/luoxj/ProtonDecayML/GenerateAtmNu_no_optical/detsim_user-81.root'",
      "\nDuring handling of the above exception, another exception occurred:\n",
      "\u001B[0;31mFileNotFoundError\u001B[0m                         Traceback (most recent call last)",
      "\u001B[0;32m<ipython-input-1-d27023505e6e>\u001B[0m in \u001B[0;36m<module>\u001B[0;34m\u001B[0m\n\u001B[1;32m      6\u001B[0m \u001B[0mget_ipython\u001B[0m\u001B[0;34m(\u001B[0m\u001B[0;34m)\u001B[0m\u001B[0;34m.\u001B[0m\u001B[0mrun_line_magic\u001B[0m\u001B[0;34m(\u001B[0m\u001B[0;34m'config'\u001B[0m\u001B[0;34m,\u001B[0m \u001B[0;34m\"InlineBackend.figure_format = 'svg'\"\u001B[0m\u001B[0;34m)\u001B[0m\u001B[0;34m\u001B[0m\u001B[0;34m\u001B[0m\u001B[0m\n\u001B[1;32m      7\u001B[0m \u001B[0;31m# f = up.open(\"/afs/ihep.ac.cn/users/l/luoxj/sk_psd/AddFastN/debug_deposit/user-detsim-20001.root\")\u001B[0m\u001B[0;34m\u001B[0m\u001B[0;34m\u001B[0m\u001B[0;34m\u001B[0m\u001B[0m\n\u001B[0;32m----> 8\u001B[0;31m \u001B[0mf\u001B[0m \u001B[0;34m=\u001B[0m \u001B[0mup\u001B[0m\u001B[0;34m.\u001B[0m\u001B[0mopen\u001B[0m\u001B[0;34m(\u001B[0m\u001B[0;34m\"/afs/ihep.ac.cn/users/l/luoxj/ProtonDecayML/GenerateAtmNu_no_optical/detsim_user-81.root\"\u001B[0m\u001B[0;34m)\u001B[0m\u001B[0;34m\u001B[0m\u001B[0;34m\u001B[0m\u001B[0m\n\u001B[0m\u001B[1;32m      9\u001B[0m \u001B[0;34m\u001B[0m\u001B[0m\n\u001B[1;32m     10\u001B[0m \u001B[0mtree_track\u001B[0m \u001B[0;34m=\u001B[0m \u001B[0mf\u001B[0m\u001B[0;34m[\u001B[0m\u001B[0;34m\"mu_tracking\"\u001B[0m\u001B[0;34m]\u001B[0m\u001B[0;34m\u001B[0m\u001B[0;34m\u001B[0m\u001B[0m\n",
      "\u001B[0;32m~/junofs_500G/miniconda3/envs/tf/lib/python3.8/site-packages/uproot/reading.py\u001B[0m in \u001B[0;36mopen\u001B[0;34m(path, object_cache, array_cache, custom_classes, decompression_executor, interpretation_executor, **options)\u001B[0m\n\u001B[1;32m    137\u001B[0m         )\n\u001B[1;32m    138\u001B[0m \u001B[0;34m\u001B[0m\u001B[0m\n\u001B[0;32m--> 139\u001B[0;31m     file = ReadOnlyFile(\n\u001B[0m\u001B[1;32m    140\u001B[0m         \u001B[0mfile_path\u001B[0m\u001B[0;34m,\u001B[0m\u001B[0;34m\u001B[0m\u001B[0;34m\u001B[0m\u001B[0m\n\u001B[1;32m    141\u001B[0m         \u001B[0mobject_cache\u001B[0m\u001B[0;34m=\u001B[0m\u001B[0mobject_cache\u001B[0m\u001B[0;34m,\u001B[0m\u001B[0;34m\u001B[0m\u001B[0;34m\u001B[0m\u001B[0m\n",
      "\u001B[0;32m~/junofs_500G/miniconda3/envs/tf/lib/python3.8/site-packages/uproot/reading.py\u001B[0m in \u001B[0;36m__init__\u001B[0;34m(self, file_path, object_cache, array_cache, custom_classes, decompression_executor, interpretation_executor, **options)\u001B[0m\n\u001B[1;32m    551\u001B[0m             \u001B[0mfile_path\u001B[0m\u001B[0;34m,\u001B[0m \u001B[0mself\u001B[0m\u001B[0;34m.\u001B[0m\u001B[0m_options\u001B[0m\u001B[0;34m\u001B[0m\u001B[0;34m\u001B[0m\u001B[0m\n\u001B[1;32m    552\u001B[0m         )\n\u001B[0;32m--> 553\u001B[0;31m         self._source = Source(\n\u001B[0m\u001B[1;32m    554\u001B[0m             \u001B[0mfile_path\u001B[0m\u001B[0;34m,\u001B[0m \u001B[0;34m**\u001B[0m\u001B[0mself\u001B[0m\u001B[0;34m.\u001B[0m\u001B[0m_options\u001B[0m  \u001B[0;31m# NOTE: a comma after **options breaks Python 2\u001B[0m\u001B[0;34m\u001B[0m\u001B[0;34m\u001B[0m\u001B[0m\n\u001B[1;32m    555\u001B[0m         )\n",
      "\u001B[0;32m~/junofs_500G/miniconda3/envs/tf/lib/python3.8/site-packages/uproot/source/file.py\u001B[0m in \u001B[0;36m__init__\u001B[0;34m(self, file_path, **options)\u001B[0m\n\u001B[1;32m    114\u001B[0m             \u001B[0mopts\u001B[0m \u001B[0;34m=\u001B[0m \u001B[0mdict\u001B[0m\u001B[0;34m(\u001B[0m\u001B[0moptions\u001B[0m\u001B[0;34m)\u001B[0m\u001B[0;34m\u001B[0m\u001B[0;34m\u001B[0m\u001B[0m\n\u001B[1;32m    115\u001B[0m             \u001B[0mopts\u001B[0m\u001B[0;34m[\u001B[0m\u001B[0;34m\"num_workers\"\u001B[0m\u001B[0;34m]\u001B[0m \u001B[0;34m=\u001B[0m \u001B[0mnum_fallback_workers\u001B[0m\u001B[0;34m\u001B[0m\u001B[0;34m\u001B[0m\u001B[0m\n\u001B[0;32m--> 116\u001B[0;31m             self._fallback = uproot.source.file.MultithreadedFileSource(\n\u001B[0m\u001B[1;32m    117\u001B[0m                 \u001B[0mfile_path\u001B[0m\u001B[0;34m,\u001B[0m \u001B[0;34m**\u001B[0m\u001B[0mopts\u001B[0m  \u001B[0;31m# NOTE: a comma after **opts breaks Python 2\u001B[0m\u001B[0;34m\u001B[0m\u001B[0;34m\u001B[0m\u001B[0m\n\u001B[1;32m    118\u001B[0m             )\n",
      "\u001B[0;32m~/junofs_500G/miniconda3/envs/tf/lib/python3.8/site-packages/uproot/source/file.py\u001B[0m in \u001B[0;36m__init__\u001B[0;34m(self, file_path, **options)\u001B[0m\n\u001B[1;32m    244\u001B[0m         \u001B[0mself\u001B[0m\u001B[0;34m.\u001B[0m\u001B[0m_file_path\u001B[0m \u001B[0;34m=\u001B[0m \u001B[0mfile_path\u001B[0m\u001B[0;34m\u001B[0m\u001B[0;34m\u001B[0m\u001B[0m\n\u001B[1;32m    245\u001B[0m         self._executor = uproot.source.futures.ResourceThreadPoolExecutor(\n\u001B[0;32m--> 246\u001B[0;31m             \u001B[0;34m[\u001B[0m\u001B[0mFileResource\u001B[0m\u001B[0;34m(\u001B[0m\u001B[0mfile_path\u001B[0m\u001B[0;34m)\u001B[0m \u001B[0;32mfor\u001B[0m \u001B[0mx\u001B[0m \u001B[0;32min\u001B[0m \u001B[0muproot\u001B[0m\u001B[0;34m.\u001B[0m\u001B[0m_util\u001B[0m\u001B[0;34m.\u001B[0m\u001B[0mrange\u001B[0m\u001B[0;34m(\u001B[0m\u001B[0mnum_workers\u001B[0m\u001B[0;34m)\u001B[0m\u001B[0;34m]\u001B[0m\u001B[0;34m\u001B[0m\u001B[0;34m\u001B[0m\u001B[0m\n\u001B[0m\u001B[1;32m    247\u001B[0m         )\n\u001B[1;32m    248\u001B[0m         \u001B[0mself\u001B[0m\u001B[0;34m.\u001B[0m\u001B[0m_num_bytes\u001B[0m \u001B[0;34m=\u001B[0m \u001B[0mos\u001B[0m\u001B[0;34m.\u001B[0m\u001B[0mpath\u001B[0m\u001B[0;34m.\u001B[0m\u001B[0mgetsize\u001B[0m\u001B[0;34m(\u001B[0m\u001B[0mself\u001B[0m\u001B[0;34m.\u001B[0m\u001B[0m_file_path\u001B[0m\u001B[0;34m)\u001B[0m\u001B[0;34m\u001B[0m\u001B[0;34m\u001B[0m\u001B[0m\n",
      "\u001B[0;32m~/junofs_500G/miniconda3/envs/tf/lib/python3.8/site-packages/uproot/source/file.py\u001B[0m in \u001B[0;36m<listcomp>\u001B[0;34m(.0)\u001B[0m\n\u001B[1;32m    244\u001B[0m         \u001B[0mself\u001B[0m\u001B[0;34m.\u001B[0m\u001B[0m_file_path\u001B[0m \u001B[0;34m=\u001B[0m \u001B[0mfile_path\u001B[0m\u001B[0;34m\u001B[0m\u001B[0;34m\u001B[0m\u001B[0m\n\u001B[1;32m    245\u001B[0m         self._executor = uproot.source.futures.ResourceThreadPoolExecutor(\n\u001B[0;32m--> 246\u001B[0;31m             \u001B[0;34m[\u001B[0m\u001B[0mFileResource\u001B[0m\u001B[0;34m(\u001B[0m\u001B[0mfile_path\u001B[0m\u001B[0;34m)\u001B[0m \u001B[0;32mfor\u001B[0m \u001B[0mx\u001B[0m \u001B[0;32min\u001B[0m \u001B[0muproot\u001B[0m\u001B[0;34m.\u001B[0m\u001B[0m_util\u001B[0m\u001B[0;34m.\u001B[0m\u001B[0mrange\u001B[0m\u001B[0;34m(\u001B[0m\u001B[0mnum_workers\u001B[0m\u001B[0;34m)\u001B[0m\u001B[0;34m]\u001B[0m\u001B[0;34m\u001B[0m\u001B[0;34m\u001B[0m\u001B[0m\n\u001B[0m\u001B[1;32m    247\u001B[0m         )\n\u001B[1;32m    248\u001B[0m         \u001B[0mself\u001B[0m\u001B[0;34m.\u001B[0m\u001B[0m_num_bytes\u001B[0m \u001B[0;34m=\u001B[0m \u001B[0mos\u001B[0m\u001B[0;34m.\u001B[0m\u001B[0mpath\u001B[0m\u001B[0;34m.\u001B[0m\u001B[0mgetsize\u001B[0m\u001B[0;34m(\u001B[0m\u001B[0mself\u001B[0m\u001B[0;34m.\u001B[0m\u001B[0m_file_path\u001B[0m\u001B[0;34m)\u001B[0m\u001B[0;34m\u001B[0m\u001B[0;34m\u001B[0m\u001B[0m\n",
      "\u001B[0;32m~/junofs_500G/miniconda3/envs/tf/lib/python3.8/site-packages/uproot/source/file.py\u001B[0m in \u001B[0;36m__init__\u001B[0;34m(self, file_path)\u001B[0m\n\u001B[1;32m     37\u001B[0m             \u001B[0mself\u001B[0m\u001B[0;34m.\u001B[0m\u001B[0m_file\u001B[0m \u001B[0;34m=\u001B[0m \u001B[0mopen\u001B[0m\u001B[0;34m(\u001B[0m\u001B[0mself\u001B[0m\u001B[0;34m.\u001B[0m\u001B[0m_file_path\u001B[0m\u001B[0;34m,\u001B[0m \u001B[0;34m\"rb\"\u001B[0m\u001B[0;34m)\u001B[0m\u001B[0;34m\u001B[0m\u001B[0;34m\u001B[0m\u001B[0m\n\u001B[1;32m     38\u001B[0m         \u001B[0;32mexcept\u001B[0m \u001B[0muproot\u001B[0m\u001B[0;34m.\u001B[0m\u001B[0m_util\u001B[0m\u001B[0;34m.\u001B[0m\u001B[0m_FileNotFoundError\u001B[0m\u001B[0;34m:\u001B[0m\u001B[0;34m\u001B[0m\u001B[0;34m\u001B[0m\u001B[0m\n\u001B[0;32m---> 39\u001B[0;31m             \u001B[0;32mraise\u001B[0m \u001B[0muproot\u001B[0m\u001B[0;34m.\u001B[0m\u001B[0m_util\u001B[0m\u001B[0;34m.\u001B[0m\u001B[0m_file_not_found\u001B[0m\u001B[0;34m(\u001B[0m\u001B[0mfile_path\u001B[0m\u001B[0;34m)\u001B[0m\u001B[0;34m\u001B[0m\u001B[0;34m\u001B[0m\u001B[0m\n\u001B[0m\u001B[1;32m     40\u001B[0m \u001B[0;34m\u001B[0m\u001B[0m\n\u001B[1;32m     41\u001B[0m     \u001B[0;34m@\u001B[0m\u001B[0mproperty\u001B[0m\u001B[0;34m\u001B[0m\u001B[0;34m\u001B[0m\u001B[0m\n",
      "\u001B[0;31mFileNotFoundError\u001B[0m: file not found\n\n    '/afs/ihep.ac.cn/users/l/luoxj/ProtonDecayML/GenerateAtmNu_no_optical/detsim_user-81.root'\n\nFiles may be specified as:\n   * str/bytes: relative or absolute filesystem path or URL, without any colons\n         other than Windows drive letter or URL schema.\n         Examples: \"rel/file.root\", \"C:\\abs\\file.root\", \"http://where/what.root\"\n   * str/bytes: same with an object-within-ROOT path, separated by a colon.\n         Example: \"rel/file.root:tdirectory/ttree\"\n   * pathlib.Path: always interpreted as a filesystem path or URL only (no\n         object-within-ROOT path), regardless of whether there are any colons.\n         Examples: Path(\"rel:/file.root\"), Path(\"/abs/path:stuff.root\")\n\nFunctions that accept many files (uproot.iterate, etc.) also allow:\n   * glob syntax in str/bytes and pathlib.Path.\n         Examples: Path(\"rel/*.root\"), \"/abs/*.root:tdirectory/ttree\"\n   * dict: keys are filesystem paths, values are objects-within-ROOT paths.\n         Example: {\"/data_v1/*.root\": \"ttree_v1\", \"/data_v2/*.root\": \"ttree_v2\"}\n   * already-open TTree objects.\n   * iterables of the above.\n"
     ]
    }
   ],
   "source": [
    "import matplotlib.pylab as plt\n",
    "import matplotlib.cm as cm\n",
    "import numpy as np\n",
    "import uproot as up\n",
    "plt.style.use(\"/afs/ihep.ac.cn/users/l/luoxj/Style/Paper.mplstyle\")\n",
    "%config InlineBackend.figure_format = 'svg'\n",
    "# f = up.open(\"/afs/ihep.ac.cn/users/l/luoxj/sk_psd/AddFastN/debug_deposit/user-detsim-20001.root\")\n",
    "f = up.open(\"/afs/ihep.ac.cn/users/l/luoxj/ProtonDecayML/GenerateAtmNu_no_optical/detsim_user-81.root\")\n",
    "\n",
    "tree_track = f[\"mu_tracking\"]"
   ]
  },
  {
   "cell_type": "code",
   "execution_count": null,
   "outputs": [],
   "source": [
    "print(tree_track.keys())\n",
    "dir_tracks = {}\n",
    "for key in tree_track.keys():\n",
    "    dir_tracks[key] = np.array(tree_track[key])\n",
    "# evtID = np.array(tree_track[\"evtID\"  ])\n",
    "# v_x   = np.array(tree_track[\"Mu_Posx\"])\n",
    "# v_y   = np.array(tree_track[\"Mu_Posy\"])\n",
    "# v_z   = np.array(tree_track[\"Mu_Posz\"])\n",
    "# v_px  = np.array(tree_track[\"Mu_Px\"])\n",
    "# v_py  = np.array(tree_track[\"Mu_Py\"])\n",
    "# v_pz  = np.array(tree_track[\"Mu_Pz\"])"
   ],
   "metadata": {
    "collapsed": false,
    "pycharm": {
     "name": "#%%\n"
    }
   }
  },
  {
   "cell_type": "code",
   "execution_count": null,
   "outputs": [],
   "source": [
    "# %matplotlib qt\n",
    "\n",
    "from matplotlib.backends.backend_pdf import PdfPages\n",
    "set_evtID = set(dir_tracks[\"evtID\"])\n",
    "# for evtID_plot in set_evtID:\n",
    "with PdfPages(\"temp.pdf\") as pdf:\n",
    "    for evtID_plot in range(0, 3):\n",
    "        fig = plt.figure()\n",
    "        ax = fig.add_subplot(111, projection=\"3d\")\n",
    "        index_evtID_plot = (dir_tracks[\"evtID\"]==evtID_plot)\n",
    "        # print(dir_tracks[\"Mu_Posx\"][index_evtID_plot])\n",
    "        for i in range(len(dir_tracks[\"Mu_Posx\"][index_evtID_plot])):\n",
    "            pdg = dir_tracks[\"pdgID\"][index_evtID_plot][i]\n",
    "            list_continue_pdg = [12, -12, 14, -14]\n",
    "            if pdg in list_continue_pdg:\n",
    "                continue\n",
    "            color = next(ax._get_lines.prop_cycler)['color']\n",
    "            one_track_x = dir_tracks[\"Mu_Posx\"][index_evtID_plot][i]\n",
    "            one_track_y = dir_tracks[\"Mu_Posy\"][index_evtID_plot][i]\n",
    "            one_track_z = dir_tracks[\"Mu_Posz\"][index_evtID_plot][i]\n",
    "            one_track_px= dir_tracks[\"Mu_Px\"][index_evtID_plot][i]\n",
    "            one_track_py= dir_tracks[\"Mu_Py\"][index_evtID_plot][i]\n",
    "            one_track_pz= dir_tracks[\"Mu_Pz\"][index_evtID_plot][i]\n",
    "            # color = cm.nipy_spectral( float(i) / len(one_track_x))\n",
    "            l_track = ( (one_track_x[0]-one_track_x[-1])**2 +\n",
    "                        (one_track_y[0]-one_track_y[-1])**2 +\n",
    "                        (one_track_z[0]-one_track_z[-1])**2) **0.5\n",
    "            if l_track > 100:\n",
    "                p = (one_track_px[0]**2+one_track_py[0]**2+one_track_pz[0]**2)**0.5\n",
    "                line = ax.plot(one_track_x, one_track_y, one_track_z, color=color)\n",
    "                ax.quiver(one_track_x, one_track_y, one_track_z,\n",
    "                          one_track_px, one_track_py, one_track_pz,\n",
    "                          color=color, ls=\"--\", linewidth=2)\n",
    "                # add_arrow(line, color=color)\n",
    "                index_middle = int(len(one_track_x)/2)\n",
    "                ax.text(one_track_x[index_middle], one_track_y[index_middle], one_track_z[index_middle],\n",
    "                        pdg, color=color)\n",
    "                # ax.text(one_track_x[index_middle], one_track_y[index_middle], one_track_z[index_middle]-200,\"{:.1f}MeV\".format(p),color=color)\n",
    "                # if pdg == 22:\n",
    "                #     print((one_track_px[0]**2+one_track_py[0]**2+one_track_pz[0]**2)**0.5)\n",
    "        pdf.savefig(fig)\n",
    "        # plt.close()\n",
    "\n",
    "\n"
   ],
   "metadata": {
    "collapsed": false,
    "pycharm": {
     "name": "#%%\n"
    }
   }
  },
  {
   "cell_type": "code",
   "execution_count": null,
   "outputs": [],
   "source": [
    "\n",
    "import jovian\n",
    "jovian.commit()"
   ],
   "metadata": {
    "collapsed": false,
    "pycharm": {
     "name": "#%%\n"
    }
   }
  }
 ],
 "metadata": {
  "kernelspec": {
   "display_name": "Python 3",
   "language": "python",
   "name": "python3"
  },
  "language_info": {
   "codemirror_mode": {
    "name": "ipython",
    "version": 2
   },
   "file_extension": ".py",
   "mimetype": "text/x-python",
   "name": "python",
   "nbconvert_exporter": "python",
   "pygments_lexer": "ipython2",
   "version": "2.7.6"
  }
 },
 "nbformat": 4,
 "nbformat_minor": 0
}