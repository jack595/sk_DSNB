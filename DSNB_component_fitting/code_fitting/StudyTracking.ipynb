{
 "cells": [
  {
   "cell_type": "code",
   "execution_count": 37,
   "metadata": {
    "collapsed": true
   },
   "outputs": [],
   "source": [
    "import matplotlib.pylab as plt\n",
    "import matplotlib.cm as cm\n",
    "import numpy as np\n",
    "import uproot as up\n",
    "plt.style.use(\"/afs/ihep.ac.cn/users/l/luoxj/Style/Paper.mplstyle\")\n",
    "%config InlineBackend.figure_format = 'svg'\n",
    "# f = up.open(\"/afs/ihep.ac.cn/users/l/luoxj/sk_psd/AddFastN/debug_deposit/user-detsim-20001.root\")\n",
    "f = up.open(\"/afs/ihep.ac.cn/users/l/luoxj/ProtonDecayML/GenerateAtmNu_no_optical/detsim_user-81.root\")\n",
    "\n",
    "tree_track = f[\"mu_tracking\"]"
   ]
  },
  {
   "cell_type": "code",
   "execution_count": 38,
   "outputs": [
    {
     "name": "stdout",
     "output_type": "stream",
     "text": [
      "['evtID', 'pdgID', 'MuTrackID', 'MuParentID', 'Mu_Posx', 'Mu_Posy', 'Mu_Posz', 'Mu_Px', 'Mu_Py', 'Mu_Pz']\n"
     ]
    }
   ],
   "source": [
    "print(tree_track.keys())\n",
    "dir_tracks = {}\n",
    "for key in tree_track.keys():\n",
    "    dir_tracks[key] = np.array(tree_track[key])\n",
    "# evtID = np.array(tree_track[\"evtID\"  ])\n",
    "# v_x   = np.array(tree_track[\"Mu_Posx\"])\n",
    "# v_y   = np.array(tree_track[\"Mu_Posy\"])\n",
    "# v_z   = np.array(tree_track[\"Mu_Posz\"])\n",
    "# v_px  = np.array(tree_track[\"Mu_Px\"])\n",
    "# v_py  = np.array(tree_track[\"Mu_Py\"])\n",
    "# v_pz  = np.array(tree_track[\"Mu_Pz\"])"
   ],
   "metadata": {
    "collapsed": false,
    "pycharm": {
     "name": "#%%\n"
    }
   }
  },
  {
   "cell_type": "code",
   "execution_count": 43,
   "outputs": [],
   "source": [
    "# %matplotlib qt\n",
    "\n",
    "from matplotlib.backends.backend_pdf import PdfPages\n",
    "set_evtID = set(dir_tracks[\"evtID\"])\n",
    "# for evtID_plot in set_evtID:\n",
    "with PdfPages(\"temp.pdf\") as pdf:\n",
    "    for evtID_plot in range(0, 3):\n",
    "        fig = plt.figure()\n",
    "        ax = fig.add_subplot(111, projection=\"3d\")\n",
    "        index_evtID_plot = (dir_tracks[\"evtID\"]==evtID_plot)\n",
    "        # print(dir_tracks[\"Mu_Posx\"][index_evtID_plot])\n",
    "        for i in range(len(dir_tracks[\"Mu_Posx\"][index_evtID_plot])):\n",
    "            pdg = dir_tracks[\"pdgID\"][index_evtID_plot][i]\n",
    "            list_continue_pdg = [12, -12, 14, -14]\n",
    "            if pdg in list_continue_pdg:\n",
    "                continue\n",
    "            color = next(ax._get_lines.prop_cycler)['color']\n",
    "            one_track_x = dir_tracks[\"Mu_Posx\"][index_evtID_plot][i]\n",
    "            one_track_y = dir_tracks[\"Mu_Posy\"][index_evtID_plot][i]\n",
    "            one_track_z = dir_tracks[\"Mu_Posz\"][index_evtID_plot][i]\n",
    "            one_track_px= dir_tracks[\"Mu_Px\"][index_evtID_plot][i]\n",
    "            one_track_py= dir_tracks[\"Mu_Py\"][index_evtID_plot][i]\n",
    "            one_track_pz= dir_tracks[\"Mu_Pz\"][index_evtID_plot][i]\n",
    "            # color = cm.nipy_spectral( float(i) / len(one_track_x))\n",
    "            l_track = ( (one_track_x[0]-one_track_x[-1])**2 +\n",
    "                        (one_track_y[0]-one_track_y[-1])**2 +\n",
    "                        (one_track_z[0]-one_track_z[-1])**2) **0.5\n",
    "            if l_track > 100:\n",
    "                p = (one_track_px[0]**2+one_track_py[0]**2+one_track_pz[0]**2)**0.5\n",
    "                line = ax.plot(one_track_x, one_track_y, one_track_z, color=color)\n",
    "                ax.quiver(one_track_x, one_track_y, one_track_z,\n",
    "                          one_track_px, one_track_py, one_track_pz,\n",
    "                          color=color, ls=\"--\", linewidth=2)\n",
    "                # add_arrow(line, color=color)\n",
    "                index_middle = int(len(one_track_x)/2)\n",
    "                ax.text(one_track_x[index_middle], one_track_y[index_middle], one_track_z[index_middle],\n",
    "                        pdg, color=color)\n",
    "                # ax.text(one_track_x[index_middle], one_track_y[index_middle], one_track_z[index_middle]-200,\"{:.1f}MeV\".format(p),color=color)\n",
    "                # if pdg == 22:\n",
    "                #     print((one_track_px[0]**2+one_track_py[0]**2+one_track_pz[0]**2)**0.5)\n",
    "        pdf.savefig(fig)\n",
    "        # plt.close()\n",
    "\n",
    "\n",
    "\n"
   ],
   "metadata": {
    "collapsed": false,
    "pycharm": {
     "name": "#%%\n"
    }
   }
  }
 ],
 "metadata": {
  "kernelspec": {
   "display_name": "Python 3",
   "language": "python",
   "name": "python3"
  },
  "language_info": {
   "codemirror_mode": {
    "name": "ipython",
    "version": 2
   },
   "file_extension": ".py",
   "mimetype": "text/x-python",
   "name": "python",
   "nbconvert_exporter": "python",
   "pygments_lexer": "ipython2",
   "version": "2.7.6"
  }
 },
 "nbformat": 4,
 "nbformat_minor": 0
}