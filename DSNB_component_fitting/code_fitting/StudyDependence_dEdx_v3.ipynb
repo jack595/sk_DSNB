{
 "cells": [
  {
   "cell_type": "code",
   "execution_count": 5,
   "metadata": {
    "collapsed": true
   },
   "outputs": [
    {
     "name": "stdout",
     "output_type": "stream",
     "text": [
      "Loaded Data Keys:\t dict_keys(['equen', 'edep', 'pdg', 'init_p', 'vertex', 'pdg_pdgdep', 'equen_pdgdep', 'edep_pdgdep', 'PSD', 'h_time', 'PSD_with_charge', 'h_time_with_charge', 'name_file_source', 'entry_source', 'h_time_truth', 'h_time_with_charge_truth', 'lepton_ratio', 'PSD_combine'])\n",
      "Loaded Data Keys:\t dict_keys(['equen', 'edep', 'pdg', 'init_p', 'vertex', 'pdg_pdgdep', 'equen_pdgdep', 'edep_pdgdep', 'PSD', 'h_time', 'PSD_with_charge', 'h_time_with_charge', 'name_file_source', 'entry_source', 'h_time_truth', 'h_time_with_charge_truth', 'lepton_ratio', 'PSD_combine'])\n"
     ]
    }
   ],
   "source": [
    "import matplotlib.pylab as plt\n",
    "import numpy as np\n",
    "plt.style.use(\"/afs/ihep.ac.cn/users/l/luoxj/Style/Paper.mplstyle\")\n",
    "%config InlineBackend.figure_format = 'svg'\n",
    "\n",
    "import sys\n",
    "sys.path.append(\"/afs/ihep.ac.cn/users/l/luoxj/root_tool/python_script/\")\n",
    "from LoadMultiFiles import  LoadMultiFiles\n",
    "dir_evts_proton = LoadMultiFiles(\"/afs/ihep.ac.cn/users/l/luoxj/sk_psd/predict_withpdgdep_proton_0_0_0/predict_*.npz\")\n",
    "dir_evts_gamma = LoadMultiFiles(\"/afs/ihep.ac.cn/users/l/luoxj/sk_psd/predict_withpdgdep_gamma_0_0_0/predict_*.npz\")\n",
    "dir_evts_diff_particles = {\"gamma\":dir_evts_gamma, \"proton\":dir_evts_proton}"
   ]
  },
  {
   "cell_type": "code",
   "execution_count": 6,
   "outputs": [],
   "source": [
    "from importlib import reload\n",
    "import PlotTrackOfProcess\n",
    "reload(PlotTrackOfProcess)\n",
    "from PlotTrackOfProcess import PlotTrackOfProcess\n",
    "track_tool = PlotTrackOfProcess()"
   ],
   "metadata": {
    "collapsed": false,
    "pycharm": {
     "name": "#%%\n"
    }
   }
  },
  {
   "cell_type": "code",
   "execution_count": 7,
   "outputs": [],
   "source": [
    "# from copy import copy\n",
    "# for particle in [\"proton\", \"e+\", \"neutron\"]:\n",
    "#     dir_diff_particles = {}\n",
    "#     dir_diff_particles_equen = {}\n",
    "#     plt.figure()\n",
    "#     for energy in range(2, 62,10):\n",
    "#         dir_diff_energy = {}\n",
    "#         dir_diff_energy_equen = {}\n",
    "#     # for energy in range(2, 82,20):\n",
    "#     # for energy in [2]:\n",
    "#         # track_tool.SetDataset(dir_evts_proton[\"name_file_source\"][i])\n",
    "#         track_tool.SetDataset(f\"root://junoeos01.ihep.ac.cn//eos/juno/user/luoxj/Sim_DSNB/{particle}_0_0_0/detsim-no-optical/user-root/user-detsim-{energy}.root\")\n",
    "#         # dir_dE_dx_by_calculating = track_tool.Get_dE_dx_ByCalculating(dir_evts_proton[\"entry_source\"][i])\n",
    "#\n",
    "#\n",
    "#         # plt.figure()\n",
    "#         # for key, dE_dx in dir_dE_dx_by_calculating.items():\n",
    "#             # plt.hist(dE_dx[:-1], histtype=\"step\",bins=50, label=key)\n",
    "#             # plt.xlabel(\"dE/dx [ MeV/mm ]\")\n",
    "#             # print(\"By Calculating:\\t\",key,dE_dx)\n",
    "#         # plt.legend()\n",
    "#         # for j in range(1,3):\n",
    "#         for j in [1]:\n",
    "#             # track_tool.PlotTrackWithEntrySource(j, debug=True,\n",
    "#             #                                     brief_show=False, show_p_direction=False)\n",
    "#             # plt.figure()\n",
    "#             dir_dE_dx = track_tool.Get_dE_dx_ByLoading(j)\n",
    "#             v_dE_dx_total = np.array([])\n",
    "#             for key, v_dE_dx in dir_dE_dx.items():\n",
    "#                 if int(key.split('_')[0])>1000000000:\n",
    "#                     continue\n",
    "#                 # print(\"By Loading:\\t\",key, v_dE_dx)\n",
    "#                 v_dE_dx_total = np.concatenate((v_dE_dx_total,v_dE_dx))\n",
    "#                 # plt.hist(v_dE_dx, bins=50,histtype=\"step\", label=key)\n",
    "#                 # plt.xlabel(\"dE/dx [ MeV/mm ]\")\n",
    "#             # plt.legend()\n",
    "#             # plt.title(f\"Edep={energy} MeV, entry={j} \")\n",
    "#             v_dE_dx_total = np.array(v_dE_dx_total)\n",
    "#             dir_diff_energy[energy] = copy(v_dE_dx_total)\n",
    "#             plt.hist(v_dE_dx_total, bins=np.linspace(0,80,80),density=True, histtype=\"step\", label=f\"Edep={energy} MeV,Equen={track_tool.GetEquen(j):.2f} MeV\")\n",
    "#\n",
    "#             dir_diff_energy_equen = track_tool.GetEquen(j)\n",
    "#\n",
    "#         dir_diff_particles[particle] = copy(dir_diff_energy)\n",
    "#         dir_diff_particles_equen[particle] = copy(dir_diff_energy_equen)\n",
    "#\n",
    "#     plt.title(f\"{particle} dE/dx with entry=0\")\n",
    "#     plt.xlabel(\"dE/dx [ MeV/mm ]\")\n",
    "#     plt.semilogy()\n",
    "#     plt.legend()"
   ],
   "metadata": {
    "collapsed": false,
    "pycharm": {
     "name": "#%%\n"
    }
   }
  },
  {
   "cell_type": "code",
   "execution_count": 8,
   "outputs": [],
   "source": [
    "# print(dir_diff_particles)"
   ],
   "metadata": {
    "collapsed": false,
    "pycharm": {
     "name": "#%%\n"
    }
   }
  },
  {
   "cell_type": "code",
   "execution_count": 10,
   "outputs": [
    {
     "name": "stderr",
     "output_type": "stream",
     "text": [
      "  0%|          | 0/10 [00:00<?, ?it/s]/afs/ihep.ac.cn/users/l/luoxj/root_tool/python_script/PlotTrackOfProcess.py:231: RuntimeWarning: invalid value encountered in true_divide\n",
      "  one_track_dE_dx = np.nan_to_num(one_track_dE/one_track_dx)\n",
      " 60%|██████    | 6/10 [00:03<00:02,  1.53it/s]/afs/ihep.ac.cn/users/l/luoxj/root_tool/python_script/PlotTrackOfProcess.py:231: RuntimeWarning: divide by zero encountered in true_divide\n",
      "  one_track_dE_dx = np.nan_to_num(one_track_dE/one_track_dx)\n",
      "100%|██████████| 10/10 [00:17<00:00,  1.80s/it]\n",
      "100%|██████████| 10/10 [13:50<00:00, 83.06s/it] \n",
      "100%|██████████| 10/10 [05:10<00:00, 31.01s/it]\n"
     ]
    }
   ],
   "source": [
    "from importlib import reload\n",
    "import PlotTrackOfProcess\n",
    "reload(PlotTrackOfProcess)\n",
    "from PlotTrackOfProcess import PlotTrackOfProcess\n",
    "track_tool = PlotTrackOfProcess()\n",
    "from copy import copy\n",
    "import tqdm\n",
    "dir_v_average_dE_dx_diff_particle = {}\n",
    "dir_equen_diff_particle = {}\n",
    "for particle in [\"proton\", \"e+\", \"neutron\"]:\n",
    "    dir_equen_diff_energy = {}\n",
    "    dir_v_average_dE_dx = {}\n",
    "    for energy in tqdm.trange(2, 102,10):\n",
    "        v_equen = []\n",
    "        track_tool.SetDataset(f\"root://junoeos01.ihep.ac.cn//eos/juno/user/luoxj/Sim_DSNB/{particle}_0_0_0/detsim-no-optical/user-root/user-detsim-{energy}.root\")\n",
    "        v_average_dE_dx = []\n",
    "        for j in range(1000):\n",
    "        # for j in [0]:\n",
    "            (v_dE_dx, v_dE) = track_tool.Get_dE_dx_ByLoading(j)\n",
    "            v_equen.append(track_tool.GetEquen(j))\n",
    "            # if j ==0 :\n",
    "            v_average_dE_dx.append(np.sum(v_dE_dx*v_dE)/np.sum(v_dE))\n",
    "        dir_v_average_dE_dx[energy] = copy(v_average_dE_dx)\n",
    "        dir_equen_diff_energy[energy] = copy(v_equen)\n",
    "    dir_v_average_dE_dx_diff_particle[particle] = copy(dir_v_average_dE_dx)\n",
    "    dir_equen_diff_particle[particle] = copy(dir_equen_diff_energy)\n"
   ],
   "metadata": {
    "collapsed": false,
    "pycharm": {
     "name": "#%%\n"
    }
   }
  },
  {
   "cell_type": "code",
   "execution_count": null,
   "outputs": [],
   "source": [
    "# for particle in [\"proton\", \"e+\", \"neutron\"]:\n",
    "#     for energy in tqdm.trange(2, 102,10):\n",
    "#         track_tool.SetDataset(f\"root://junoeos01.ihep.ac.cn//eos/juno/user/luoxj/Sim_DSNB/{particle}_0_0_0/detsim-no-optical/user-root/user-detsim-{energy}.root\")\n",
    "#         for j in range(1000):\n",
    "\n"
   ],
   "metadata": {
    "collapsed": false,
    "pycharm": {
     "name": "#%%\n"
    }
   }
  },
  {
   "cell_type": "code",
   "execution_count": null,
   "outputs": [],
   "source": [
    "print(dir_v_average_dE_dx_diff_particle)\n",
    "bins = np.linspace(0, 50, 100)\n",
    "dir_bins_diff_particle = {\"proton\"}\n",
    "for particle in dir_v_average_dE_dx_diff_particle.keys():\n",
    "    plt.figure()\n",
    "    for energy, v_average_dE_dx in dir_v_average_dE_dx_diff_particle[particle].items():\n",
    "        if energy>62:\n",
    "            continue\n",
    "        plt.hist(v_average_dE_dx, bins=bins, histtype=\"step\",\n",
    "                 label=f\"Edep={energy}, Equen={np.mean(dir_equen_diff_particle[particle][energy]):.1f} MeV\")\n",
    "        plt.title(f\"Average dE/dx ({particle})\")\n",
    "        plt.xlabel(\"dE/dx [ MeV/mm ]\")\n",
    "    plt.legend()\n",
    "    plt.savefig(f\"./figure/{particle}_average_dE_dx.png\")\n"
   ],
   "metadata": {
    "collapsed": false,
    "pycharm": {
     "name": "#%%\n"
    }
   }
  }
 ],
 "metadata": {
  "kernelspec": {
   "display_name": "Python 3",
   "language": "python",
   "name": "python3"
  },
  "language_info": {
   "codemirror_mode": {
    "name": "ipython",
    "version": 2
   },
   "file_extension": ".py",
   "mimetype": "text/x-python",
   "name": "python",
   "nbconvert_exporter": "python",
   "pygments_lexer": "ipython2",
   "version": "2.7.6"
  }
 },
 "nbformat": 4,
 "nbformat_minor": 0
}